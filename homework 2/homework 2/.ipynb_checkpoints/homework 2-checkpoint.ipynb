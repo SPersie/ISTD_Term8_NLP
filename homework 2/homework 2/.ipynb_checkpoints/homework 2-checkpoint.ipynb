{
 "cells": [
  {
   "cell_type": "markdown",
   "metadata": {
    "colab_type": "text",
    "id": "ok9xpaI-uyUT"
   },
   "source": [
    "![sutd](imgs/sutd.png)\n",
    "## <center>50.040 Natural Language Processing, Summer 2019<center>\n",
    "<center>**Homework 2**\n",
    "\n",
    "<center>**Due 5 July 2019, 5pm** <center>"
   ]
  },
  {
   "cell_type": "markdown",
   "metadata": {
    "colab_type": "text",
    "id": "WHLjIQokuyUV"
   },
   "source": [
    "**Write your student ID and name**\n",
    "\n",
    "ID: 1002189\n",
    "\n",
    "Name: Li Xingxuan\n",
    "\n",
    "Students with whom you have discussed (if any):"
   ]
  },
  {
   "cell_type": "markdown",
   "metadata": {
    "colab_type": "text",
    "id": "F7rJYYMnuyUW"
   },
   "source": [
    "### Requirements:\n",
    "- Use Python to complete this homework.\n",
    "- Please list students with whom you have discussed (if any).\n",
    "- Follow the honor code strictly.\n",
    "- Submit this ipynb file on eDimension before the deadline."
   ]
  },
  {
   "cell_type": "markdown",
   "metadata": {
    "colab_type": "text",
    "id": "B8OQF8DZuyUY"
   },
   "source": [
    "## Introduction\n",
    "Constituency parsing aims to extract a constituency-based parse tree from a sentence that represents its syntactic structure according to a phrase structure grammar.\n",
    "\n",
    "A typical constituency parse tree is shown below:\n",
    "\n",
    "![tree](imgs/parse_tree.png)\n",
    "\n",
    "$S$ is a distinguished start symbol, node labels such as $NP$(noun phrase), $VP$(verb phrase) are non-terminal symbols, leaf labels such as \"a\", \"banana\" are terminal symbols.\n",
    "\n",
    "In this homework, we will be implementing a constituency parser based on probabilistic context-free grammars (PCFGs) and evaluate its performance."
   ]
  },
  {
   "cell_type": "markdown",
   "metadata": {
    "colab_type": "text",
    "id": "uhWbyjQMuyUZ"
   },
   "source": [
    "## Dataset\n",
    "\n",
    "We will be using a version of the [Penn Treebank](http://citeseerx.ist.psu.edu/viewdoc/download?doi=10.1.1.9.8216&rep=rep1&type=pdf) released in [NLTK corpora](http://www.nltk.org/nltk_data/) to induce PCFGs and evaluate our algorithm. \n",
    "\n",
    "The preprocessing code has been provided, **do not make any changes to the texts and code unless you are requested to do so.** Run the code below to load the training and test sets as Python lists, it will take ~1 minute.\n",
    "\n",
    "Since we will not be tuning hyper-parameters for this homework, there will be no need for a development set."
   ]
  },
  {
   "cell_type": "code",
   "execution_count": 1,
   "metadata": {
    "colab": {},
    "colab_type": "code",
    "id": "K3VThG6AuyUZ"
   },
   "outputs": [],
   "source": [
    "import nltk\n",
    "# nltk.download('treebank')"
   ]
  },
  {
   "cell_type": "code",
   "execution_count": 2,
   "metadata": {
    "colab": {},
    "colab_type": "code",
    "id": "EJ_WLuC7uyUb"
   },
   "outputs": [],
   "source": [
    "from util import get_train_test_data"
   ]
  },
  {
   "cell_type": "code",
   "execution_count": 3,
   "metadata": {
    "colab": {},
    "colab_type": "code",
    "id": "8V8JI2gfuyUe"
   },
   "outputs": [],
   "source": [
    "#cnf_trees_train: training set, a list of parse trees\n",
    "#cnf_trees_test: test set, a list of parse trees\n",
    "cnf_trees_train, cnf_trees_test = get_train_test_data()"
   ]
  },
  {
   "cell_type": "markdown",
   "metadata": {
    "colab_type": "text",
    "id": "Zpy9gpyLuyUh"
   },
   "source": [
    "Each parse tree is of the [nltk.tree.Tree](https://www.nltk.org/_modules/nltk/tree.html) type and has been converted to the Chomsky normal form. Let us look at a sample parse tree in the training set:"
   ]
  },
  {
   "cell_type": "code",
   "execution_count": 4,
   "metadata": {
    "colab": {},
    "colab_type": "code",
    "id": "UY1_rx5GuyUi",
    "outputId": "d6227980-6126-4ae1-e5c6-a9b43d4d4eb2"
   },
   "outputs": [
    {
     "data": {
      "image/png": "[encoded data removed]",
      "text/plain": [
       "Tree('S', [Tree('NP', [Tree('NP', [Tree('NNP', ['pierre']), Tree('NNP', ['vinken'])]), Tree('NP', [Tree(',', [',']), Tree('NP', [Tree('ADJP', [Tree('NP', [Tree('CD', ['61']), Tree('NNS', ['years'])]), Tree('JJ', ['old'])]), Tree(',', [','])])])]), Tree('S', [Tree('VP', [Tree('MD', ['will']), Tree('VP', [Tree('VB', ['join']), Tree('VP', [Tree('NP', [Tree('DT', ['the']), Tree('NN', ['board'])]), Tree('VP', [Tree('PP', [Tree('IN', ['as']), Tree('NP', [Tree('DT', ['a']), Tree('NP', [Tree('JJ', ['nonexecutive']), Tree('NN', ['director'])])])]), Tree('NP', [Tree('NNP', ['nov.']), Tree('CD', ['29'])])])])])]), Tree('.', ['.'])])])"
      ]
     },
     "execution_count": 4,
     "metadata": {},
     "output_type": "execute_result"
    }
   ],
   "source": [
    "cnf_trees_train[0]"
   ]
  },
  {
   "cell_type": "markdown",
   "metadata": {
    "colab_type": "text",
    "id": "nWc7JMXduyUm"
   },
   "source": [
    "## PCFG\n",
    "\n",
    "A probabilistic context-free grammar consists of:\n",
    "- A context-free grammar $G=(N, \\ \\Sigma, \\ S, \\ R)$ where $N$ is a finite set of non-terminal symbols, $\\Sigma$ is a finite set of terminal symbols, $R$ is a finite set of rules (e.g., $NP \\rightarrow NP \\ PP$), $S \\in N$ is the start symbol.\n",
    "- One parameter $q(A \\rightarrow \\beta)$ for each rule $A \\rightarrow \\beta$ in $R$. Since the grammar is in Chomsky normal form, there are only two types of rules: $A \\rightarrow B \\ C$ and $A \\rightarrow \\alpha$, where $A$, $B$, $C \\in N$, $\\alpha \\in \\Sigma$.\n",
    "\n",
    "We can estimate the parameter $q(A \\rightarrow \\beta)$ using maximum likelihood estimation:\n",
    "\n",
    "$$q_{MLE}(A \\rightarrow \\beta) = \\frac {count(A \\rightarrow \\beta)}{count(A)}$$\n",
    "where $count(A \\rightarrow \\beta)$ refers to the number of times we can observe the rule $A \\rightarrow \\beta$ in all the parse trees in the training set, and  $count(A)$  refers to the number of times we can see the non-terminal symbol $A$."
   ]
  },
  {
   "cell_type": "markdown",
   "metadata": {
    "colab_type": "text",
    "id": "cIOrq0lXuyUm"
   },
   "source": [
    "### Task 1 (6 points)\n",
    "\n",
    "Starting from a single parse tree:\n",
    "- First of all, let us only consider the first parse tree in the training set. List down all the unique grammar rules, unique non-terminal symbols, and unique terminal symbols that appear in this first parse tree from the training set.\n",
    "\n",
    "Hint: [nltk.tree.Tree](https://www.nltk.org/_modules/nltk/tree.html) class provides many methods to get features of a tree. **Don't make any changes to the trees.**"
   ]
  },
  {
   "cell_type": "code",
   "execution_count": 5,
   "metadata": {
    "colab": {},
    "colab_type": "code",
    "id": "xiS4m4oMuyUn"
   },
   "outputs": [
    {
     "name": "stdout",
     "output_type": "stream",
     "text": [
      "Help on Tree in module nltk.tree object:\n",
      "\n",
      "class Tree(builtins.list)\n",
      " |  A Tree represents a hierarchical grouping of leaves and subtrees.\n",
      " |  For example, each constituent in a syntax tree is represented by a single Tree.\n",
      " |  \n",
      " |  A tree's children are encoded as a list of leaves and subtrees,\n",
      " |  where a leaf is a basic (non-tree) value; and a subtree is a\n",
      " |  nested Tree.\n",
      " |  \n",
      " |      >>> from nltk.tree import Tree\n",
      " |      >>> print(Tree(1, [2, Tree(3, [4]), 5]))\n",
      " |      (1 2 (3 4) 5)\n",
      " |      >>> vp = Tree('VP', [Tree('V', ['saw']),\n",
      " |      ...                  Tree('NP', ['him'])])\n",
      " |      >>> s = Tree('S', [Tree('NP', ['I']), vp])\n",
      " |      >>> print(s)\n",
      " |      (S (NP I) (VP (V saw) (NP him)))\n",
      " |      >>> print(s[1])\n",
      " |      (VP (V saw) (NP him))\n",
      " |      >>> print(s[1,1])\n",
      " |      (NP him)\n",
      " |      >>> t = Tree.fromstring(\"(S (NP I) (VP (V saw) (NP him)))\")\n",
      " |      >>> s == t\n",
      " |      True\n",
      " |      >>> t[1][1].set_label('X')\n",
      " |      >>> t[1][1].label()\n",
      " |      'X'\n",
      " |      >>> print(t)\n",
      " |      (S (NP I) (VP (V saw) (X him)))\n",
      " |      >>> t[0], t[1,1] = t[1,1], t[0]\n",
      " |      >>> print(t)\n",
      " |      (S (X him) (VP (V saw) (NP I)))\n",
      " |  \n",
      " |  The length of a tree is the number of children it has.\n",
      " |  \n",
      " |      >>> len(t)\n",
      " |      2\n",
      " |  \n",
      " |  The set_label() and label() methods allow individual constituents\n",
      " |  to be labeled.  For example, syntax trees use this label to specify\n",
      " |  phrase tags, such as \"NP\" and \"VP\".\n",
      " |  \n",
      " |  Several Tree methods use \"tree positions\" to specify\n",
      " |  children or descendants of a tree.  Tree positions are defined as\n",
      " |  follows:\n",
      " |  \n",
      " |    - The tree position *i* specifies a Tree's *i*\\ th child.\n",
      " |    - The tree position ``()`` specifies the Tree itself.\n",
      " |    - If *p* is the tree position of descendant *d*, then\n",
      " |      *p+i* specifies the *i*\\ th child of *d*.\n",
      " |  \n",
      " |  I.e., every tree position is either a single index *i*,\n",
      " |  specifying ``tree[i]``; or a sequence *i1, i2, ..., iN*,\n",
      " |  specifying ``tree[i1][i2]...[iN]``.\n",
      " |  \n",
      " |  Construct a new tree.  This constructor can be called in one\n",
      " |  of two ways:\n",
      " |  \n",
      " |  - ``Tree(label, children)`` constructs a new tree with the\n",
      " |      specified label and list of children.\n",
      " |  \n",
      " |  - ``Tree.fromstring(s)`` constructs a new tree by parsing the string ``s``.\n",
      " |  \n",
      " |  Method resolution order:\n",
      " |      Tree\n",
      " |      builtins.list\n",
      " |      builtins.object\n",
      " |  \n",
      " |  Methods defined here:\n",
      " |  \n",
      " |  __add__(self, v)\n",
      " |      Return self+value.\n",
      " |  \n",
      " |  __delitem__(self, index)\n",
      " |      Delete self[key].\n",
      " |  \n",
      " |  __eq__(self, other)\n",
      " |      Return self==value.\n",
      " |  \n",
      " |  __ge__ lambda self, other\n",
      " |  \n",
      " |  __getitem__(self, index)\n",
      " |      x.__getitem__(y) <==> x[y]\n",
      " |  \n",
      " |  __gt__ lambda self, other\n",
      " |  \n",
      " |  __init__(self, node, children=None)\n",
      " |      Initialize self.  See help(type(self)) for accurate signature.\n",
      " |  \n",
      " |  __le__ lambda self, other\n",
      " |  \n",
      " |  __lt__(self, other)\n",
      " |      Return self<value.\n",
      " |  \n",
      " |  __mul__(self, v)\n",
      " |      Return self*value.\n",
      " |  \n",
      " |  __ne__ lambda self, other\n",
      " |      # @total_ordering doesn't work here, since the class inherits from a builtin class\n",
      " |  \n",
      " |  __radd__(self, v)\n",
      " |  \n",
      " |  __repr__(self)\n",
      " |      Return repr(self).\n",
      " |  \n",
      " |  __rmul__(self, v)\n",
      " |      Return value*self.\n",
      " |  \n",
      " |  __setitem__(self, index, value)\n",
      " |      Set self[key] to value.\n",
      " |  \n",
      " |  __str__(self)\n",
      " |      Return str(self).\n",
      " |  \n",
      " |  __unicode__ = __str__(self)\n",
      " |  \n",
      " |  chomsky_normal_form(self, factor='right', horzMarkov=None, vertMarkov=0, childChar='|', parentChar='^')\n",
      " |      This method can modify a tree in three ways:\n",
      " |      \n",
      " |        1. Convert a tree into its Chomsky Normal Form (CNF)\n",
      " |           equivalent -- Every subtree has either two non-terminals\n",
      " |           or one terminal as its children.  This process requires\n",
      " |           the creation of more\"artificial\" non-terminal nodes.\n",
      " |        2. Markov (vertical) smoothing of children in new artificial\n",
      " |           nodes\n",
      " |        3. Horizontal (parent) annotation of nodes\n",
      " |      \n",
      " |      :param factor: Right or left factoring method (default = \"right\")\n",
      " |      :type  factor: str = [left|right]\n",
      " |      :param horzMarkov: Markov order for sibling smoothing in artificial nodes (None (default) = include all siblings)\n",
      " |      :type  horzMarkov: int | None\n",
      " |      :param vertMarkov: Markov order for parent smoothing (0 (default) = no vertical annotation)\n",
      " |      :type  vertMarkov: int | None\n",
      " |      :param childChar: A string used in construction of the artificial nodes, separating the head of the\n",
      " |                        original subtree from the child nodes that have yet to be expanded (default = \"|\")\n",
      " |      :type  childChar: str\n",
      " |      :param parentChar: A string used to separate the node representation from its vertical annotation\n",
      " |      :type  parentChar: str\n",
      " |  \n",
      " |  collapse_unary(self, collapsePOS=False, collapseRoot=False, joinChar='+')\n",
      " |      Collapse subtrees with a single child (ie. unary productions)\n",
      " |      into a new non-terminal (Tree node) joined by 'joinChar'.\n",
      " |      This is useful when working with algorithms that do not allow\n",
      " |      unary productions, and completely removing the unary productions\n",
      " |      would require loss of useful information.  The Tree is modified\n",
      " |      directly (since it is passed by reference) and no value is returned.\n",
      " |      \n",
      " |      :param collapsePOS: 'False' (default) will not collapse the parent of leaf nodes (ie.\n",
      " |                          Part-of-Speech tags) since they are always unary productions\n",
      " |      :type  collapsePOS: bool\n",
      " |      :param collapseRoot: 'False' (default) will not modify the root production\n",
      " |                           if it is unary.  For the Penn WSJ treebank corpus, this corresponds\n",
      " |                           to the TOP -> productions.\n",
      " |      :type collapseRoot: bool\n",
      " |      :param joinChar: A string used to connect collapsed node values (default = \"+\")\n",
      " |      :type  joinChar: str\n",
      " |  \n",
      " |  copy(self, deep=False)\n",
      " |      L.copy() -> list -- a shallow copy of L\n",
      " |  \n",
      " |  draw(self)\n",
      " |      Open a new window containing a graphical diagram of this tree.\n",
      " |  \n",
      " |  flatten(self)\n",
      " |      Return a flat version of the tree, with all non-root non-terminals removed.\n",
      " |      \n",
      " |          >>> t = Tree.fromstring(\"(S (NP (D the) (N dog)) (VP (V chased) (NP (D the) (N cat))))\")\n",
      " |          >>> print(t.flatten())\n",
      " |          (S the dog chased the cat)\n",
      " |      \n",
      " |      :return: a tree consisting of this tree's root connected directly to\n",
      " |          its leaves, omitting all intervening non-terminal nodes.\n",
      " |      :rtype: Tree\n",
      " |  \n",
      " |  freeze(self, leaf_freezer=None)\n",
      " |  \n",
      " |  height(self)\n",
      " |      Return the height of the tree.\n",
      " |      \n",
      " |          >>> t = Tree.fromstring(\"(S (NP (D the) (N dog)) (VP (V chased) (NP (D the) (N cat))))\")\n",
      " |          >>> t.height()\n",
      " |          5\n",
      " |          >>> print(t[0,0])\n",
      " |          (D the)\n",
      " |          >>> t[0,0].height()\n",
      " |          2\n",
      " |      \n",
      " |      :return: The height of this tree.  The height of a tree\n",
      " |          containing no children is 1; the height of a tree\n",
      " |          containing only leaves is 2; and the height of any other\n",
      " |          tree is one plus the maximum of its children's\n",
      " |          heights.\n",
      " |      :rtype: int\n",
      " |  \n",
      " |  label(self)\n",
      " |      Return the node label of the tree.\n",
      " |      \n",
      " |          >>> t = Tree.fromstring('(S (NP (D the) (N dog)) (VP (V chased) (NP (D the) (N cat))))')\n",
      " |          >>> t.label()\n",
      " |          'S'\n",
      " |      \n",
      " |      :return: the node label (typically a string)\n",
      " |      :rtype: any\n",
      " |  \n",
      " |  leaf_treeposition(self, index)\n",
      " |      :return: The tree position of the ``index``-th leaf in this\n",
      " |          tree.  I.e., if ``tp=self.leaf_treeposition(i)``, then\n",
      " |          ``self[tp]==self.leaves()[i]``.\n",
      " |      \n",
      " |      :raise IndexError: If this tree contains fewer than ``index+1``\n",
      " |          leaves, or if ``index<0``.\n",
      " |  \n",
      " |  leaves(self)\n",
      " |      Return the leaves of the tree.\n",
      " |      \n",
      " |          >>> t = Tree.fromstring(\"(S (NP (D the) (N dog)) (VP (V chased) (NP (D the) (N cat))))\")\n",
      " |          >>> t.leaves()\n",
      " |          ['the', 'dog', 'chased', 'the', 'cat']\n",
      " |      \n",
      " |      :return: a list containing this tree's leaves.\n",
      " |          The order reflects the order of the\n",
      " |          leaves in the tree's hierarchical structure.\n",
      " |      :rtype: list\n",
      " |  \n",
      " |  pformat(self, margin=70, indent=0, nodesep='', parens='()', quotes=False)\n",
      " |      :return: A pretty-printed string representation of this tree.\n",
      " |      :rtype: str\n",
      " |      :param margin: The right margin at which to do line-wrapping.\n",
      " |      :type margin: int\n",
      " |      :param indent: The indentation level at which printing\n",
      " |          begins.  This number is used to decide how far to indent\n",
      " |          subsequent lines.\n",
      " |      :type indent: int\n",
      " |      :param nodesep: A string that is used to separate the node\n",
      " |          from the children.  E.g., the default value ``':'`` gives\n",
      " |          trees like ``(S: (NP: I) (VP: (V: saw) (NP: it)))``.\n",
      " |  \n",
      " |  pformat_latex_qtree(self)\n",
      " |      Returns a representation of the tree compatible with the\n",
      " |      LaTeX qtree package. This consists of the string ``\\Tree``\n",
      " |      followed by the tree represented in bracketed notation.\n",
      " |      \n",
      " |      For example, the following result was generated from a parse tree of\n",
      " |      the sentence ``The announcement astounded us``::\n",
      " |      \n",
      " |        \\Tree [.I'' [.N'' [.D The ] [.N' [.N announcement ] ] ]\n",
      " |            [.I' [.V'' [.V' [.V astounded ] [.N'' [.N' [.N us ] ] ] ] ] ] ]\n",
      " |      \n",
      " |      See http://www.ling.upenn.edu/advice/latex.html for the LaTeX\n",
      " |      style file for the qtree package.\n",
      " |      \n",
      " |      :return: A latex qtree representation of this tree.\n",
      " |      :rtype: str\n",
      " |  \n",
      " |  pos(self)\n",
      " |      Return a sequence of pos-tagged words extracted from the tree.\n",
      " |      \n",
      " |          >>> t = Tree.fromstring(\"(S (NP (D the) (N dog)) (VP (V chased) (NP (D the) (N cat))))\")\n",
      " |          >>> t.pos()\n",
      " |          [('the', 'D'), ('dog', 'N'), ('chased', 'V'), ('the', 'D'), ('cat', 'N')]\n",
      " |      \n",
      " |      :return: a list of tuples containing leaves and pre-terminals (part-of-speech tags).\n",
      " |          The order reflects the order of the leaves in the tree's hierarchical structure.\n",
      " |      :rtype: list(tuple)\n",
      " |  \n",
      " |  pprint(self, **kwargs)\n",
      " |      Print a string representation of this Tree to 'stream'\n",
      " |  \n",
      " |  pretty_print(self, sentence=None, highlight=(), stream=None, **kwargs)\n",
      " |      Pretty-print this tree as ASCII or Unicode art.\n",
      " |      For explanation of the arguments, see the documentation for\n",
      " |      `nltk.treeprettyprinter.TreePrettyPrinter`.\n",
      " |  \n",
      " |  productions(self)\n",
      " |      Generate the productions that correspond to the non-terminal nodes of the tree.\n",
      " |      For each subtree of the form (P: C1 C2 ... Cn) this produces a production of the\n",
      " |      form P -> C1 C2 ... Cn.\n",
      " |      \n",
      " |          >>> t = Tree.fromstring(\"(S (NP (D the) (N dog)) (VP (V chased) (NP (D the) (N cat))))\")\n",
      " |          >>> t.productions()\n",
      " |          [S -> NP VP, NP -> D N, D -> 'the', N -> 'dog', VP -> V NP, V -> 'chased',\n",
      " |          NP -> D N, D -> 'the', N -> 'cat']\n",
      " |      \n",
      " |      :rtype: list(Production)\n",
      " |  \n",
      " |  set_label(self, label)\n",
      " |      Set the node label of the tree.\n",
      " |      \n",
      " |          >>> t = Tree.fromstring(\"(S (NP (D the) (N dog)) (VP (V chased) (NP (D the) (N cat))))\")\n",
      " |          >>> t.set_label(\"T\")\n",
      " |          >>> print(t)\n",
      " |          (T (NP (D the) (N dog)) (VP (V chased) (NP (D the) (N cat))))\n",
      " |      \n",
      " |      :param label: the node label (typically a string)\n",
      " |      :type label: any\n",
      " |  \n",
      " |  subtrees(self, filter=None)\n",
      " |      Generate all the subtrees of this tree, optionally restricted\n",
      " |      to trees matching the filter function.\n",
      " |      \n",
      " |          >>> t = Tree.fromstring(\"(S (NP (D the) (N dog)) (VP (V chased) (NP (D the) (N cat))))\")\n",
      " |          >>> for s in t.subtrees(lambda t: t.height() == 2):\n",
      " |          ...     print(s)\n",
      " |          (D the)\n",
      " |          (N dog)\n",
      " |          (V chased)\n",
      " |          (D the)\n",
      " |          (N cat)\n",
      " |      \n",
      " |      :type filter: function\n",
      " |      :param filter: the function to filter all local trees\n",
      " |  \n",
      " |  treeposition_spanning_leaves(self, start, end)\n",
      " |      :return: The tree position of the lowest descendant of this\n",
      " |          tree that dominates ``self.leaves()[start:end]``.\n",
      " |      :raise ValueError: if ``end <= start``\n",
      " |  \n",
      " |  treepositions(self, order='preorder')\n",
      " |          >>> t = Tree.fromstring(\"(S (NP (D the) (N dog)) (VP (V chased) (NP (D the) (N cat))))\")\n",
      " |          >>> t.treepositions() # doctest: +ELLIPSIS\n",
      " |          [(), (0,), (0, 0), (0, 0, 0), (0, 1), (0, 1, 0), (1,), (1, 0), (1, 0, 0), ...]\n",
      " |          >>> for pos in t.treepositions('leaves'):\n",
      " |          ...     t[pos] = t[pos][::-1].upper()\n",
      " |          >>> print(t)\n",
      " |          (S (NP (D EHT) (N GOD)) (VP (V DESAHC) (NP (D EHT) (N TAC))))\n",
      " |      \n",
      " |      :param order: One of: ``preorder``, ``postorder``, ``bothorder``,\n",
      " |          ``leaves``.\n",
      " |  \n",
      " |  un_chomsky_normal_form(self, expandUnary=True, childChar='|', parentChar='^', unaryChar='+')\n",
      " |      This method modifies the tree in three ways:\n",
      " |      \n",
      " |        1. Transforms a tree in Chomsky Normal Form back to its\n",
      " |           original structure (branching greater than two)\n",
      " |        2. Removes any parent annotation (if it exists)\n",
      " |        3. (optional) expands unary subtrees (if previously\n",
      " |           collapsed with collapseUnary(...) )\n",
      " |      \n",
      " |      :param expandUnary: Flag to expand unary or not (default = True)\n",
      " |      :type  expandUnary: bool\n",
      " |      :param childChar: A string separating the head node from its children in an artificial node (default = \"|\")\n",
      " |      :type  childChar: str\n",
      " |      :param parentChar: A sting separating the node label from its parent annotation (default = \"^\")\n",
      " |      :type  parentChar: str\n",
      " |      :param unaryChar: A string joining two non-terminals in a unary production (default = \"+\")\n",
      " |      :type  unaryChar: str\n",
      " |  \n",
      " |  unicode_repr = __repr__(self)\n",
      " |  \n",
      " |  ----------------------------------------------------------------------\n",
      " |  Class methods defined here:\n",
      " |  \n",
      " |  convert(tree) from builtins.type\n",
      " |      Convert a tree between different subtypes of Tree.  ``cls`` determines\n",
      " |      which class will be used to encode the new tree.\n",
      " |      \n",
      " |      :type tree: Tree\n",
      " |      :param tree: The tree that should be converted.\n",
      " |      :return: The new Tree.\n",
      " |  \n",
      " |  fromstring(s, brackets='()', read_node=None, read_leaf=None, node_pattern=None, leaf_pattern=None, remove_empty_top_bracketing=False) from builtins.type\n",
      " |      Read a bracketed tree string and return the resulting tree.\n",
      " |      Trees are represented as nested brackettings, such as::\n",
      " |      \n",
      " |        (S (NP (NNP John)) (VP (V runs)))\n",
      " |      \n",
      " |      :type s: str\n",
      " |      :param s: The string to read\n",
      " |      \n",
      " |      :type brackets: str (length=2)\n",
      " |      :param brackets: The bracket characters used to mark the\n",
      " |          beginning and end of trees and subtrees.\n",
      " |      \n",
      " |      :type read_node: function\n",
      " |      :type read_leaf: function\n",
      " |      :param read_node, read_leaf: If specified, these functions\n",
      " |          are applied to the substrings of ``s`` corresponding to\n",
      " |          nodes and leaves (respectively) to obtain the values for\n",
      " |          those nodes and leaves.  They should have the following\n",
      " |          signature:\n",
      " |      \n",
      " |             read_node(str) -> value\n",
      " |      \n",
      " |          For example, these functions could be used to process nodes\n",
      " |          and leaves whose values should be some type other than\n",
      " |          string (such as ``FeatStruct``).\n",
      " |          Note that by default, node strings and leaf strings are\n",
      " |          delimited by whitespace and brackets; to override this\n",
      " |          default, use the ``node_pattern`` and ``leaf_pattern``\n",
      " |          arguments.\n",
      " |      \n",
      " |      :type node_pattern: str\n",
      " |      :type leaf_pattern: str\n",
      " |      :param node_pattern, leaf_pattern: Regular expression patterns\n",
      " |          used to find node and leaf substrings in ``s``.  By\n",
      " |          default, both nodes patterns are defined to match any\n",
      " |          sequence of non-whitespace non-bracket characters.\n",
      " |      \n",
      " |      :type remove_empty_top_bracketing: bool\n",
      " |      :param remove_empty_top_bracketing: If the resulting tree has\n",
      " |          an empty node label, and is length one, then return its\n",
      " |          single child instead.  This is useful for treebank trees,\n",
      " |          which sometimes contain an extra level of bracketing.\n",
      " |      \n",
      " |      :return: A tree corresponding to the string representation ``s``.\n",
      " |          If this class method is called using a subclass of Tree,\n",
      " |          then it will return a tree of that type.\n",
      " |      :rtype: Tree\n",
      " |  \n",
      " |  ----------------------------------------------------------------------\n",
      " |  Data descriptors defined here:\n",
      " |  \n",
      " |  __dict__\n",
      " |      dictionary for instance variables (if defined)\n",
      " |  \n",
      " |  __weakref__\n",
      " |      list of weak references to the object (if defined)\n",
      " |  \n",
      " |  node\n",
      " |      Outdated method to access the node value; use the label() method instead.\n",
      " |  \n",
      " |  ----------------------------------------------------------------------\n",
      " |  Data and other attributes defined here:\n",
      " |  \n",
      " |  __hash__ = None\n",
      " |  \n",
      " |  __slotnames__ = []\n",
      " |  \n",
      " |  ----------------------------------------------------------------------\n",
      " |  Methods inherited from builtins.list:\n",
      " |  \n",
      " |  __contains__(self, key, /)\n",
      " |      Return key in self.\n",
      " |  \n",
      " |  __getattribute__(self, name, /)\n",
      " |      Return getattr(self, name).\n",
      " |  \n",
      " |  __iadd__(self, value, /)\n",
      " |      Implement self+=value.\n",
      " |  \n",
      " |  __imul__(self, value, /)\n",
      " |      Implement self*=value.\n",
      " |  \n",
      " |  __iter__(self, /)\n",
      " |      Implement iter(self).\n",
      " |  \n",
      " |  __len__(self, /)\n",
      " |      Return len(self).\n",
      " |  \n",
      " |  __new__(*args, **kwargs) from builtins.type\n",
      " |      Create and return a new object.  See help(type) for accurate signature.\n",
      " |  \n",
      " |  __reversed__(...)\n",
      " |      L.__reversed__() -- return a reverse iterator over the list\n",
      " |  \n",
      " |  __sizeof__(...)\n",
      " |      L.__sizeof__() -- size of L in memory, in bytes\n",
      " |  \n",
      " |  append(...)\n",
      " |      L.append(object) -> None -- append object to end\n",
      " |  \n",
      " |  clear(...)\n",
      " |      L.clear() -> None -- remove all items from L\n",
      " |  \n",
      " |  count(...)\n",
      " |      L.count(value) -> integer -- return number of occurrences of value\n",
      " |  \n",
      " |  extend(...)\n",
      " |      L.extend(iterable) -> None -- extend list by appending elements from the iterable\n",
      " |  \n",
      " |  index(...)\n",
      " |      L.index(value, [start, [stop]]) -> integer -- return first index of value.\n",
      " |      Raises ValueError if the value is not present.\n",
      " |  \n",
      " |  insert(...)\n",
      " |      L.insert(index, object) -- insert object before index\n",
      " |  \n",
      " |  pop(...)\n",
      " |      L.pop([index]) -> item -- remove and return item at index (default last).\n",
      " |      Raises IndexError if list is empty or index is out of range.\n",
      " |  \n",
      " |  remove(...)\n",
      " |      L.remove(value) -> None -- remove first occurrence of value.\n",
      " |      Raises ValueError if the value is not present.\n",
      " |  \n",
      " |  reverse(...)\n",
      " |      L.reverse() -- reverse *IN PLACE*\n",
      " |  \n",
      " |  sort(...)\n",
      " |      L.sort(key=None, reverse=False) -> None -- stable sort *IN PLACE*\n",
      "\n"
     ]
    }
   ],
   "source": [
    "#Check the methods of a parse tree of nltk.tree.Tree type\n",
    "help(cnf_trees_train[0])"
   ]
  },
  {
   "cell_type": "code",
   "execution_count": 6,
   "metadata": {
    "colab": {},
    "colab_type": "code",
    "id": "1j0ufc7guyUp"
   },
   "outputs": [
    {
     "name": "stdout",
     "output_type": "stream",
     "text": [
      "Unique grammar rules\n",
      "{CD -> '29', VP -> PP NP, DT -> 'the', VP -> NP VP, NP -> CD NNS, NP -> JJ NN, VP -> VB VP, NP -> DT NP, NNP -> 'vinken', ADJP -> NP JJ, MD -> 'will', CD -> '61', JJ -> 'old', . -> '.', NP -> NNP CD, NP -> , NP, NNS -> 'years', NN -> 'board', VB -> 'join', NN -> 'director', NP -> NNP NNP, S -> VP ., IN -> 'as', PP -> IN NP, DT -> 'a', NP -> ADJP ,, , -> ',', NNP -> 'nov.', VP -> MD VP, NNP -> 'pierre', JJ -> 'nonexecutive', NP -> DT NN, S -> NP S, NP -> NP NP} \n",
      "\n",
      "Unique non-terminal symbols\n",
      "{'NNS', 'VP', 'VB', '.', 'JJ', 'NNP', 'DT', 'ADJP', ',', 'MD', 'PP', 'NP', 'S', 'NN', 'IN', 'CD'} \n",
      "\n",
      "Unique terminal symbols\n",
      "{'pierre', 'nonexecutive', '61', 'a', '29', 'the', 'old', 'board', 'nov.', '.', 'join', ',', 'vinken', 'as', 'will', 'years', 'director'} \n",
      "\n"
     ]
    }
   ],
   "source": [
    "#Write your code here\n",
    "from nltk import grammar\n",
    "\n",
    "## unique grammar rules\n",
    "t1_grammar_rules = cnf_trees_train[0].productions()\n",
    "print('Unique grammar rules')\n",
    "print(set(t1_grammar_rules), '\\n')\n",
    "\n",
    "## unique non-terminal symbols\n",
    "t1_non_terminal = [i.label() for i in cnf_trees_train[0].subtrees()]\n",
    "print('Unique non-terminal symbols')\n",
    "print(set(t1_non_terminal), '\\n')\n",
    "\n",
    "## unique terminal symbols\n",
    "t1_terminal = cnf_trees_train[0].leaves()\n",
    "print('Unique terminal symbols')\n",
    "print(set(t1_terminal), '\\n')"
   ]
  },
  {
   "cell_type": "markdown",
   "metadata": {
    "colab_type": "text",
    "id": "zvrtosr-uyUq"
   },
   "source": [
    "There is an underlying PCFG used for parsing the sentences in the training set. To find out this PCFG, what we can do is to visit each parse tree that appears in the training set, and collect some useful information from each parse tree. Let us start with the following:\n",
    "- Obtain all the grammar rules, non-terminal symbols, and terminal symbols.\n",
    "- Show the numbers of unique non-terminal symbols, unique terminal symbols, and unique grammar rules. \n",
    "- List 10 most frequent grammar rules."
   ]
  },
  {
   "cell_type": "code",
   "execution_count": 7,
   "metadata": {
    "colab": {},
    "colab_type": "code",
    "id": "h9GWbp_duyUq"
   },
   "outputs": [],
   "source": [
    "#Write your code here\n",
    "rules = {}\n",
    "non_terminal = {}\n",
    "terminal = {}\n",
    "\n",
    "for i in cnf_trees_train:\n",
    "    temp_rule = i.productions()\n",
    "    for j in temp_rule:\n",
    "        if j in rules:\n",
    "            rules[j] += 1\n",
    "        else:\n",
    "            rules[j] = 1\n",
    "            \n",
    "    temp_non_terminal = [k.label() for k in i.subtrees()]\n",
    "    for j in temp_non_terminal:\n",
    "        if j in non_terminal:\n",
    "            non_terminal[j] +=1\n",
    "        else:\n",
    "            non_terminal[j] = 1\n",
    "    \n",
    "    temp_terminal = i.leaves()\n",
    "    for j in temp_terminal:\n",
    "        if j in terminal:\n",
    "            terminal[j] += 1\n",
    "        else:\n",
    "            terminal[j] = 1"
   ]
  },
  {
   "cell_type": "code",
   "execution_count": 8,
   "metadata": {},
   "outputs": [
    {
     "name": "stdout",
     "output_type": "stream",
     "text": [
      "Number of unique grammar rules is 14603\n",
      "[(PP -> IN NP, 6117), (, -> ',', 4758), (DT -> 'the', 4590), (NP -> DT NP, 3914), (. -> '.', 3715), (S -> VP ., 2971), (NP -> NP NP, 2813), (NP -> DT NN, 2813), (NP -> NP PP, 2592), (S -> NP S, 2507)] \n",
      "\n",
      "Number of unique non-terminal symbols is 74\n",
      "[('NP', 38189), ('VP', 20343), ('S', 17025), ('NN', 12694), ('IN', 9532), ('PP', 9369), ('NNP', 9145), ('DT', 7887), ('', 6635), ('NNS', 5862)] \n",
      "\n",
      "Number of unique terminal symbols is 11226\n",
      "[(',', 4758), ('the', 4601), ('.', 3715), ('of', 2239), ('to', 2103), ('a', 1918), ('in', 1711), ('and', 1517), ('*-1', 1088), ('0', 1067)]\n"
     ]
    }
   ],
   "source": [
    "sorted_rules = sorted(rules.items() , reverse=True, key=lambda x: x[1])\n",
    "print('Number of unique grammar rules is', len(sorted_rules))\n",
    "print(sorted_rules[:10], '\\n')\n",
    "\n",
    "sorted_non_terminal = sorted(non_terminal.items() , reverse=True, key=lambda x: x[1])\n",
    "print('Number of unique non-terminal symbols is', len(sorted_non_terminal))\n",
    "print(sorted_non_terminal[:10], '\\n')\n",
    "\n",
    "sorted_terminal = sorted(terminal.items() , reverse=True, key=lambda x: x[1])\n",
    "print('Number of unique terminal symbols is', len(sorted_terminal))\n",
    "print(sorted_terminal[:10])"
   ]
  },
  {
   "cell_type": "markdown",
   "metadata": {
    "colab_type": "text",
    "id": "N5Bm_EcruyUs"
   },
   "source": [
    "Store the unique terminal and non-terminal symbols in two separate lists \"terminals\" and \"non-terminals\" respectively. Store the grammar rules and their respective counts in a dictionary \"grammar_rule_counts\"."
   ]
  },
  {
   "cell_type": "code",
   "execution_count": 9,
   "metadata": {
    "colab": {},
    "colab_type": "code",
    "id": "0CCSn7gZuyUs"
   },
   "outputs": [],
   "source": [
    "#Write your code here\n",
    "terminals = list(terminal.keys())\n",
    "non_terminals = list(non_terminal.keys())\n",
    "grammar_rule_counts = rules"
   ]
  },
  {
   "cell_type": "markdown",
   "metadata": {
    "colab_type": "text",
    "id": "rOSlK0awuyUu"
   },
   "source": [
    "### Task 2 (8 points)\n",
    "\n",
    "We can estimate the parameters (i.e., probabilities for the grammar rules) based on the counts collected from the training set. \n",
    "- Show the estimated parameter (i.e., probability) for each of the following rules: $S \\rightarrow NP \\ VP$, $NP \\rightarrow DT \\ NN$, $DT \\rightarrow the$."
   ]
  },
  {
   "cell_type": "code",
   "execution_count": 10,
   "metadata": {
    "colab": {},
    "colab_type": "code",
    "id": "EaqDZAZiuyUu"
   },
   "outputs": [],
   "source": [
    "#Write your code here\n",
    "def task21(rule):\n",
    "    prob = grammar_rule_counts[rule] / non_terminal[str(rule.lhs())]\n",
    "    print('Rule:', rule, 'Probability:', prob)"
   ]
  },
  {
   "cell_type": "code",
   "execution_count": 11,
   "metadata": {
    "scrolled": true
   },
   "outputs": [
    {
     "name": "stdout",
     "output_type": "stream",
     "text": [
      "Rule: S -> NP VP Probability: 0.09527165932452276\n",
      "Rule: NP -> DT NN Probability: 0.07365995443714159\n",
      "Rule: DT -> 'the' Probability: 0.5819703309243058\n"
     ]
    }
   ],
   "source": [
    "rule1 = grammar.Production(grammar.Nonterminal('S'), [grammar.Nonterminal('NP'), grammar.Nonterminal('VP')])\n",
    "rule2 = grammar.Production(grammar.Nonterminal('NP'), [grammar.Nonterminal('DT'), grammar.Nonterminal('NN')])\n",
    "rule3 = grammar.Production(grammar.Nonterminal('DT'), ['the'])\n",
    "\n",
    "task21(rule1)\n",
    "task21(rule2)\n",
    "task21(rule3)"
   ]
  },
  {
   "cell_type": "markdown",
   "metadata": {
    "colab_type": "text",
    "id": "zWTpGd8FuyUw"
   },
   "source": [
    "It is possible that some sentences cannot be parsed under the PCFG learned from a limited training set. Take \"Fruit flies like a banana\" for example, assume its PCFG is:\n",
    "\n",
    "$S → NP \\ S \\ (1)$\n",
    "\n",
    "$NP → A \\ N \\ (0.5)$\n",
    "\n",
    "$VP → V \\ NP \\ (1)$\n",
    "\n",
    "$NP → D \\ N \\ (0.5)$\n",
    "\n",
    "$A → Fruit \\ (1)$\n",
    "\n",
    "$N → flies \\ (0.5)$\n",
    "\n",
    "$V → like \\ (1)$\n",
    "\n",
    "$D→ a \\ (1)$\n",
    "\n",
    "$N → banana \\ (0.5)$\n",
    "\n",
    "In this case, we cannot construct a tree because there is no rule that can connect $S$ to $VP$.\n",
    "\n",
    "Now, consider another PCFG as follows:\n",
    "\n",
    "$S → NP \\ VP \\ (1)$\n",
    "\n",
    "$NP → A \\ N \\ (0.5)$\n",
    "\n",
    "$VP → V \\ NP \\ (1)$\n",
    "\n",
    "$NP → D \\ N \\ (0.5)$\n",
    "\n",
    "$A → Fruit \\ (1)$\n",
    "\n",
    "$N → flies \\ (0.5)$\n",
    "\n",
    "$V → like \\ (1)$\n",
    "\n",
    "$D→ the \\ (1)$\n",
    "\n",
    "$N → banana \\ (0.5)$\n",
    "\n",
    "In this case, we still cannot construct a tree because there is no rule for the terminal symbol \"a\". "
   ]
  },
  {
   "cell_type": "markdown",
   "metadata": {
    "colab_type": "text",
    "id": "Jxuhx5vLuyUw"
   },
   "source": [
    "Let us do a simple check on one test sentence:\n",
    "- Find out all terminal symbols of cnf_trees_test[0] that never appear in the PCFG rules that we have learned from the training set."
   ]
  },
  {
   "cell_type": "code",
   "execution_count": 12,
   "metadata": {
    "colab": {},
    "colab_type": "code",
    "id": "rSRRo6-9uyUw"
   },
   "outputs": [
    {
     "name": "stdout",
     "output_type": "stream",
     "text": [
      "300-day not in training set\n"
     ]
    }
   ],
   "source": [
    "#Write your code here\n",
    "test_tree = cnf_trees_test[0]\n",
    "for i in test_tree.leaves():\n",
    "    if i not in terminals:\n",
    "        print(i, 'not in training set')"
   ]
  },
  {
   "cell_type": "markdown",
   "metadata": {
    "colab_type": "text",
    "id": "bpKhV3LUuyUy"
   },
   "source": [
    "We can use smoothing techniques to handle these cases. A simple smoothing method is as follows. We first create a new \"unknown\" non-terminal symbol $UNK$ and a new \"unknown\" terminal symbol $unk$.\n",
    "\n",
    "Next, for each original non-terminal symbol $A\\in N$, we add two new rules $A \\rightarrow UNK \\ UNK$ and $A \\rightarrow unk$ to the original PCFG.\n",
    "\n",
    "For each terminal symbol $\\alpha \\in \\Sigma$, we add one new rule $UNK \\rightarrow \\alpha$ to the original PCFG.\n",
    "\n",
    "The smoothed probabilities for all rules can then be estimated as:\n",
    "$$q_{smooth}(A \\rightarrow \\beta) = \\frac {count(A \\rightarrow \\beta)}{count(A)+2}$$\n",
    "$$q_{smooth}(A \\rightarrow UNK \\ UNK) = \\frac {1}{count(A)+2}$$\n",
    "$$q_{smooth}(A \\rightarrow unk) = \\frac {1}{count(A)+2}$$\n",
    "$$q_{smooth}(UNK \\rightarrow \\alpha) = \\frac {1}{|V|}$$\n",
    "where $|V|$ is the count of unique terminal symbols, and the values of $count(\\cdot)$ are the same as the ones used in Task 1 above.\n",
    "\n",
    "- Add \"$UNK$\", \"$unk$\" to the two lists \"non_terminals\" and \"terminals\" respectively, compute and store the smoothed probabilities of grammar rules in a Python dictionary \"smoothed_grammar_rule_probs\". \n",
    "- Show the smoothed probability for each of the following rules: \n",
    "\n",
    "$\\ \\ \\ \\ \\ \\ \\ \\ \\ \\ S \\rightarrow NP \\ VP$\n",
    "\n",
    "$\\ \\ \\ \\ \\ \\ \\ \\ \\ \\ NP \\rightarrow DT  \\ NN$\n",
    "\n",
    "$\\ \\ \\ \\ \\ \\ \\ \\ \\ \\ DT \\rightarrow the$"
   ]
  },
  {
   "cell_type": "code",
   "execution_count": 13,
   "metadata": {
    "colab": {},
    "colab_type": "code",
    "id": "CcX_zy5juyUy"
   },
   "outputs": [],
   "source": [
    "#Write your code to update the PCFG\n",
    "terminals.append('unk')\n",
    "non_terminals.append(grammar.Nonterminal('UNK'))\n",
    "smoothed_grammar_rule_probs = {}\n",
    "\n",
    "for rule in rules:\n",
    "    prob = (rules[rule]) / (non_terminal[str(rule.lhs())] + 2)\n",
    "    smoothed_grammar_rule_probs[rule] = prob\n",
    "    \n",
    "for i in non_terminal:\n",
    "    prob = 1 / (non_terminal[i] + 2)\n",
    "    smoothed_grammar_rule_probs[grammar.Production(i, [grammar.Nonterminal('UNK'), grammar.Nonterminal('UNK')])] = prob\n",
    "    smoothed_grammar_rule_probs[grammar.Production(i, ['unk'])] = prob\n",
    "    \n",
    "for i in terminal:\n",
    "    prob = 1 / len(terminals)\n",
    "    smoothed_grammar_rule_probs[grammar.Production(grammar.Nonterminal('UNK'), [i])] = prob"
   ]
  },
  {
   "cell_type": "code",
   "execution_count": 14,
   "metadata": {
    "colab": {},
    "colab_type": "code",
    "id": "yAoEIyuOuyUz"
   },
   "outputs": [
    {
     "name": "stdout",
     "output_type": "stream",
     "text": [
      "Rule: S -> NP VP Probability: 0.09526046866741059\n",
      "Rule: NP -> DT NN Probability: 0.07365609698620093\n",
      "Rule: DT -> 'the' Probability: 0.5818227912282926\n"
     ]
    }
   ],
   "source": [
    "#Write your code here\n",
    "print('Rule:', rule1, 'Probability:', smoothed_grammar_rule_probs[rule1])\n",
    "print('Rule:', rule2, 'Probability:', smoothed_grammar_rule_probs[rule2])\n",
    "print('Rule:', rule3, 'Probability:', smoothed_grammar_rule_probs[rule3])"
   ]
  },
  {
   "cell_type": "markdown",
   "metadata": {
    "colab_type": "text",
    "collapsed": true,
    "id": "A2iy5GQeuyU1"
   },
   "source": [
    "## CKY Algorithm\n",
    "\n",
    "### Task 3 (10 points)\n",
    "Similar to the Viterbi algorithm, the CKY algorithm is a dynamic-programming algorithm. Given a PCFG $G=(N, \\ \\Sigma, \\ S, \\ R, \\ q)$, we can use the CKY algorithm described in class to find the highest scoring parse tree for a sentence. \n",
    "\n",
    "First, let us complete the *CKY* function from scratch using only Python built-in functions and the Numpy package. \n",
    "\n",
    "The output should be two dictionaries $\\pi$ and $bp$, which store the optimal probability and backpointer information respectively.\n",
    "\n",
    "Given a sentence $w_0, w_1, ...,w_{n-1}$,  $\\pi(i, k, X)$, $bp(i, k, X)$ refer to the highest score and backpointer for the (partial) parse tree that has the root X (a non-terminal symbol) and covers the word span $w_i, ..., w_{k-1}$, where $0 \\le i < k \\le n$. Note that a backpointer includes both the best grammar rule chosen and the best split point.\n",
    "![tree](imgs/parse_tree.png)\n"
   ]
  },
  {
   "cell_type": "markdown",
   "metadata": {
    "colab_type": "text",
    "id": "KyHlRk1AuyU1"
   },
   "source": [
    "Take \"Fruit flies like a banana\" for example, $\\pi(0, 5, S)$ is the probability of the optimal complete parse tree, $bp(0, 5, S)$ is the corresponding backpointer. Specifically, the best split point is 2 and the best grammar rule chosen is $S \\rightarrow NP \\ VP$."
   ]
  },
  {
   "cell_type": "code",
   "execution_count": 150,
   "metadata": {
    "colab": {},
    "colab_type": "code",
    "id": "yxiCymv-uyU1"
   },
   "outputs": [],
   "source": [
    "def CKY(sent, non_terminals, terminals, grammar_rule_probs):\n",
    "    '''\n",
    "    CKY algorithm\n",
    "    args:\n",
    "        sent: a sequence of words, list\n",
    "        non_terminals: non-terminal symbols, list\n",
    "        terminals: terminal symbols, list\n",
    "        grammar_rule_probs: probabilities of the rules, dictionary\n",
    "    returns:\n",
    "        pi: highest score for (partial) parse tree, dictionary\n",
    "        bp: backpointers, dictionary\n",
    "    '''\n",
    "    #Complete the code\n",
    "    pi = {}\n",
    "    bp = {}\n",
    "    \n",
    "    ## replace unk symbols\n",
    "    for i in range(len(sent)):\n",
    "        if sent[i] not in terminals:\n",
    "            sent[i] = 'unk'\n",
    "    ## fill first layer\n",
    "    for i in range(len(sent)):\n",
    "        for j in non_terminals:\n",
    "            j = grammar.Nonterminal(j)\n",
    "            temp_rule = grammar.Production(j, [sent[i]])\n",
    "            if temp_rule in grammar_rule_probs:\n",
    "                pi[(i, i+1, j)] = grammar_rule_probs[temp_rule]\n",
    "    print(pi)\n",
    "    ## Unaries\n",
    "#         added = True\n",
    "#         while added:\n",
    "#             added = False\n",
    "#             for A in non_terminals:\n",
    "#                 for B in non_terminals:\n",
    "#                     try:\n",
    "#                         tree_rule = grammar.Production(A, [B])\n",
    "#                         if pi[(i, i+1, B)] > 0 and \n",
    "\n",
    "    ## tree structures\n",
    "    for span in range(2, len(sent)+1):\n",
    "        for begin in range(0, len(sent)-span+1):\n",
    "#             print('start', begin)\n",
    "            end = begin + span\n",
    "#             print('end', end)\n",
    "            for split in range(begin+1, end):\n",
    "                for rule in list(grammar_rule_probs.keys()):\n",
    "                    if (begin, split, rule.rhs()[0]) in pi and (split, end, rule.rhs()[1]) in pi:\n",
    "                        probability = pi[(begin, split, rule.rhs()[0])] * pi[(split, end, rule.rhs()[1])] * grammar_rule_probs[rule]\n",
    "                        try:\n",
    "                            if probability > pi[(begin, end, rule.lhs())]:\n",
    "                                pi[(begin, end, rule.lhs())] = probability\n",
    "                                bp[(begin, end, rule.lhs())] = [split, rule.rhs()]\n",
    "                        except:\n",
    "                            pi[(begin, end, rule.lhs())] = probability\n",
    "                            bp[(begin, end, rule.lhs())] = [split, rule.rhs()]\n",
    "\n",
    "    \n",
    "\n",
    "    return pi, bp"
   ]
  },
  {
   "cell_type": "code",
   "execution_count": 154,
   "metadata": {},
   "outputs": [],
   "source": [
    "testting = (1,2,3)\n"
   ]
  },
  {
   "cell_type": "code",
   "execution_count": 152,
   "metadata": {},
   "outputs": [
    {
     "name": "stdout",
     "output_type": "stream",
     "text": [
      "{(0, 1, NNP): 0.0005466273095003826, (0, 1, CD): 0.00029120559114735004, (0, 1, JJ): 0.0008815232722143865, (0, 1, DT): 0.5818227912282926, (1, 2, NN): 7.876496534341525e-05, (2, 3, VBD): 0.0017024174327545114, (3, 4, NNP): 0.00021865092380015305, (3, 4, JJ): 0.0003526093088857546, (3, 4, DT): 0.24198250728862974, (3, 4, NN): 0.00023629489603024575, (3, 4, IN): 0.00010488777008600797, (3, 4, LS): 0.06666666666666667, (4, 5, JJ): 0.0005289139633286319, (5, 6, NNP): 0.0006559527714004591}\n"
     ]
    },
    {
     "ename": "KeyError",
     "evalue": "(0, 2, NP)",
     "output_type": "error",
     "traceback": [
      "\u001b[0;31m---------------------------------------------------------------------------\u001b[0m",
      "\u001b[0;31mKeyError\u001b[0m                                  Traceback (most recent call last)",
      "\u001b[0;32m<ipython-input-152-76c481b7fe4e>\u001b[0m in \u001b[0;36m<module>\u001b[0;34m()\u001b[0m\n\u001b[1;32m      1\u001b[0m \u001b[0msent\u001b[0m \u001b[0;34m=\u001b[0m \u001b[0;34m\"the boy saw a nice cat\"\u001b[0m\u001b[0;34m.\u001b[0m\u001b[0msplit\u001b[0m\u001b[0;34m(\u001b[0m\u001b[0;34m)\u001b[0m\u001b[0;34m\u001b[0m\u001b[0;34m\u001b[0m\u001b[0m\n\u001b[0;32m----> 2\u001b[0;31m \u001b[0mpi\u001b[0m\u001b[0;34m,\u001b[0m \u001b[0mbp\u001b[0m \u001b[0;34m=\u001b[0m \u001b[0mCKY\u001b[0m\u001b[0;34m(\u001b[0m\u001b[0msent\u001b[0m\u001b[0;34m,\u001b[0m \u001b[0mnon_terminals\u001b[0m\u001b[0;34m,\u001b[0m \u001b[0mterminals\u001b[0m\u001b[0;34m,\u001b[0m \u001b[0msmoothed_grammar_rule_probs\u001b[0m\u001b[0;34m)\u001b[0m\u001b[0;34m\u001b[0m\u001b[0;34m\u001b[0m\u001b[0m\n\u001b[0m",
      "\u001b[0;32m<ipython-input-150-c4599b52accc>\u001b[0m in \u001b[0;36mCKY\u001b[0;34m(sent, non_terminals, terminals, grammar_rule_probs)\u001b[0m\n\u001b[1;32m     47\u001b[0m                     \u001b[0;32mif\u001b[0m \u001b[0;34m(\u001b[0m\u001b[0mbegin\u001b[0m\u001b[0;34m,\u001b[0m \u001b[0msplit\u001b[0m\u001b[0;34m,\u001b[0m \u001b[0mrule\u001b[0m\u001b[0;34m.\u001b[0m\u001b[0mrhs\u001b[0m\u001b[0;34m(\u001b[0m\u001b[0;34m)\u001b[0m\u001b[0;34m[\u001b[0m\u001b[0;36m0\u001b[0m\u001b[0;34m]\u001b[0m\u001b[0;34m)\u001b[0m \u001b[0;32min\u001b[0m \u001b[0mpi\u001b[0m \u001b[0;32mand\u001b[0m \u001b[0;34m(\u001b[0m\u001b[0msplit\u001b[0m\u001b[0;34m,\u001b[0m \u001b[0mend\u001b[0m\u001b[0;34m,\u001b[0m \u001b[0mrule\u001b[0m\u001b[0;34m.\u001b[0m\u001b[0mrhs\u001b[0m\u001b[0;34m(\u001b[0m\u001b[0;34m)\u001b[0m\u001b[0;34m[\u001b[0m\u001b[0;36m1\u001b[0m\u001b[0;34m]\u001b[0m\u001b[0;34m)\u001b[0m \u001b[0;32min\u001b[0m \u001b[0mpi\u001b[0m\u001b[0;34m:\u001b[0m\u001b[0;34m\u001b[0m\u001b[0;34m\u001b[0m\u001b[0m\n\u001b[1;32m     48\u001b[0m                         \u001b[0mprobability\u001b[0m \u001b[0;34m=\u001b[0m \u001b[0mpi\u001b[0m\u001b[0;34m[\u001b[0m\u001b[0;34m(\u001b[0m\u001b[0mbegin\u001b[0m\u001b[0;34m,\u001b[0m \u001b[0msplit\u001b[0m\u001b[0;34m,\u001b[0m \u001b[0mrule\u001b[0m\u001b[0;34m.\u001b[0m\u001b[0mrhs\u001b[0m\u001b[0;34m(\u001b[0m\u001b[0;34m)\u001b[0m\u001b[0;34m[\u001b[0m\u001b[0;36m0\u001b[0m\u001b[0;34m]\u001b[0m\u001b[0;34m)\u001b[0m\u001b[0;34m]\u001b[0m \u001b[0;34m*\u001b[0m \u001b[0mpi\u001b[0m\u001b[0;34m[\u001b[0m\u001b[0;34m(\u001b[0m\u001b[0msplit\u001b[0m\u001b[0;34m,\u001b[0m \u001b[0mend\u001b[0m\u001b[0;34m,\u001b[0m \u001b[0mrule\u001b[0m\u001b[0;34m.\u001b[0m\u001b[0mrhs\u001b[0m\u001b[0;34m(\u001b[0m\u001b[0;34m)\u001b[0m\u001b[0;34m[\u001b[0m\u001b[0;36m1\u001b[0m\u001b[0;34m]\u001b[0m\u001b[0;34m)\u001b[0m\u001b[0;34m]\u001b[0m \u001b[0;34m*\u001b[0m \u001b[0mgrammar_rule_probs\u001b[0m\u001b[0;34m[\u001b[0m\u001b[0mrule\u001b[0m\u001b[0;34m]\u001b[0m\u001b[0;34m\u001b[0m\u001b[0;34m\u001b[0m\u001b[0m\n\u001b[0;32m---> 49\u001b[0;31m                         \u001b[0;32mif\u001b[0m \u001b[0mprobability\u001b[0m \u001b[0;34m>\u001b[0m \u001b[0mpi\u001b[0m\u001b[0;34m[\u001b[0m\u001b[0;34m(\u001b[0m\u001b[0mbegin\u001b[0m\u001b[0;34m,\u001b[0m \u001b[0mend\u001b[0m\u001b[0;34m,\u001b[0m \u001b[0mrule\u001b[0m\u001b[0;34m.\u001b[0m\u001b[0mlhs\u001b[0m\u001b[0;34m(\u001b[0m\u001b[0;34m)\u001b[0m\u001b[0;34m)\u001b[0m\u001b[0;34m]\u001b[0m\u001b[0;34m:\u001b[0m\u001b[0;34m\u001b[0m\u001b[0;34m\u001b[0m\u001b[0m\n\u001b[0m\u001b[1;32m     50\u001b[0m                             \u001b[0mpi\u001b[0m\u001b[0;34m[\u001b[0m\u001b[0;34m(\u001b[0m\u001b[0mbegin\u001b[0m\u001b[0;34m,\u001b[0m \u001b[0mend\u001b[0m\u001b[0;34m,\u001b[0m \u001b[0mrule\u001b[0m\u001b[0;34m.\u001b[0m\u001b[0mlhs\u001b[0m\u001b[0;34m(\u001b[0m\u001b[0;34m)\u001b[0m\u001b[0;34m)\u001b[0m\u001b[0;34m]\u001b[0m \u001b[0;34m=\u001b[0m \u001b[0mprobability\u001b[0m\u001b[0;34m\u001b[0m\u001b[0;34m\u001b[0m\u001b[0m\n\u001b[1;32m     51\u001b[0m                             \u001b[0mbp\u001b[0m\u001b[0;34m[\u001b[0m\u001b[0;34m(\u001b[0m\u001b[0mbegin\u001b[0m\u001b[0;34m,\u001b[0m \u001b[0mend\u001b[0m\u001b[0;34m,\u001b[0m \u001b[0mrule\u001b[0m\u001b[0;34m.\u001b[0m\u001b[0mlhs\u001b[0m\u001b[0;34m(\u001b[0m\u001b[0;34m)\u001b[0m\u001b[0;34m)\u001b[0m\u001b[0;34m]\u001b[0m \u001b[0;34m=\u001b[0m \u001b[0;34m[\u001b[0m\u001b[0msplit\u001b[0m\u001b[0;34m,\u001b[0m \u001b[0mrule\u001b[0m\u001b[0;34m.\u001b[0m\u001b[0mrhs\u001b[0m\u001b[0;34m(\u001b[0m\u001b[0;34m)\u001b[0m\u001b[0;34m]\u001b[0m\u001b[0;34m\u001b[0m\u001b[0;34m\u001b[0m\u001b[0m\n",
      "\u001b[0;31mKeyError\u001b[0m: (0, 2, NP)"
     ]
    }
   ],
   "source": [
    "sent = \"the boy saw a nice cat\".split()\n",
    "pi, bp = CKY(sent, non_terminals, terminals, smoothed_grammar_rule_probs)"
   ]
  },
  {
   "cell_type": "code",
   "execution_count": 153,
   "metadata": {},
   "outputs": [
    {
     "data": {
      "text/plain": [
       "{}"
      ]
     },
     "execution_count": 153,
     "metadata": {},
     "output_type": "execute_result"
    }
   ],
   "source": [
    "bp"
   ]
  },
  {
   "cell_type": "markdown",
   "metadata": {
    "colab_type": "text",
    "id": "mjZ2j-fduyU2"
   },
   "source": [
    "Let us complete the *generate_parse_tree* function that can return a tree based on two arguments -- backpointers $bp$ and a \"start node\" $start$, where the \"start node\" is a tuple consisting of a span and a non-terminal symbol that covers that span. For example, if we set the start node as $(0, 5, S)$, the function will recursively build a tree based on the infomration stored in $bp$."
   ]
  },
  {
   "cell_type": "code",
   "execution_count": 0,
   "metadata": {
    "colab": {},
    "colab_type": "code",
    "collapsed": true,
    "id": "iTSw4F5XuyU3"
   },
   "outputs": [],
   "source": [
    "def generate_parse_tree(bp, start):\n",
    "    '''\n",
    "    Recursively construct a tree\n",
    "    args:\n",
    "        bp: backpointers that allow us to recover the highest scoring parse tree, dictionary\n",
    "        start: the start node, i.e., (i, k, X), which refers to the non-terminal root X and the words span [i, k) it covers, tuple\n",
    "    return:\n",
    "        tree: the parse tree, nltk.tree.Tree type\n",
    "    '''\n",
    "    #complete the code\n",
    "    return tree"
   ]
  },
  {
   "cell_type": "markdown",
   "metadata": {
    "colab_type": "text",
    "id": "VgNAZFUGuyU4"
   },
   "source": [
    "Now using the PCFG learned from Task 2, we can work on the following:\n",
    "- Compute the max probability for the sentence \"the boy saw a nice cat\" based on \"terminals\", \"non_terminals\", \"smoothed_rule_probs\" obtained in Task 2.\n",
    "- Generate and display the parse tree of the sentence."
   ]
  },
  {
   "cell_type": "code",
   "execution_count": 73,
   "metadata": {
    "colab": {},
    "colab_type": "code",
    "collapsed": true,
    "id": "73e_mqx5uyU4"
   },
   "outputs": [
    {
     "ename": "KeyError",
     "evalue": "(1, 3, UNK)",
     "output_type": "error",
     "traceback": [
      "\u001b[0;31m---------------------------------------------------------------------------\u001b[0m",
      "\u001b[0;31mKeyError\u001b[0m                                  Traceback (most recent call last)",
      "\u001b[0;32m<ipython-input-73-0f821403c737>\u001b[0m in \u001b[0;36m<module>\u001b[0;34m()\u001b[0m\n\u001b[1;32m      1\u001b[0m \u001b[0msent\u001b[0m \u001b[0;34m=\u001b[0m \u001b[0;34m\"the boy saw a nice cat\"\u001b[0m\u001b[0;34m.\u001b[0m\u001b[0msplit\u001b[0m\u001b[0;34m(\u001b[0m\u001b[0;34m)\u001b[0m\u001b[0;34m\u001b[0m\u001b[0;34m\u001b[0m\u001b[0m\n\u001b[0;32m----> 2\u001b[0;31m \u001b[0mpi\u001b[0m\u001b[0;34m,\u001b[0m \u001b[0mbp\u001b[0m \u001b[0;34m=\u001b[0m \u001b[0mCKY\u001b[0m\u001b[0;34m(\u001b[0m\u001b[0msent\u001b[0m\u001b[0;34m,\u001b[0m \u001b[0mnon_terminals\u001b[0m\u001b[0;34m,\u001b[0m \u001b[0mterminals\u001b[0m\u001b[0;34m,\u001b[0m \u001b[0msmoothed_grammar_rule_probs\u001b[0m\u001b[0;34m)\u001b[0m\u001b[0;34m\u001b[0m\u001b[0;34m\u001b[0m\u001b[0m\n\u001b[0m\u001b[1;32m      3\u001b[0m \u001b[0;31m#Write your code to display max probability and generate the parse tree\u001b[0m\u001b[0;34m\u001b[0m\u001b[0;34m\u001b[0m\u001b[0;34m\u001b[0m\u001b[0m\n",
      "\u001b[0;32m<ipython-input-72-47645eea8ed6>\u001b[0m in \u001b[0;36mCKY\u001b[0;34m(sent, non_terminals, terminals, grammar_rule_probs)\u001b[0m\n\u001b[1;32m     46\u001b[0m                             \u001b[0mtree_rule\u001b[0m \u001b[0;34m=\u001b[0m \u001b[0mgrammar\u001b[0m\u001b[0;34m.\u001b[0m\u001b[0mProduction\u001b[0m\u001b[0;34m(\u001b[0m\u001b[0mA\u001b[0m\u001b[0;34m,\u001b[0m \u001b[0;34m[\u001b[0m\u001b[0mB\u001b[0m\u001b[0;34m,\u001b[0m \u001b[0mC\u001b[0m\u001b[0;34m]\u001b[0m\u001b[0;34m)\u001b[0m\u001b[0;34m\u001b[0m\u001b[0;34m\u001b[0m\u001b[0m\n\u001b[1;32m     47\u001b[0m                             \u001b[0;32mif\u001b[0m \u001b[0mtree_rule\u001b[0m \u001b[0;32min\u001b[0m \u001b[0mgrammar_rule_probs\u001b[0m\u001b[0;34m:\u001b[0m\u001b[0;34m\u001b[0m\u001b[0;34m\u001b[0m\u001b[0m\n\u001b[0;32m---> 48\u001b[0;31m                                 \u001b[0mprobability\u001b[0m \u001b[0;34m=\u001b[0m \u001b[0mpi\u001b[0m\u001b[0;34m[\u001b[0m\u001b[0;34m(\u001b[0m\u001b[0mbegin\u001b[0m\u001b[0;34m,\u001b[0m \u001b[0msplit\u001b[0m\u001b[0;34m,\u001b[0m \u001b[0mB\u001b[0m\u001b[0;34m)\u001b[0m\u001b[0;34m]\u001b[0m \u001b[0;34m*\u001b[0m \u001b[0mpi\u001b[0m\u001b[0;34m[\u001b[0m\u001b[0;34m(\u001b[0m\u001b[0msplit\u001b[0m\u001b[0;34m,\u001b[0m \u001b[0mend\u001b[0m\u001b[0;34m,\u001b[0m \u001b[0mC\u001b[0m\u001b[0;34m)\u001b[0m\u001b[0;34m]\u001b[0m \u001b[0;34m*\u001b[0m \u001b[0mgrammar_rule_probs\u001b[0m\u001b[0;34m[\u001b[0m\u001b[0mtree_rule\u001b[0m\u001b[0;34m]\u001b[0m\u001b[0;34m\u001b[0m\u001b[0;34m\u001b[0m\u001b[0m\n\u001b[0m\u001b[1;32m     49\u001b[0m                                 \u001b[0;32mif\u001b[0m \u001b[0mprobability\u001b[0m \u001b[0;34m>\u001b[0m \u001b[0mpi\u001b[0m\u001b[0;34m[\u001b[0m\u001b[0;34m(\u001b[0m\u001b[0mbegin\u001b[0m\u001b[0;34m,\u001b[0m \u001b[0mend\u001b[0m\u001b[0;34m,\u001b[0m \u001b[0mA\u001b[0m\u001b[0;34m)\u001b[0m\u001b[0;34m]\u001b[0m\u001b[0;34m:\u001b[0m\u001b[0;34m\u001b[0m\u001b[0;34m\u001b[0m\u001b[0m\n\u001b[1;32m     50\u001b[0m                                     \u001b[0mpi\u001b[0m\u001b[0;34m[\u001b[0m\u001b[0;34m(\u001b[0m\u001b[0mbegin\u001b[0m\u001b[0;34m,\u001b[0m \u001b[0mend\u001b[0m\u001b[0;34m,\u001b[0m \u001b[0mA\u001b[0m\u001b[0;34m)\u001b[0m\u001b[0;34m]\u001b[0m \u001b[0;34m=\u001b[0m \u001b[0mprobability\u001b[0m\u001b[0;34m\u001b[0m\u001b[0;34m\u001b[0m\u001b[0m\n",
      "\u001b[0;31mKeyError\u001b[0m: (1, 3, UNK)"
     ]
    }
   ],
   "source": [
    "sent = \"the boy saw a nice cat\".split()\n",
    "pi, bp = CKY(sent, non_terminals, terminals, smoothed_grammar_rule_probs)\n",
    "#Write your code to display max probability and generate the parse tree"
   ]
  },
  {
   "cell_type": "markdown",
   "metadata": {
    "colab_type": "text",
    "id": "8WLdpSaxuyU5"
   },
   "source": [
    "## Evaluate Our Parser\n",
    "\n",
    "Now we can use the CKY algorithm implemented in Task 3 to predict parse trees on sentences from the test set, then evaluate the performance based on the gold parse trees of the test set. Before we perform the evaluation, we need to represent our parse trees in a form of constituents which are denoted as brackets $X(i, j)$, where $X$ is the non-terminal symbol **that has two children**, and $i$, $j$ refers to the starting point (inclusive) and ending point (exclusive) respectively. **(In other words, a constituent cannot consist of a single word only.)**\n",
    "\n",
    "Metrics are defined as:\n",
    "- Precision = (# of correct constituents in the predicted parse trees)/(# of total constituents in the predicted parse trees)\n",
    "\n",
    "- Recall = (# of correct constituents in the predicted parse trees)/(# of correct constituents in the gold parse trees)\n",
    "\n",
    "- F1 score = 2\\*precision\\*recall/(precision+recall)\n",
    "\n",
    "Using the sentence \"Fruit flies like a banana\" as example again, there are five words in the sentence with labels from 0 to 4. Assume the constituents are $S(0, 5)$, $NP(0, 2)$, $VP(2, 5)$, $NP(3, 5)$ in the gold parse tree (shown in Task 3), and $S(0, 5)$, $NP(0, 2)$, $PP(2, 5)$, $NP(3, 5)$ in the predicted parse tree (shown below). Then the precision = 3/4, the recall = 3/4, and the F1 score = 0.75. \n",
    "![parse_tree](imgs/parse_tree2.png)\n",
    "\n",
    "### Task 4 (6 points):\n",
    "- Run the CKY algorithm on the test set and generate parse trees under the smoothed PCFG obtained in Task 2. Note that some test sentences contain words that are not included in the  list \"terminals\", set those words as $unk$.\n",
    "- Extract the constituents from the gold and predicted parse trees respectively.\n",
    "- Compute the overall precision, recall and F1 score for the test set.\n"
   ]
  },
  {
   "cell_type": "code",
   "execution_count": 0,
   "metadata": {
    "colab": {},
    "colab_type": "code",
    "collapsed": true,
    "id": "IKYB639xuyU5"
   },
   "outputs": [],
   "source": [
    "#Write your code here"
   ]
  }
 ],
 "metadata": {
  "colab": {
   "collapsed_sections": [],
   "name": "homework 2.ipynb",
   "provenance": [],
   "version": "0.3.2"
  },
  "kernelspec": {
   "display_name": "Python 3",
   "language": "python",
   "name": "python3"
  },
  "language_info": {
   "codemirror_mode": {
    "name": "ipython",
    "version": 3
   },
   "file_extension": ".py",
   "mimetype": "text/x-python",
   "name": "python",
   "nbconvert_exporter": "python",
   "pygments_lexer": "ipython3",
   "version": "3.6.7"
  }
 },
 "nbformat": 4,
 "nbformat_minor": 1
}
