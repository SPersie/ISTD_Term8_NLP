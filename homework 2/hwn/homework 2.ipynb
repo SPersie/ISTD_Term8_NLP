{
 "cells": [
  {
   "cell_type": "markdown",
   "metadata": {
    "colab_type": "text",
    "id": "ok9xpaI-uyUT"
   },
   "source": [
    "![sutd](imgs/sutd.png)\n",
    "## <center>50.040 Natural Language Processing, Summer 2019<center>\n",
    "<center>**Homework 2**\n",
    "\n",
    "<center>**Due 5 July 2019, 5pm** <center>"
   ]
  },
  {
   "cell_type": "markdown",
   "metadata": {
    "colab_type": "text",
    "id": "WHLjIQokuyUV"
   },
   "source": [
    "**Write your student ID and name**\n",
    "\n",
    "ID: 1002195\n",
    "\n",
    "Name: Hao Weining\n",
    "\n",
    "Students with whom you have discussed (if any):"
   ]
  },
  {
   "cell_type": "markdown",
   "metadata": {
    "colab_type": "text",
    "id": "F7rJYYMnuyUW"
   },
   "source": [
    "### Requirements:\n",
    "- Use Python to complete this homework.\n",
    "- Please list students with whom you have discussed (if any).\n",
    "- Follow the honor code strictly.\n",
    "- Submit this ipynb file on eDimension before the deadline."
   ]
  },
  {
   "cell_type": "markdown",
   "metadata": {
    "colab_type": "text",
    "id": "B8OQF8DZuyUY"
   },
   "source": [
    "## Introduction\n",
    "Constituency parsing aims to extract a constituency-based parse tree from a sentence that represents its syntactic structure according to a phrase structure grammar.\n",
    "\n",
    "A typical constituency parse tree is shown below:\n",
    "\n",
    "![tree](imgs/parse_tree.png)\n",
    "\n",
    "$S$ is a distinguished start symbol, node labels such as $NP$(noun phrase), $VP$(verb phrase) are non-terminal symbols, leaf labels such as \"a\", \"banana\" are terminal symbols.\n",
    "\n",
    "In this homework, we will be implementing a constituency parser based on probabilistic context-free grammars (PCFGs) and evaluate its performance."
   ]
  },
  {
   "cell_type": "markdown",
   "metadata": {
    "colab_type": "text",
    "id": "uhWbyjQMuyUZ"
   },
   "source": [
    "## Dataset\n",
    "\n",
    "We will be using a version of the [Penn Treebank](http://citeseerx.ist.psu.edu/viewdoc/download?doi=10.1.1.9.8216&rep=rep1&type=pdf) released in [NLTK corpora](http://www.nltk.org/nltk_data/) to induce PCFGs and evaluate our algorithm. \n",
    "\n",
    "The preprocessing code has been provided, **do not make any changes to the texts and code unless you are requested to do so.** Run the code below to load the training and test sets as Python lists, it will take ~1 minute.\n",
    "\n",
    "Since we will not be tuning hyper-parameters for this homework, there will be no need for a development set."
   ]
  },
  {
   "cell_type": "code",
   "execution_count": 1,
   "metadata": {
    "colab": {},
    "colab_type": "code",
    "id": "K3VThG6AuyUZ"
   },
   "outputs": [
    {
     "name": "stderr",
     "output_type": "stream",
     "text": [
      "[nltk_data] Downloading package treebank to\n",
      "[nltk_data]     /Users/haoweining/nltk_data...\n",
      "[nltk_data]   Package treebank is already up-to-date!\n"
     ]
    },
    {
     "data": {
      "text/plain": [
       "True"
      ]
     },
     "execution_count": 1,
     "metadata": {},
     "output_type": "execute_result"
    }
   ],
   "source": [
    "import nltk\n",
    "nltk.download('treebank')"
   ]
  },
  {
   "cell_type": "code",
   "execution_count": 2,
   "metadata": {
    "colab": {},
    "colab_type": "code",
    "id": "EJ_WLuC7uyUb"
   },
   "outputs": [],
   "source": [
    "from util import get_train_test_data"
   ]
  },
  {
   "cell_type": "code",
   "execution_count": 3,
   "metadata": {
    "colab": {},
    "colab_type": "code",
    "id": "8V8JI2gfuyUe"
   },
   "outputs": [],
   "source": [
    "#cnf_trees_train: training set, a list of parse trees\n",
    "#cnf_trees_test: test set, a list of parse trees\n",
    "cnf_trees_train, cnf_trees_test = get_train_test_data()"
   ]
  },
  {
   "cell_type": "markdown",
   "metadata": {
    "colab_type": "text",
    "id": "Zpy9gpyLuyUh"
   },
   "source": [
    "Each parse tree is of the [nltk.tree.Tree](https://www.nltk.org/_modules/nltk/tree.html) type and has been converted to the Chomsky normal form. Let us look at a sample parse tree in the training set:"
   ]
  },
  {
   "cell_type": "code",
   "execution_count": 4,
   "metadata": {
    "colab": {},
    "colab_type": "code",
    "id": "UY1_rx5GuyUi",
    "outputId": "d6227980-6126-4ae1-e5c6-a9b43d4d4eb2"
   },
   "outputs": [
    {
     "data": {
      "image/png": "[encoded data removed]",
      "text/plain": [
       "Tree('S', [Tree('NP', [Tree('NP', [Tree('NNP', ['pierre']), Tree('NNP', ['vinken'])]), Tree('NP', [Tree(',', [',']), Tree('NP', [Tree('ADJP', [Tree('NP', [Tree('CD', ['61']), Tree('NNS', ['years'])]), Tree('JJ', ['old'])]), Tree(',', [','])])])]), Tree('S', [Tree('VP', [Tree('MD', ['will']), Tree('VP', [Tree('VB', ['join']), Tree('VP', [Tree('NP', [Tree('DT', ['the']), Tree('NN', ['board'])]), Tree('VP', [Tree('PP', [Tree('IN', ['as']), Tree('NP', [Tree('DT', ['a']), Tree('NP', [Tree('JJ', ['nonexecutive']), Tree('NN', ['director'])])])]), Tree('NP', [Tree('NNP', ['nov.']), Tree('CD', ['29'])])])])])]), Tree('.', ['.'])])])"
      ]
     },
     "execution_count": 4,
     "metadata": {},
     "output_type": "execute_result"
    }
   ],
   "source": [
    "cnf_trees_train[0]"
   ]
  },
  {
   "cell_type": "markdown",
   "metadata": {
    "colab_type": "text",
    "id": "nWc7JMXduyUm"
   },
   "source": [
    "## PCFG\n",
    "\n",
    "A probabilistic context-free grammar consists of:\n",
    "- A context-free grammar $G=(N, \\ \\Sigma, \\ S, \\ R)$ where $N$ is a finite set of non-terminal symbols, $\\Sigma$ is a finite set of terminal symbols, $R$ is a finite set of rules (e.g., $NP \\rightarrow NP \\ PP$), $S \\in N$ is the start symbol.\n",
    "- One parameter $q(A \\rightarrow \\beta)$ for each rule $A \\rightarrow \\beta$ in $R$. Since the grammar is in Chomsky normal form, there are only two types of rules: $A \\rightarrow B \\ C$ and $A \\rightarrow \\alpha$, where $A$, $B$, $C \\in N$, $\\alpha \\in \\Sigma$.\n",
    "\n",
    "We can estimate the parameter $q(A \\rightarrow \\beta)$ using maximum likelihood estimation:\n",
    "\n",
    "$$q_{MLE}(A \\rightarrow \\beta) = \\frac {count(A \\rightarrow \\beta)}{count(A)}$$\n",
    "where $count(A \\rightarrow \\beta)$ refers to the number of times we can observe the rule $A \\rightarrow \\beta$ in all the parse trees in the training set, and  $count(A)$  refers to the number of times we can see the non-terminal symbol $A$."
   ]
  },
  {
   "cell_type": "markdown",
   "metadata": {
    "colab_type": "text",
    "id": "cIOrq0lXuyUm"
   },
   "source": [
    "### Task 1 (6 points)\n",
    "\n",
    "Starting from a single parse tree:\n",
    "- First of all, let us only consider the first parse tree in the training set. List down all the unique grammar rules, unique non-terminal symbols, and unique terminal symbols that appear in this first parse tree from the training set.\n",
    "\n",
    "Hint: [nltk.tree.Tree](https://www.nltk.org/_modules/nltk/tree.html) class provides many methods to get features of a tree. **Don't make any changes to the trees.**"
   ]
  },
  {
   "cell_type": "code",
   "execution_count": 5,
   "metadata": {
    "colab": {},
    "colab_type": "code",
    "id": "xiS4m4oMuyUn"
   },
   "outputs": [],
   "source": [
    "### Check the methods of a parse tree of nltk.tree.Tree type\n",
    "# help(cnf_trees_train[0])"
   ]
  },
  {
   "cell_type": "code",
   "execution_count": 60,
   "metadata": {
    "colab": {},
    "colab_type": "code",
    "id": "1j0ufc7guyUp"
   },
   "outputs": [
    {
     "name": "stdout",
     "output_type": "stream",
     "text": [
      "All Unique Rules: \n",
      "{NP -> DT NP, VP -> VB VP, NP -> , NP, NN -> 'director', NN -> 'board', . -> '.', NP -> CD NNS, NNP -> 'nov.', VB -> 'join', NNP -> 'vinken', DT -> 'the', NP -> NNP CD, NP -> JJ NN, S -> VP ., VP -> PP NP, CD -> '29', NP -> NNP NNP, , -> ',', IN -> 'as', DT -> 'a', NP -> NP NP, CD -> '61', NNS -> 'years', JJ -> 'nonexecutive', ADJP -> NP JJ, NP -> ADJP ,, VP -> MD VP, VP -> NP VP, NP -> DT NN, JJ -> 'old', S -> NP S, MD -> 'will', NNP -> 'pierre', PP -> IN NP}\n",
      "\n",
      "All Unique Terminal Symbols\n",
      "{'pierre', 'join', 'director', 'nonexecutive', 'nov.', '61', 'the', 'years', 'vinken', ',', 'a', 'old', 'will', '29', 'board', 'as', '.'}\n",
      "\n",
      "All Unique Non-Terminal Symbols\n",
      "{'VB', 'DT', 'PP', 'MD', ',', 'CD', 'JJ', 'IN', 'ADJP', 'NNS', 'NP', 'NNP', 'NN', 'VP', 'S', '.'}\n"
     ]
    }
   ],
   "source": [
    "#Write your code here\n",
    "t = cnf_trees_train[0]\n",
    "print('All Unique Rules: ')\n",
    "print(set(t.productions()))\n",
    "\n",
    "print('\\nAll Unique Terminal Symbols')\n",
    "print(set(t.leaves()))\n",
    "\n",
    "nonterm = [i.label() for i in t.subtrees()]\n",
    "print('\\nAll Unique Non-Terminal Symbols')\n",
    "print(set(nonterm))"
   ]
  },
  {
   "cell_type": "markdown",
   "metadata": {
    "colab_type": "text",
    "id": "zvrtosr-uyUq"
   },
   "source": [
    "There is an underlying PCFG used for parsing the sentences in the training set. To find out this PCFG, what we can do is to visit each parse tree that appears in the training set, and collect some useful information from each parse tree. Let us start with the following:\n",
    "- Obtain all the grammar rules, non-terminal symbols, and terminal symbols.\n",
    "- Show the numbers of unique non-terminal symbols, unique terminal symbols, and unique grammar rules. \n",
    "- List 10 most frequent grammar rules."
   ]
  },
  {
   "cell_type": "code",
   "execution_count": 61,
   "metadata": {
    "colab": {},
    "colab_type": "code",
    "id": "h9GWbp_duyUq"
   },
   "outputs": [
    {
     "name": "stdout",
     "output_type": "stream",
     "text": [
      "Number of Unique Grammar Rules:  14603\n",
      "10 Most Frequent Grammar Rules:\n",
      "[(S -> NP S, 2507), (NP -> NP PP, 2592), (NP -> NP NP, 2813), (NP -> DT NN, 2813), (S -> VP ., 2971), (. -> '.', 3715), (NP -> DT NP, 3914), (DT -> 'the', 4590), (, -> ',', 4758), (PP -> IN NP, 6117)]\n",
      "\n",
      "\n",
      "Number of Unique Non-terminal Nodes:  74\n",
      "10 Most Frequent Non-terminal Nodes:\n",
      "[('NNS', 5862), ('', 6635), ('DT', 7887), ('NNP', 9145), ('PP', 9369), ('IN', 9532), ('NN', 12694), ('S', 17025), ('VP', 20343), ('NP', 38189)]\n",
      "\n",
      "\n",
      "Number of Unique Terminal Nodes:  11226\n",
      "10 Most Frequent Terminal Nodes:\n",
      "[('0', 1067), ('*-1', 1088), ('and', 1517), ('in', 1711), ('a', 1918), ('to', 2103), ('of', 2239), ('.', 3715), ('the', 4601), (',', 4758)]\n"
     ]
    }
   ],
   "source": [
    "#Write your code here\n",
    "import operator\n",
    "all_rules = {}\n",
    "all_nonterm = {}\n",
    "all_term = {}\n",
    "for t in cnf_trees_train:\n",
    "    tmp_rule = t.productions()\n",
    "    for k in tmp_rule:\n",
    "        try:\n",
    "            all_rules[k] += 1\n",
    "        except:\n",
    "            all_rules[k] = 1\n",
    "    tmp_nonterm = [i.label() for i in t.subtrees()]\n",
    "    for k in tmp_nonterm:\n",
    "        try:\n",
    "            all_nonterm[k] += 1\n",
    "        except:\n",
    "            all_nonterm[k] = 1\n",
    "    tmp_term = t.leaves()\n",
    "    for k in tmp_term:\n",
    "        try:\n",
    "            all_term[k] += 1\n",
    "        except:\n",
    "            all_term[k] = 1\n",
    "list_rules = sorted(all_rules.items(), key=operator.itemgetter(1))\n",
    "print('Number of Unique Grammar Rules: ', len(list_rules))\n",
    "print('10 Most Frequent Grammar Rules:')\n",
    "print(list_rules[-10:])\n",
    "print('\\n')\n",
    "\n",
    "list_nonterm = sorted(all_nonterm.items(), key=operator.itemgetter(1))\n",
    "print('Number of Unique Non-terminal Nodes: ', len(list_nonterm))\n",
    "print('10 Most Frequent Non-terminal Nodes:')\n",
    "print(list_nonterm[-10:])\n",
    "print('\\n')\n",
    "\n",
    "list_term = sorted(all_term.items(), key=operator.itemgetter(1))\n",
    "print('Number of Unique Terminal Nodes: ', len(list_term))\n",
    "print('10 Most Frequent Terminal Nodes:')\n",
    "print(list_term[-10:])"
   ]
  },
  {
   "cell_type": "markdown",
   "metadata": {
    "colab_type": "text",
    "id": "N5Bm_EcruyUs"
   },
   "source": [
    "Store the unique terminal and non-terminal symbols in two separate lists \"terminals\" and \"non-terminals\" respectively. Store the grammar rules and their respective counts in a dictionary \"grammar_rule_counts\"."
   ]
  },
  {
   "cell_type": "code",
   "execution_count": 62,
   "metadata": {
    "colab": {},
    "colab_type": "code",
    "id": "0CCSn7gZuyUs"
   },
   "outputs": [],
   "source": [
    "#Write your code here\n",
    "terminals = list(all_term.keys())\n",
    "non_terminals = list(all_nonterm.keys())\n",
    "grammar_rule_counts = all_rules"
   ]
  },
  {
   "cell_type": "markdown",
   "metadata": {
    "colab_type": "text",
    "id": "rOSlK0awuyUu"
   },
   "source": [
    "### Task 2 (8 points)\n",
    "\n",
    "We can estimate the parameters (i.e., probabilities for the grammar rules) based on the counts collected from the training set. \n",
    "- Show the estimated parameter (i.e., probability) for each of the following rules: $S \\rightarrow NP \\ VP$, $NP \\rightarrow DT \\ NN$, $DT \\rightarrow the$."
   ]
  },
  {
   "cell_type": "code",
   "execution_count": 63,
   "metadata": {
    "colab": {},
    "colab_type": "code",
    "id": "EaqDZAZiuyUu"
   },
   "outputs": [
    {
     "name": "stdout",
     "output_type": "stream",
     "text": [
      "S -> NP VP\n",
      "0.09527165932452276\n",
      "NP -> DT NN\n",
      "0.07365995443714159\n",
      "DT -> 'the'\n",
      "0.5819703309243058\n"
     ]
    }
   ],
   "source": [
    "#Write your code here\n",
    "s = nltk.nonterminals('S')[0]\n",
    "np = nltk.nonterminals('NP')[0]\n",
    "vp = nltk.nonterminals('VP')[0]\n",
    "dt = nltk.nonterminals('DT')[0]\n",
    "nn = nltk.nonterminals('NN')[0]\n",
    "the = 'the'\n",
    "rule = nltk.Production(s, (np, vp))\n",
    "print(rule)\n",
    "print(grammar_rule_counts[rule] / all_nonterm['S'])\n",
    "\n",
    "rule = nltk.Production(np, (dt, nn))\n",
    "print(rule)\n",
    "print(grammar_rule_counts[rule] / all_nonterm['NP'])\n",
    "\n",
    "rule = nltk.Production(dt, [the])\n",
    "print(rule)\n",
    "print(grammar_rule_counts[rule] / all_nonterm['DT'])"
   ]
  },
  {
   "cell_type": "markdown",
   "metadata": {
    "colab_type": "text",
    "id": "zWTpGd8FuyUw"
   },
   "source": [
    "It is possible that some sentences cannot be parsed under the PCFG learned from a limited training set. Take \"Fruit flies like a banana\" for example, assume its PCFG is:\n",
    "\n",
    "$S → NP \\ S \\ (1)$\n",
    "\n",
    "$NP → A \\ N \\ (0.5)$\n",
    "\n",
    "$VP → V \\ NP \\ (1)$\n",
    "\n",
    "$NP → D \\ N \\ (0.5)$\n",
    "\n",
    "$A → Fruit \\ (1)$\n",
    "\n",
    "$N → flies \\ (0.5)$\n",
    "\n",
    "$V → like \\ (1)$\n",
    "\n",
    "$D→ a \\ (1)$\n",
    "\n",
    "$N → banana \\ (0.5)$\n",
    "\n",
    "In this case, we cannot construct a tree because there is no rule that can connect $S$ to $VP$.\n",
    "\n",
    "Now, consider another PCFG as follows:\n",
    "\n",
    "$S → NP \\ VP \\ (1)$\n",
    "\n",
    "$NP → A \\ N \\ (0.5)$\n",
    "\n",
    "$VP → V \\ NP \\ (1)$\n",
    "\n",
    "$NP → D \\ N \\ (0.5)$\n",
    "\n",
    "$A → Fruit \\ (1)$\n",
    "\n",
    "$N → flies \\ (0.5)$\n",
    "\n",
    "$V → like \\ (1)$\n",
    "\n",
    "$D→ the \\ (1)$\n",
    "\n",
    "$N → banana \\ (0.5)$\n",
    "\n",
    "In this case, we still cannot construct a tree because there is no rule for the terminal symbol \"a\". "
   ]
  },
  {
   "cell_type": "markdown",
   "metadata": {
    "colab_type": "text",
    "id": "Jxuhx5vLuyUw"
   },
   "source": [
    "Let us do a simple check on one test sentence:\n",
    "- Find out all terminal symbols of cnf_trees_test[0] that never appear in the PCFG rules that we have learned from the training set."
   ]
  },
  {
   "cell_type": "code",
   "execution_count": 64,
   "metadata": {
    "colab": {},
    "colab_type": "code",
    "id": "rSRRo6-9uyUw"
   },
   "outputs": [
    {
     "name": "stdout",
     "output_type": "stream",
     "text": [
      "['300-day']\n"
     ]
    }
   ],
   "source": [
    "#Write your code here\n",
    "t = cnf_trees_test[0]\n",
    "test_term = t.leaves()\n",
    "\n",
    "nvr_appear = []\n",
    "for i in test_term:\n",
    "    try:\n",
    "        a = all_term[i]\n",
    "    except:\n",
    "        nvr_appear.append(i)\n",
    "\n",
    "print(nvr_appear)"
   ]
  },
  {
   "cell_type": "markdown",
   "metadata": {
    "colab_type": "text",
    "id": "bpKhV3LUuyUy"
   },
   "source": [
    "We can use smoothing techniques to handle these cases. A simple smoothing method is as follows. We first create a new \"unknown\" non-terminal symbol $UNK$ and a new \"unknown\" terminal symbol $unk$.\n",
    "\n",
    "Next, for each original non-terminal symbol $A\\in N$, we add two new rules $A \\rightarrow UNK \\ UNK$ and $A \\rightarrow unk$ to the original PCFG.\n",
    "\n",
    "For each terminal symbol $\\alpha \\in \\Sigma$, we add one new rule $UNK \\rightarrow \\alpha$ to the original PCFG.\n",
    "\n",
    "The smoothed probabilities for all rules can then be estimated as:\n",
    "$$q_{smooth}(A \\rightarrow \\beta) = \\frac {count(A \\rightarrow \\beta)}{count(A)+2}$$\n",
    "$$q_{smooth}(A \\rightarrow UNK \\ UNK) = \\frac {1}{count(A)+2}$$\n",
    "$$q_{smooth}(A \\rightarrow unk) = \\frac {1}{count(A)+2}$$\n",
    "$$q_{smooth}(UNK \\rightarrow \\alpha) = \\frac {1}{|V|}$$\n",
    "where $|V|$ is the count of unique terminal symbols, and the values of $count(\\cdot)$ are the same as the ones used in Task 1 above.\n",
    "\n",
    "- Add \"$UNK$\", \"$unk$\" to the two lists \"non_terminals\" and \"terminals\" respectively, compute and store the smoothed probabilities of grammar rules in a Python dictionary \"smoothed_grammar_rule_probs\". \n",
    "- Show the smoothed probability for each of the following rules: \n",
    "\n",
    "$\\ \\ \\ \\ \\ \\ \\ \\ \\ \\ S \\rightarrow NP \\ VP$\n",
    "\n",
    "$\\ \\ \\ \\ \\ \\ \\ \\ \\ \\ NP \\rightarrow DT  \\ NN$\n",
    "\n",
    "$\\ \\ \\ \\ \\ \\ \\ \\ \\ \\ DT \\rightarrow the$"
   ]
  },
  {
   "cell_type": "code",
   "execution_count": 65,
   "metadata": {
    "colab": {},
    "colab_type": "code",
    "id": "CcX_zy5juyUy"
   },
   "outputs": [],
   "source": [
    "#Write your code to update the PCFG\n",
    "smoothed_grammar_rule_probs = {}\n",
    "\n",
    "unk = nltk.nonterminals('UNK')[0]\n",
    "for i in non_terminals:\n",
    "    if len(i)!=0:\n",
    "        first = nltk.nonterminals(i)[0]\n",
    "        rule = nltk.Production(first, (unk, unk))\n",
    "        smoothed_grammar_rule_probs[rule] = 1 / (all_nonterm[i] + 2)\n",
    "        rule = nltk.Production(first, ['unk'])\n",
    "        smoothed_grammar_rule_probs[rule] = 1 / (all_nonterm[i] + 2)\n",
    "\n",
    "cnt_term = len(all_term)\n",
    "for i in terminals:\n",
    "    rule = nltk.Production(unk, [i])\n",
    "    smoothed_grammar_rule_probs[rule] = 1 / cnt_term\n",
    "\n",
    "for i in grammar_rule_counts.keys():\n",
    "    lhs = str(i._lhs)\n",
    "    smoothed_grammar_rule_probs[i] = all_rules[i] / (all_nonterm[lhs] + 2)\n",
    "\n",
    "non_terminals.append('UNK')\n",
    "terminals.append('unk')"
   ]
  },
  {
   "cell_type": "code",
   "execution_count": 66,
   "metadata": {
    "colab": {},
    "colab_type": "code",
    "id": "yAoEIyuOuyUz"
   },
   "outputs": [
    {
     "name": "stdout",
     "output_type": "stream",
     "text": [
      "S -> NP VP\n",
      "0.09526046866741059\n",
      "NP -> DT NN\n",
      "0.07365609698620093\n",
      "DT -> 'the'\n",
      "0.5818227912282926\n"
     ]
    }
   ],
   "source": [
    "#Write your code here\n",
    "s = nltk.nonterminals('S')[0]\n",
    "np = nltk.nonterminals('NP')[0]\n",
    "vp = nltk.nonterminals('VP')[0]\n",
    "dt = nltk.nonterminals('DT')[0]\n",
    "nn = nltk.nonterminals('NN')[0]\n",
    "the = 'the'\n",
    "\n",
    "rule = nltk.Production(s, (np, vp))\n",
    "print(rule)\n",
    "print(smoothed_grammar_rule_probs[rule])\n",
    "\n",
    "rule = nltk.Production(np, (dt, nn))\n",
    "print(rule)\n",
    "print(smoothed_grammar_rule_probs[rule])\n",
    "\n",
    "rule = nltk.Production(dt, [the])\n",
    "print(rule)\n",
    "print(smoothed_grammar_rule_probs[rule])"
   ]
  },
  {
   "cell_type": "markdown",
   "metadata": {
    "colab_type": "text",
    "collapsed": true,
    "id": "A2iy5GQeuyU1"
   },
   "source": [
    "## CKY Algorithm\n",
    "\n",
    "### Task 3 (10 points)\n",
    "Similar to the Viterbi algorithm, the CKY algorithm is a dynamic-programming algorithm. Given a PCFG $G=(N, \\ \\Sigma, \\ S, \\ R, \\ q)$, we can use the CKY algorithm described in class to find the highest scoring parse tree for a sentence. \n",
    "\n",
    "First, let us complete the *CKY* function from scratch using only Python built-in functions and the Numpy package. \n",
    "\n",
    "The output should be two dictionaries $\\pi$ and $bp$, which store the optimal probability and backpointer information respectively.\n",
    "\n",
    "Given a sentence $w_0, w_1, ...,w_{n-1}$,  $\\pi(i, k, X)$, $bp(i, k, X)$ refer to the highest score and backpointer for the (partial) parse tree that has the root X (a non-terminal symbol) and covers the word span $w_i, ..., w_{k-1}$, where $0 \\le i < k \\le n$. Note that a backpointer includes both the best grammar rule chosen and the best split point.\n",
    "![tree](imgs/parse_tree.png)\n"
   ]
  },
  {
   "cell_type": "markdown",
   "metadata": {
    "colab_type": "text",
    "id": "KyHlRk1AuyU1"
   },
   "source": [
    "Take \"Fruit flies like a banana\" for example, $\\pi(0, 5, S)$ is the probability of the optimal complete parse tree, $bp(0, 5, S)$ is the corresponding backpointer. Specifically, the best split point is 2 and the best grammar rule chosen is $S \\rightarrow NP \\ VP$."
   ]
  },
  {
   "cell_type": "code",
   "execution_count": 310,
   "metadata": {
    "colab": {},
    "colab_type": "code",
    "id": "yxiCymv-uyU1"
   },
   "outputs": [],
   "source": [
    "import copy\n",
    "def CKY(sent, non_terminals, terminals, grammar_rule_probs):\n",
    "    '''\n",
    "    CKY algorithm\n",
    "    args:\n",
    "        sent: a sequence of words, list\n",
    "        non_terminals: non-terminal symbols, list\n",
    "        terminals: terminal symbols, list\n",
    "        grammar_rule_probs: probabilities of the rules, dictionary\n",
    "    returns:\n",
    "        pi: highest score for (partial) parse tree, dictionary\n",
    "        bp: backpointers, dictionary\n",
    "    '''\n",
    "    \n",
    "    pi = {}\n",
    "    bp = {}\n",
    "    \n",
    "    #Complete the code\n",
    "    for i in range(len(sent)):\n",
    "        if sent[i] not in terminals:\n",
    "            sent[i] = 'unk'\n",
    "            \n",
    "    record = []\n",
    "    for i in range(len(sent)):\n",
    "        tmp_rc = []\n",
    "        for j in range(len(sent)-i):\n",
    "            tmp_rc.append({})\n",
    "        record.append(copy.deepcopy(tmp_rc))\n",
    "        \n",
    "    # fill first row\n",
    "    for index, word in enumerate(sent):\n",
    "        for j in non_terminals:\n",
    "            non_term = nltk.nonterminals(j)\n",
    "            try:\n",
    "                non_term = non_term[0]\n",
    "            except:\n",
    "                non_term = None\n",
    "            rule = nltk.Production(non_term, [word])\n",
    "            try:\n",
    "                prob = grammar_rule_probs[rule]\n",
    "                record[0][index][non_term] = prob\n",
    "            except:\n",
    "                pass\n",
    "    # fill rest rows\n",
    "    \n",
    "    # for loop for rest rows\n",
    "    for row in range(len(sent) - 1):\n",
    "        row += 1\n",
    "        \n",
    "        # for loop for one level\n",
    "        for index in range(len(sent) - row):\n",
    "            max_lab = {}\n",
    "        \n",
    "            # for loop for split point\n",
    "            for split in range(row):\n",
    "                first = record[split]\n",
    "                second = record[row - 1 - split]\n",
    "                first_key = list(first[index].keys())\n",
    "                second_key = list(second[index + split + 1])\n",
    "                if len(first_key) == 0 or len(second_key) == 0:\n",
    "                    continue\n",
    "                    \n",
    "                # loop over all rules\n",
    "                for term in non_terminals:\n",
    "                    term = nltk.nonterminals(term)\n",
    "                    try:\n",
    "                        term = term[0]\n",
    "                    except:\n",
    "                        term = None\n",
    "                    for first_term in first_key:\n",
    "                        for second_term in second_key:\n",
    "                            gram = nltk.Production(term, (first_term, second_term))\n",
    "                            try:\n",
    "                                prob = grammar_rule_probs[gram]\n",
    "                                prob = prob * first[index][first_term] * second[index+split+1][second_term]\n",
    "                                try:\n",
    "                                    if prob > max_lab[term]:\n",
    "                                        max_lab[term] = prob\n",
    "                                        tag = str(index) + str(index+1+row) + str(term)\n",
    "                                        bp[tag] = [split, gram]\n",
    "                                        # TODO add bp\n",
    "                                        \n",
    "                                except:\n",
    "                                    max_lab[term] = prob\n",
    "                                    tag = str(index) + str(index+1+row) + str(term)\n",
    "                                    bp[tag] = [split, gram]\n",
    "                                    # TODO add bp\n",
    "                            except:\n",
    "                                pass\n",
    "            record[row][index] = max_lab\n",
    "    \n",
    "    # add values to pi\n",
    "    for nonterm in non_terminals:\n",
    "        for i in range(len(sent)+1):\n",
    "            for j in range(i):\n",
    "                tag = str(j) + str(i) + str(nonterm)\n",
    "                nonterm0 = nltk.nonterminals(nonterm)\n",
    "                try:\n",
    "                    nonterm0 = nonterm0[0]\n",
    "                except:\n",
    "                    nonterm0 = None\n",
    "                try:\n",
    "                    pi[tag] = record[i-j-1][j][nonterm0]\n",
    "                except:\n",
    "                    pass\n",
    "                \n",
    "    # add values to bp\n",
    "    for i in range(len(sent)):\n",
    "        for term in record[0][i].keys():\n",
    "            tag = str(i) + str(i+1) + str(term)\n",
    "            gram = nltk.Production(term, [sent[i]])\n",
    "            bp[tag] = [0, gram]\n",
    "    \n",
    "    return pi, bp"
   ]
  },
  {
   "cell_type": "markdown",
   "metadata": {
    "colab_type": "text",
    "id": "mjZ2j-fduyU2"
   },
   "source": [
    "Let us complete the *generate_parse_tree* function that can return a tree based on two arguments -- backpointers $bp$ and a \"start node\" $start$, where the \"start node\" is a tuple consisting of a span and a non-terminal symbol that covers that span. For example, if we set the start node as $(0, 5, S)$, the function will recursively build a tree based on the infomration stored in $bp$."
   ]
  },
  {
   "cell_type": "code",
   "execution_count": 316,
   "metadata": {
    "colab": {},
    "colab_type": "code",
    "id": "iTSw4F5XuyU3"
   },
   "outputs": [
    {
     "name": "stdout",
     "output_type": "stream",
     "text": [
      "[1, S -> NP VP]\n",
      "[0, NP -> DT NN]\n",
      "[0, DT -> 'the']\n",
      "[0, NN -> 'boy']\n",
      "[0, VP -> VBD NP]\n",
      "[0, VBD -> 'saw']\n",
      "[0, NP -> DT NP]\n",
      "[0, DT -> 'a']\n",
      "[0, NP -> JJ NNP]\n",
      "[0, JJ -> 'nice']\n",
      "[0, NNP -> 'cat']\n"
     ]
    },
    {
     "data": {
      "image/png": "[encoded data removed]",
      "text/plain": [
       "Tree(S, [Tree(NP, [Tree(DT, [('the',)]), Tree(NN, [('boy',)])]), Tree(VP, [Tree(VBD, [('saw',)]), Tree(NP, [Tree(DT, [('a',)]), Tree(NP, [Tree(JJ, [('nice',)]), Tree(NNP, [('cat',)])])])])])"
      ]
     },
     "execution_count": 316,
     "metadata": {},
     "output_type": "execute_result"
    }
   ],
   "source": [
    "def generate_parse_tree(bp, start):\n",
    "    '''\n",
    "    Recursively construct a tree\n",
    "    args:\n",
    "        bp: backpointers that allow us to recover the highest scoring parse tree, dictionary\n",
    "        start: the start node, i.e., (i, k, X), which refers to the non-terminal root X and the words span [i, k) it covers, tuple\n",
    "    return:\n",
    "        tree: the parse tree, nltk.tree.Tree type\n",
    "    '''\n",
    "    #complete the code\n",
    "    \n",
    "    tag = str(start[0]) + str(start[1]) + str(start[2])\n",
    "    bp_info = bp[tag]\n",
    "    print(bp_info)\n",
    "    if len(bp_info[1]._rhs) > 1:\n",
    "        sub_treel = generate_parse_tree(bp, (start[0], start[0] + bp_info[0] + 1, bp_info[1]._rhs[0]))\n",
    "        sub_treer = generate_parse_tree(bp, (start[0] + bp_info[0] + 1, start[1], bp_info[1]._rhs[1]))\n",
    "        return nltk.Tree(bp_info[1]._lhs, [sub_treel, sub_treer])\n",
    "        #combine two subtree\n",
    "    else:\n",
    "        return nltk.Tree(bp_info[1]._lhs, [bp_info[1]._rhs])\n",
    "\n",
    "s = nltk.nonterminals('S')[0]\n",
    "full_tree = generate_parse_tree(bp, (0, 6, s))\n",
    "full_tree"
   ]
  },
  {
   "cell_type": "markdown",
   "metadata": {
    "colab_type": "text",
    "id": "VgNAZFUGuyU4"
   },
   "source": [
    "Now using the PCFG learned from Task 2, we can work on the following:\n",
    "- Compute the max probability for the sentence \"the boy saw a nice cat\" based on \"terminals\", \"non_terminals\", \"smoothed_rule_probs\" obtained in Task 2.\n",
    "- Generate and display the parse tree of the sentence."
   ]
  },
  {
   "cell_type": "code",
   "execution_count": 312,
   "metadata": {
    "colab": {},
    "colab_type": "code",
    "id": "73e_mqx5uyU4"
   },
   "outputs": [],
   "source": [
    "sent = \"the boy saw a nice cat\".split()\n",
    "pi, bp = CKY(sent, non_terminals, terminals, smoothed_grammar_rule_probs)\n",
    "#Write your code to display max probability and generate the parse tree"
   ]
  },
  {
   "cell_type": "markdown",
   "metadata": {
    "colab_type": "text",
    "id": "8WLdpSaxuyU5"
   },
   "source": [
    "## Evaluate Our Parser\n",
    "\n",
    "Now we can use the CKY algorithm implemented in Task 3 to predict parse trees on sentences from the test set, then evaluate the performance based on the gold parse trees of the test set. Before we perform the evaluation, we need to represent our parse trees in a form of constituents which are denoted as brackets $X(i, j)$, where $X$ is the non-terminal symbol **that has two children**, and $i$, $j$ refers to the starting point (inclusive) and ending point (exclusive) respectively. **(In other words, a constituent cannot consist of a single word only.)**\n",
    "\n",
    "Metrics are defined as:\n",
    "- Precision = (# of correct constituents in the predicted parse trees)/(# of total constituents in the predicted parse trees)\n",
    "\n",
    "- Recall = (# of correct constituents in the predicted parse trees)/(# of correct constituents in the gold parse trees)\n",
    "\n",
    "- F1 score = 2\\*precision\\*recall/(precision+recall)\n",
    "\n",
    "Using the sentence \"Fruit flies like a banana\" as example again, there are five words in the sentence with labels from 0 to 4. Assume the constituents are $S(0, 5)$, $NP(0, 2)$, $VP(2, 5)$, $NP(3, 5)$ in the gold parse tree (shown in Task 3), and $S(0, 5)$, $NP(0, 2)$, $PP(2, 5)$, $NP(3, 5)$ in the predicted parse tree (shown below). Then the precision = 3/4, the recall = 3/4, and the F1 score = 0.75. \n",
    "![parse_tree](imgs/parse_tree2.png)\n",
    "\n",
    "### Task 4 (6 points):\n",
    "- Run the CKY algorithm on the test set and generate parse trees under the smoothed PCFG obtained in Task 2. Note that some test sentences contain words that are not included in the  list \"terminals\", set those words as $unk$.\n",
    "- Extract the constituents from the gold and predicted parse trees respectively.\n",
    "- Compute the overall precision, recall and F1 score for the test set.\n"
   ]
  },
  {
   "cell_type": "code",
   "execution_count": 270,
   "metadata": {
    "colab": {},
    "colab_type": "code",
    "id": "IKYB639xuyU5"
   },
   "outputs": [],
   "source": [
    "#Write your code here"
   ]
  },
  {
   "cell_type": "code",
   "execution_count": null,
   "metadata": {},
   "outputs": [],
   "source": []
  }
 ],
 "metadata": {
  "colab": {
   "collapsed_sections": [],
   "name": "homework 2.ipynb",
   "provenance": [],
   "version": "0.3.2"
  },
  "kernelspec": {
   "display_name": "Python 3",
   "language": "python",
   "name": "python3"
  },
  "language_info": {
   "codemirror_mode": {
    "name": "ipython",
    "version": 3
   },
   "file_extension": ".py",
   "mimetype": "text/x-python",
   "name": "python",
   "nbconvert_exporter": "python",
   "pygments_lexer": "ipython3",
   "version": "3.6.7"
  }
 },
 "nbformat": 4,
 "nbformat_minor": 1
}
