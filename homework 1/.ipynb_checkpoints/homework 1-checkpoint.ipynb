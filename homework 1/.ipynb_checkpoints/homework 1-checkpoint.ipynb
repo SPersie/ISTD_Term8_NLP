{
 "cells": [
  {
   "cell_type": "markdown",
   "metadata": {},
   "source": [
    "# 50.040 Natural Language Processing (Summer 2019) Homework 1"
   ]
  },
  {
   "cell_type": "markdown",
   "metadata": {},
   "source": [
    "**Write your student ID(s) and name(s)**\n",
    "\n",
    "ID:\n",
    "\n",
    "Name:\n",
    "\n",
    "Students with whom you have discussed (if any):"
   ]
  },
  {
   "cell_type": "markdown",
   "metadata": {},
   "source": [
    "### Introduction\n",
    "Word embeddings are dense vectors that represent words, and capable of capturing semantic and syntactic similarity, relation with other words, etc.\n",
    "Word2Vec is one of the most popular techniques to learn word embeddings using shallow neural networks. It was developed by Tomas Mikolov in 2013 at Google.\n",
    "Generally, there are two methods to evaluate the quality of word embeddings. One is intrinsic evaluation, and the other is extrinsic evaluation. In intrinsic evaluation, the similarities between words are explored whereas in extrinsic evaluation, downstream tasks are executed based on word embeddings.\n",
    "\n",
    "In order to finish the following tasks, you need to [download](http://mattmahoney.net/dc/text8.zip) the text8 dataset and put it under the \"data\" folder. The text8 dataset consists of one single line of long text. Please do not change the data unless you are requested to do so.\n",
    "\n",
    "Environment:\n",
    "- Python 3.5 or above\n",
    "- gensim package\n",
    "- pytorch package\n",
    "- numpy package"
   ]
  },
  {
   "cell_type": "markdown",
   "metadata": {},
   "source": [
    "## Questions\n",
    "\n",
    "**(2 points) Consider a given sentence \"I am interested in NLP.\" If the window size is 1 (i.e., consider only the word to the left and to the right of the current word), what will be the context and target pairs in a CBOW model? What will be the pairs in a Skip-gram model?** (Images were taken from Mikolov's [paper](https://papers.nips.cc/paper/5021-distributed-representations-of-words-and-phrases-and-their-compositionality.pdf))"
   ]
  },
  {
   "cell_type": "markdown",
   "metadata": {},
   "source": [
    "<table><tr>\n",
    "<td> <img src=\"https://cdn-images-1.medium.com/max/800/1*UVe8b6CWYykcxbBOR6uCfg.png\"/> </td>\n",
    "<td> <img src=\"https://cdn-images-1.medium.com/max/800/1*SR6l59udY05_bUICAjb6-w.png\"  style=\"width: 250px;\"/> </td>\n",
    "</tr></table>"
   ]
  },
  {
   "cell_type": "markdown",
   "metadata": {},
   "source": [
    "**Write your answer here**"
   ]
  },
  {
   "cell_type": "markdown",
   "metadata": {},
   "source": [
    "## Tasks\n",
    "\n",
    "### 1. Preprocess the dataset\n",
    "We will train our own word embedding on text8 dataset, the dataset contains **a single line of text**. Do not remove any characters from the data as it is very clean. We need to load and split the text into a sequence of words, then divide the words into batches to speed up training, each batch contains 100 words, please keep the orders of the words."
   ]
  },
  {
   "cell_type": "code",
   "execution_count": 1,
   "metadata": {
    "collapsed": true
   },
   "outputs": [],
   "source": [
    "#Set the paths of the text dataset\n",
    "from nltk import word_tokenize\n",
    "text_path = 'data/text8'"
   ]
  },
  {
   "cell_type": "markdown",
   "metadata": {},
   "source": [
    "**(2 points) Complete the code of *read_tokenize_text*, which read a text file and tokenize it to words.** For example, a text \"I like NLP\" can be tokenized as \"I\", \"like\", \"NLP\". You can use either Python build-in function or tools like NLTK package."
   ]
  },
  {
   "cell_type": "code",
   "execution_count": 1,
   "metadata": {
    "collapsed": true
   },
   "outputs": [],
   "source": [
    "#Read the text into memory, tokenize the text into words\n",
    "def read_tokenize_text(file_path):  \n",
    "    '''\n",
    "    Args:\n",
    "        file_path: the path of a text file, string\n",
    "    Return:\n",
    "        A sequence of words, Python list\n",
    "    '''\n",
    "    #to be completed\n",
    "    return None"
   ]
  },
  {
   "cell_type": "markdown",
   "metadata": {},
   "source": [
    "**(2 points) Complete the code of *create_word_batch*, to divide a long sequence of words into batches of words.** For example, the word sequence [\"I\", \"like\", \"NLP\", \"So\", \"does\", \"he\"] can be divided into two batches, [\"I\", \"like\", \"NLP\"], [\"So\", \"does\", \"he\"]. It is more efficient to train word embedding on batches of word sequences rather than on a long sequence. "
   ]
  },
  {
   "cell_type": "code",
   "execution_count": 3,
   "metadata": {
    "collapsed": true
   },
   "outputs": [],
   "source": [
    "#Split the words into batches, each batch contains 100 words\n",
    "def create_word_batch(words, batch_size=100):\n",
    "    '''\n",
    "    Args:\n",
    "        words: a sequence of words, list\n",
    "        batch_size: the number of words in a batch, integer\n",
    "    Return:\n",
    "        batches of words, list\n",
    "    '''\n",
    "    #to be completed\n",
    "    return None"
   ]
  },
  {
   "cell_type": "markdown",
   "metadata": {},
   "source": [
    "Now we can use the functions above to read the text8 data, and create word batches."
   ]
  },
  {
   "cell_type": "code",
   "execution_count": 4,
   "metadata": {
    "collapsed": true
   },
   "outputs": [],
   "source": [
    "words = read_tokenize_text(text_path)\n",
    "print('Total number of words:', len(words))"
   ]
  },
  {
   "cell_type": "code",
   "execution_count": 5,
   "metadata": {
    "collapsed": true
   },
   "outputs": [],
   "source": [
    "batch_words = create_word_batch(words)"
   ]
  },
  {
   "cell_type": "code",
   "execution_count": null,
   "metadata": {
    "collapsed": true
   },
   "outputs": [],
   "source": [
    "print(batch_words[0])"
   ]
  },
  {
   "cell_type": "markdown",
   "metadata": {},
   "source": [
    "### 2. Train our own word embeddings\n",
    "Instead of implementing a Word2vec model from scratch, we can use Python packages to achieve so by simply specifying inputs, hyperparameters in a package.\n",
    "\n",
    "In this exercise, we'll call [gensim](https://radimrehurek.com/gensim/models/word2vec.html) package to train word embeddings on *batch_words* sequences created above. If you are not familiar with gensim Word2Vec api, you can run \"help(Word2Vec)\" command in the cell or refer to the tutorial in the official website.\n",
    "\n",
    "Set the embedding size as 100, minimum count as 2, and select skip-gram approach. It may take minutes to complete the training. Set the other hyperparameters as default values or you can tune them."
   ]
  },
  {
   "cell_type": "code",
   "execution_count": 2,
   "metadata": {
    "collapsed": true
   },
   "outputs": [],
   "source": [
    "from gensim.models import Word2Vec\n",
    "from time import time\n",
    "#help(Word2Vec)"
   ]
  },
  {
   "cell_type": "markdown",
   "metadata": {},
   "source": [
    "**(2 points) Complete the code using gensim to train word embeddings.**"
   ]
  },
  {
   "cell_type": "code",
   "execution_count": 52,
   "metadata": {
    "collapsed": false
   },
   "outputs": [
    {
     "name": "stdout",
     "output_type": "stream",
     "text": [
      "Word embedding trained successfully\n",
      "Timing:.80.36\n"
     ]
    }
   ],
   "source": [
    "#Use Word2Vec api to train word embedding\n",
    "start = time()\n",
    "#################to be completed################## \n",
    "model = None\n",
    "##################################################\n",
    "end = time()\n",
    "print('Word embedding trained successfully')\n",
    "print('Timing:.{:0.2f}s'.format(end-start))"
   ]
  },
  {
   "cell_type": "markdown",
   "metadata": {},
   "source": [
    "Let's take a look at the embedding for the word \"car\"."
   ]
  },
  {
   "cell_type": "code",
   "execution_count": 7,
   "metadata": {
    "collapsed": true
   },
   "outputs": [],
   "source": [
    "model.wv['car']"
   ]
  },
  {
   "cell_type": "markdown",
   "metadata": {},
   "source": [
    "### 3. Visualize the embeddings\n",
    "\n",
    "Visualization is often employed in analyzing word embedding. However, word embedding dimension is usually far larger than two, and it is not easy to visualize data that has more than 3 dimensions. We need to transform our word embeddings to 2-dimensional data before doing visualization.\n",
    "\n",
    "[Principal component analysis](https://en.wikipedia.org/wiki/Principal_component_analysis) (PCA) is a statistical procedure that uses an orthogonal transformation to convert a set of observations of possibly correlated variables (entities each of which takes on various numerical values) into a set of values of linearly uncorrelated variables called principal components. PCA can be used to reduce dimension by selecting several principal components.\n",
    "\n",
    "In this exercise, we will use PCA to map the 100-dimensional word embeddings to 2-dimensional points. "
   ]
  },
  {
   "cell_type": "markdown",
   "metadata": {},
   "source": [
    "Let's display the size of vocabulary:"
   ]
  },
  {
   "cell_type": "code",
   "execution_count": 54,
   "metadata": {
    "collapsed": false
   },
   "outputs": [
    {
     "data": {
      "text/plain": [
       "135335"
      ]
     },
     "execution_count": 54,
     "metadata": {},
     "output_type": "execute_result"
    }
   ],
   "source": [
    "len(model.wv.vocab)"
   ]
  },
  {
   "cell_type": "markdown",
   "metadata": {},
   "source": [
    "then select first 300 words from the vocabulary in the model trained above."
   ]
  },
  {
   "cell_type": "code",
   "execution_count": 63,
   "metadata": {
    "collapsed": true
   },
   "outputs": [],
   "source": [
    "vocab_words = list(model.wv.vocab.keys())\n",
    "select_300_words = vocab_words[:300]"
   ]
  },
  {
   "cell_type": "markdown",
   "metadata": {},
   "source": [
    "**(2 points) Complete the code to find the embedding of each word in select_300_words, and stack them into a numpy ndarray**:"
   ]
  },
  {
   "cell_type": "code",
   "execution_count": 58,
   "metadata": {
    "collapsed": true
   },
   "outputs": [],
   "source": [
    "#to be completed\n",
    "#shape of vectors should be 300*100\n",
    "vectors = None"
   ]
  },
  {
   "cell_type": "markdown",
   "metadata": {},
   "source": [
    "**(4 points) Complete PCA algorithm using Python numpy package from scratch.** PCA can be regarded as eigenvalue decomposition. Let's denote word embedding vectors as $X \\in R^{n \\times d}$, $n$ is word number, $d$ is embedding dimension. We will follow procedures described below and implement our PCA algorithm:\n",
    "- Compute the mean vector $\\overline X$ of the embedding vectors X.\n",
    "- Normalize embedding vectors by subtracting mean vector for each word embedding $X_i$.\n",
    "$$X_{i}=X_i-\\overline X$$\n",
    "- Compute the covariance matrix of normalized $X$\n",
    "$$C = \\frac {X^TX}{n-1}$$\n",
    "- Do eigen decomposition of the covariance matrix $C$ using numpy and get eigenvectors $W$(principal components).\n",
    "- Transform the normalized matrix $X$, and select first kth columns as projection.\n",
    "$$\\hat X = XW$$\n",
    "$$X_{proj} = \\hat X_{1:k}$$\n"
   ]
  },
  {
   "cell_type": "code",
   "execution_count": 89,
   "metadata": {
    "collapsed": true
   },
   "outputs": [],
   "source": [
    "#please use Python built-in function and numpy\n",
    "def pca(X, k=2):\n",
    "    '''\n",
    "    PCA algorithms\n",
    "    Args:\n",
    "        X: input matrix\n",
    "        k: number of principal components\n",
    "    Return:\n",
    "        the projections on the first k principal components\n",
    "    '''\n",
    "    ###################to be completed################\n",
    "    X_pca = None\n",
    "    ##################################################\n",
    "    return X_pca[:, :k]"
   ]
  },
  {
   "cell_type": "markdown",
   "metadata": {},
   "source": [
    "Now we can project the 100-dimension word vectors to 2-dimension points."
   ]
  },
  {
   "cell_type": "code",
   "execution_count": 90,
   "metadata": {
    "collapsed": true
   },
   "outputs": [],
   "source": [
    "two_d_embeddings = pca(vectors)"
   ]
  },
  {
   "cell_type": "markdown",
   "metadata": {},
   "source": [
    "Let's check the projection of word embeddings on a 2-D plot."
   ]
  },
  {
   "cell_type": "code",
   "execution_count": 91,
   "metadata": {
    "collapsed": true
   },
   "outputs": [],
   "source": [
    "#Visualize the transformed word embeddings and annotate them with words.\n",
    "def plot(embeddings, labels):\n",
    "  assert embeddings.shape[0] >= len(labels), 'More labels than embeddings'\n",
    "  plt.figure(figsize=(15,15))  # in inches\n",
    "  for i, label in enumerate(labels):\n",
    "    x, y = embeddings[i,:]\n",
    "    plt.scatter(x, y)\n",
    "    plt.annotate(label, xy=(x, y), xytext=(5, 2), textcoords='offset points',\n",
    "                   ha='right', va='bottom')"
   ]
  },
  {
   "cell_type": "code",
   "execution_count": 3,
   "metadata": {
    "collapsed": true
   },
   "outputs": [],
   "source": [
    "plot(two_d_embeddings, first_300_words)"
   ]
  },
  {
   "cell_type": "markdown",
   "metadata": {},
   "source": [
    "**(2 points) Describe patterns in the visualization, are there any clusters of similar words? If there aren't any patterns, analyse the problem and re-train the word embeddings.**"
   ]
  },
  {
   "cell_type": "markdown",
   "metadata": {},
   "source": [
    "**Write your answer here**"
   ]
  },
  {
   "cell_type": "markdown",
   "metadata": {},
   "source": [
    "### 4. Intrinsic Evaluation\n",
    "**(2 points) Based on the embeddings we have trained, find most similar 5 words for each of the words [cat, dog, eat] and their similarities**, check whether the results match our tuition or not. You can use gensim functions."
   ]
  },
  {
   "cell_type": "code",
   "execution_count": 1,
   "metadata": {
    "collapsed": true
   },
   "outputs": [],
   "source": [
    "##to be completed"
   ]
  },
  {
   "cell_type": "markdown",
   "metadata": {},
   "source": [
    "A popular choice for intrinsic evaluation of word vectors is to explore the performance in completing word vector analogies, assume there are two word pairs, a:b, c:d, ideally, their embeddings satisfy a rule $x_a-x_b = x_c-x_d$. For instance, queen – king = actress – actor.\n",
    "\n",
    "**(2 points) Now find out which word will it be in woman - king = man - ?** You can use gensim package."
   ]
  },
  {
   "cell_type": "code",
   "execution_count": 2,
   "metadata": {
    "collapsed": true
   },
   "outputs": [],
   "source": [
    "##to be completed"
   ]
  },
  {
   "cell_type": "markdown",
   "metadata": {},
   "source": [
    "### 5. Extrinsic Evaluation\n",
    "Apart from intrinsic evaluation, the quality of word embeddings can also be evaluated by downstream tasks such as sentiment analysis, which aims to detect the sentiment polarity of a sentence. For instance, the sentence \"I like the movie very much\" is positive, whereas \"I was very disappointed with my new phone\" is negative.\n",
    "\n",
    "In sentiment analysis, each sentence can be tokenized as a sequence of words, then map each word to its embedding, next feed the sequence of word embedding to a GRU layer and obtain the final output of the GRU as the sentence vector. With the sentence vectors and labels, we can train a classifier.\n",
    "\n",
    "We will implement a sentiment analysis pipeline step by step on [movie reviews](https://www.kaggle.com/c/sentiment-analysis-on-movie-reviews/data) from the Rotten Tomatoes."
   ]
  },
  {
   "cell_type": "markdown",
   "metadata": {},
   "source": [
    "#### 5.1 Load the sentiment  dataset \n",
    "The dataset consists of training and testing parts, they have been preprocessed and saved in *.csv format. The data only has two sentiment labels, positive and negative."
   ]
  },
  {
   "cell_type": "code",
   "execution_count": 5,
   "metadata": {
    "collapsed": true
   },
   "outputs": [],
   "source": [
    "import pandas as pd\n",
    "import numpy as np\n",
    "import torch\n",
    "from torch import nn\n",
    "from dynamic_rnn import dynamicRNN"
   ]
  },
  {
   "cell_type": "code",
   "execution_count": 4,
   "metadata": {
    "collapsed": true
   },
   "outputs": [],
   "source": [
    "train_data_split = pd.read_csv('data/train_data_processed.csv')\n",
    "test_data_split = pd.read_csv('data/test_data_processed.csv')\n",
    "train_data_split.head()"
   ]
  },
  {
   "cell_type": "markdown",
   "metadata": {},
   "source": [
    "#### 5.2 Transform texts into sequences of embedding\n",
    "We need to tokenize each sentence into a sequence of words first, then map them to a sequence of word embeddings. As the lengths of sentences vary, it is necessary to pad all the sentences to the same length in order to stack them in a tensor."
   ]
  },
  {
   "cell_type": "code",
   "execution_count": 93,
   "metadata": {
    "collapsed": true
   },
   "outputs": [],
   "source": [
    "#initialize unknown word embedding\n",
    "unk_emb = np.random.rand(100) * 0.01- 0.005\n",
    "max_text_len = 52\n",
    "\n",
    "def word2emb(w):\n",
    "    '''\n",
    "    Map each word to a vector\n",
    "    Unknown word will be assigned a random value\n",
    "    Args:\n",
    "        w: a word, string\n",
    "    return:\n",
    "        embedding of the given word\n",
    "    '''\n",
    "    try:\n",
    "        emb = model.wv[w]\n",
    "    except:\n",
    "        emb = unk_emb \n",
    "    return emb"
   ]
  },
  {
   "cell_type": "markdown",
   "metadata": {},
   "source": [
    "**(2 points) Complete the function *text2seq* below, we need a function to tokenize a sentence into a sequence of words.**"
   ]
  },
  {
   "cell_type": "code",
   "execution_count": 2,
   "metadata": {
    "collapsed": true
   },
   "outputs": [],
   "source": [
    "def text2seq(text):\n",
    "    '''\n",
    "    Split a text into a sequence of words\n",
    "    Args:\n",
    "        text: a string of text\n",
    "    Return:\n",
    "        a list of words\n",
    "    '''\n",
    "    #to be completed\n",
    "    return None"
   ]
  },
  {
   "cell_type": "markdown",
   "metadata": {},
   "source": [
    "**(2 points) Complete the function *seq2emb*, to map a sequence of words to a sequence of word embeddings**, remember to pad each sequence to the same length and return a numpy array.\n",
    "\n",
    "For example,  the lengths of the two sentences \"I like NLP\", \"It is a nice car\" are different, we can paddle the first one as \"I like NLP $\" by adding a special token \"$\" in the end. In the function seq2emb, you can just set the embeddings of the padded tokens as 0s."
   ]
  },
  {
   "cell_type": "code",
   "execution_count": 28,
   "metadata": {
    "collapsed": true
   },
   "outputs": [],
   "source": [
    "def seq2emb(tokens, max_pad_length=52):\n",
    "    '''\n",
    "    Map a sequence of words to a sequence of embedding\n",
    "    Args:\n",
    "        tokens: a list of words, lengths may be varied\n",
    "        max_pad_length: the padding length, integer\n",
    "    Return:\n",
    "        a numpy.ndarray object, shape is max_pad_length*embedding_dim\n",
    "    '''\n",
    "    #to be completed \n",
    "    return None                          "
   ]
  },
  {
   "cell_type": "markdown",
   "metadata": {},
   "source": [
    "Let's check whether our code works:"
   ]
  },
  {
   "cell_type": "code",
   "execution_count": 97,
   "metadata": {
    "collapsed": true
   },
   "outputs": [],
   "source": [
    "tokens = ['An', \"awesome\", \"car\"]\n",
    "example_seq_emb = seq2emb(tokens)\n",
    "assert example_seq_emb.shape == (52, 100)"
   ]
  },
  {
   "cell_type": "markdown",
   "metadata": {},
   "source": [
    "We can also create a function *text2emb*, to transform a batch of sentences to padded sequences of embeddings."
   ]
  },
  {
   "cell_type": "code",
   "execution_count": 98,
   "metadata": {
    "collapsed": true
   },
   "outputs": [],
   "source": [
    "def text2emb(texts):\n",
    "    '''\n",
    "    Transform texts into sequences of embedding\n",
    "    Args:\n",
    "        texts: a list of sentences\n",
    "    Return:\n",
    "        sentence representations, sentence lengths\n",
    "    '''\n",
    "    text_seqs = list(map(text2seq, texts))\n",
    "    text_lens = np.array([len(seq) for seq in text_seqs])\n",
    "    text_seq_embs = list(map(seq2emb, text_seqs))#a list of tokens\n",
    "    text_seq_embs = np.stack(text_seq_embs, axis=0)\n",
    "    return text_seq_embs, text_lens"
   ]
  },
  {
   "cell_type": "code",
   "execution_count": 4,
   "metadata": {
    "collapsed": true
   },
   "outputs": [],
   "source": [
    "texts = ['This is an awesome car', 'I like NLP']\n",
    "example_text_seq_embs, example_text_lens = text2emb(texts)\n",
    "\n",
    "assert example_text_seq_embs.shape == (2, 52, 100)\n",
    "assert example_text_lens.shape == (2,)"
   ]
  },
  {
   "cell_type": "markdown",
   "metadata": {},
   "source": [
    "#### 5.3 GRU-based Classifier\n",
    "Recurrent neural networks(RNN) have been explored in many NLP tasks, and proved to be efficient in capturing context dependencies. [Gated Recurrent Unit](https://en.wikipedia.org/wiki/Gated_recurrent_unit)(GRU)is a variant of Recurrent Neural Network(RNN). The GRU is similar to a long short-term memory (LSTM) with forget gate but has fewer parameters  as it lacks an output gate. The formula and architecture are shown below(taken from Wikipedia):\n",
    "![gru_formula](https://wikimedia.org/api/rest_v1/media/math/render/svg/d191eafc26594b0d9754f3221ca8a94852588f7c)\n",
    "![gru](https://upload.wikimedia.org/wikipedia/commons/thumb/3/37/Gated_Recurrent_Unit%2C_base_type.svg/220px-Gated_Recurrent_Unit%2C_base_type.svg.png)\n"
   ]
  },
  {
   "cell_type": "markdown",
   "metadata": {},
   "source": [
    "$x_t$ is the current input, $h_{t-1}$ is the last hidden output of GRU, $h_t$ is current hidden output of GRU. $z_t$ is the forget gate and $r_t$ is the reset gate, $W_z$, $W_r$, $U_z$, $U_r$ are parameters, $b_z$, $b_r$ are biases. \n",
    "\n",
    "We have provided a dynamic GRU class to handle varying-length sentences. Note, for this part, we need to use Pytorch package, if you are not familiar with Pytorch, you can refer to [tutorials](https://pytorch.org/tutorials/)."
   ]
  },
  {
   "cell_type": "markdown",
   "metadata": {},
   "source": [
    "Each sentence can be transformed into a vector using an RNN layer, and we can handle a batch of sentences each time in our dynamic GRU class. Let's check our dynamic GRU class with examples created above. **Note, we need to feed both word embedding tensors of sentences and the actual lengths of sentences to dynamic GRU class.**"
   ]
  },
  {
   "cell_type": "code",
   "execution_count": 9,
   "metadata": {
    "collapsed": true
   },
   "outputs": [],
   "source": [
    "embed_dim, hidden_dim = 100, 16\n",
    "#Create a dynamic RNN object\n",
    "dynRNN = dynamicRNN(embed_dim, hidden_dim)\n",
    "#You need to transform numpy arrays to pytorch tensors, for integers, you need to use LongTensor type\n",
    "example_text_seq_embs = torch.FloatTensor(example_text_seq_embs)\n",
    "example_text_lens = torch.LongTensor(example_text_lens)\n",
    "#Obtain the sentence representations\n",
    "sent_reps = dynRNN(example_text_seq_embs, example_text_lens)\n",
    "print(sent_reps.size())"
   ]
  },
  {
   "cell_type": "code",
   "execution_count": null,
   "metadata": {
    "collapsed": true
   },
   "outputs": [],
   "source": [
    "print(sent_reps)"
   ]
  },
  {
   "cell_type": "markdown",
   "metadata": {},
   "source": [
    "**(4 points) Complete the forward function of RNNClassifier**, which input a tensor representing a batch of sentences as well as a tensor recording the actual lengths of sentences."
   ]
  },
  {
   "cell_type": "code",
   "execution_count": 103,
   "metadata": {
    "collapsed": true
   },
   "outputs": [],
   "source": [
    "class RNNClassifier(nn.Module):\n",
    "    '''\n",
    "    Transform sentence representations to sentiment label expression\n",
    "    '''\n",
    "    def __init__(self, embed_dim, hidden_dim, output_dim=2):\n",
    "        '''\n",
    "        Args:\n",
    "            embed_dim: embedding dimension, integer\n",
    "            hidden_dim: GRU hidden layer dimension, integer\n",
    "            output_dim: output dimension(label size), integer\n",
    "        '''\n",
    "        super(RNNClassifier, self).__init__()\n",
    "        self.dynRNN = dynamicRNN(embed_dim, hidden_dim)\n",
    "        self.linear = torch.nn.Linear(hidden_dim, output_dim)\n",
    "        self.dropout = torch.nn.Dropout(0.2)\n",
    "        self.log_softmax = torch.nn.LogSoftmax(dim=1)\n",
    "     \n",
    "    def forward(self, text_seq_embs, text_seq_lens):\n",
    "        '''\n",
    "        Args:\n",
    "            text_seq_embs: batch sequences of word embedding, batch_size*sequence_length*embedding_dim\n",
    "            text_seq_lens: actual lengths of each batch sequence, batch_size\n",
    "        '''\n",
    "        ################to be completed##############\n",
    "        #1. Obtain the final hidden states for each sentences using dynamicRNN\n",
    "\n",
    "        #2. Use dropout on the sentence representations\n",
    "\n",
    "        #3. Feed the sentence vectors to a fully-connected layer\n",
    "\n",
    "        #4. Get and return the log softmax values of the output\n",
    "\n",
    "        return None\n"
   ]
  },
  {
   "cell_type": "markdown",
   "metadata": {},
   "source": [
    "Simply check our classifier:"
   ]
  },
  {
   "cell_type": "code",
   "execution_count": 137,
   "metadata": {
    "collapsed": true
   },
   "outputs": [],
   "source": [
    "torch.manual_seed(1)\n",
    "classifier = RNNClassifier(100, 64)\n",
    "pred_scores = classifier(example_text_seq_embs, example_text_lens)\n",
    "assert pred_scores.size() == (2, 2)"
   ]
  },
  {
   "cell_type": "markdown",
   "metadata": {},
   "source": [
    "With the functions define above, you can transform the sentences in the dataset into sequences of embedding."
   ]
  },
  {
   "cell_type": "code",
   "execution_count": 131,
   "metadata": {
    "collapsed": true
   },
   "outputs": [],
   "source": [
    "#Process the training and testing sentences, obtain the padded sequences of embeddings and actual sentence lengths\n",
    "train_seq_embs, train_lens = text2emb(train_data_split.Phrase)\n",
    "test_seq_embs, test_lens = text2emb(test_data_split.Phrase)"
   ]
  },
  {
   "cell_type": "code",
   "execution_count": 132,
   "metadata": {
    "collapsed": true
   },
   "outputs": [],
   "source": [
    "train_labels = train_data_split.Sentiment.values\n",
    "test_labels = test_data_split.Sentiment.values"
   ]
  },
  {
   "cell_type": "markdown",
   "metadata": {},
   "source": [
    "In order to train the parameters, optimization method and loss should be specified. Let's use Adam optimizer."
   ]
  },
  {
   "cell_type": "code",
   "execution_count": 138,
   "metadata": {
    "collapsed": true
   },
   "outputs": [],
   "source": [
    "optimizer = torch.optim.Adam(classifier.parameters(), lr=0.001)\n",
    "loss_func = torch.nn.NLLLoss()"
   ]
  },
  {
   "cell_type": "markdown",
   "metadata": {},
   "source": [
    "**(2 point) Complete the code of training**. Note, we need to keep records of the average cost for each 40 loops for visualization. You can refer to a pytorch neural network [pipeline](https://pytorch.org/tutorials/beginner/blitz/neural_networks_tutorial.html#sphx-glr-beginner-blitz-neural-networks-tutorial-py). It is sufficient to run this code using CPU only."
   ]
  },
  {
   "cell_type": "code",
   "execution_count": 139,
   "metadata": {
    "collapsed": false
   },
   "outputs": [
    {
     "name": "stdout",
     "output_type": "stream",
     "text": [
      "Training Loss 0.72\n",
      "Training Loss 0.66\n",
      "Training Loss 0.62\n",
      "Training Loss 0.51\n",
      "Training Loss 0.52\n",
      "Training Loss 0.57\n",
      "Training Loss 0.49\n",
      "Training Loss 0.46\n",
      "Training Loss 0.37\n",
      "Training Loss 0.40\n",
      "Training Loss 0.44\n",
      "Training Loss 0.47\n",
      "Training Loss 0.52\n",
      "Training Loss 0.42\n",
      "Training Loss 0.31\n"
     ]
    }
   ],
   "source": [
    "epochs = 3\n",
    "loops = 200\n",
    "batch_size = 64\n",
    "costs = []\n",
    "classifier.train()\n",
    "for i in range(epochs):\n",
    "    cost = 0\n",
    "    for j in range(loops):\n",
    "        classifier.zero_grad()\n",
    "        #Select a batch of training data\n",
    "        batch_index = np.random.choice(len(train_seq_embs), batch_size)\n",
    "        batch_text_reps, batch_lens = train_seq_embs[batch_index], train_lens[batch_index]\n",
    "        batch_labels = train_labels[batch_index]\n",
    "        \n",
    "        #transform the numpy array to pytorch tensor\n",
    "        batch_text_reps = torch.FloatTensor(batch_text_reps)\n",
    "        batch_lens = torch.LongTensor(batch_lens)\n",
    "        batch_labels = torch.LongTensor(batch_labels)\n",
    "        \n",
    "        ########to be completed##########\n",
    "        #compute the probability of output labels using your classifier\n",
    "        pred_probs = None\n",
    "        #compute loss\n",
    "        loss = None\n",
    "        \n",
    "        #backpropagate the gradient and update the weights using loss_func and optimizer\n",
    "        loss.backward()\n",
    "        optimizer.step()\n",
    "        cost += loss.item()\n",
    "        if j % 40 == 0:\n",
    "            if j>0:\n",
    "                costs.append(cost/40)\n",
    "            cost = 0\n",
    "            print('Training Loss {:.2f}'.format(loss))"
   ]
  },
  {
   "cell_type": "code",
   "execution_count": 141,
   "metadata": {
    "collapsed": false
   },
   "outputs": [
    {
     "data": {
      "text/plain": [
       "Text(0,0.5,'Loss')"
      ]
     },
     "execution_count": 141,
     "metadata": {},
     "output_type": "execute_result"
    },
    {
     "data": {
      "image/png": "[encoded data removed]",
      "text/plain": [
       "<Figure size 432x288 with 1 Axes>"
      ]
     },
     "metadata": {},
     "output_type": "display_data"
    }
   ],
   "source": [
    "plt.plot(range(len(costs)), costs)\n",
    "plt.title('Average Loss of RNN Classifier')\n",
    "plt.ylabel('Loss')"
   ]
  },
  {
   "cell_type": "markdown",
   "metadata": {},
   "source": [
    "Finally, we can evaluate our classifier on the testing dataset with respect to accuracy. **We can fine tune the hyperparameters like epochs, learning rate, hidden size etc. to improve the performance.** The final accuracy should be above 0.8."
   ]
  },
  {
   "cell_type": "code",
   "execution_count": 142,
   "metadata": {
    "collapsed": true
   },
   "outputs": [],
   "source": [
    "classifier.eval()\n",
    "test_seq_embs = torch.FloatTensor(test_seq_embs)\n",
    "test_lens = torch.LongTensor(test_lens)\n",
    "pred_probs = classifier(test_seq_embs, test_lens)"
   ]
  },
  {
   "cell_type": "code",
   "execution_count": 143,
   "metadata": {
    "collapsed": true
   },
   "outputs": [],
   "source": [
    "from sklearn.metrics import confusion_matrix, accuracy_score"
   ]
  },
  {
   "cell_type": "code",
   "execution_count": 5,
   "metadata": {
    "collapsed": true
   },
   "outputs": [],
   "source": [
    "pred_labels = pred_probs.argmax(1)\n",
    "accuracy = accuracy_score(test_labels, pred_labels)\n",
    "print('Testing Accuracy: {:.2f}'.format(accuracy))"
   ]
  },
  {
   "cell_type": "code",
   "execution_count": 1,
   "metadata": {
    "collapsed": true
   },
   "outputs": [],
   "source": [
    "confusion_matrix(test_labels, pred_labels)"
   ]
  },
  {
   "cell_type": "markdown",
   "metadata": {},
   "source": [
    "Congratulations! We have implemented a sentiment analysis pipeline successfully!"
   ]
  }
 ],
 "metadata": {
  "kernelspec": {
   "display_name": "Python 3",
   "language": "python",
   "name": "python3"
  },
  "language_info": {
   "codemirror_mode": {
    "name": "ipython",
    "version": 3
   },
   "file_extension": ".py",
   "mimetype": "text/x-python",
   "name": "python",
   "nbconvert_exporter": "python",
   "pygments_lexer": "ipython3",
   "version": "3.6.7"
  }
 },
 "nbformat": 4,
 "nbformat_minor": 2
}
