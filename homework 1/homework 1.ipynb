{
 "cells": [
  {
   "cell_type": "markdown",
   "metadata": {},
   "source": [
    "# 50.040 Natural Language Processing (Summer 2019) Homework 1"
   ]
  },
  {
   "cell_type": "markdown",
   "metadata": {},
   "source": [
    "**Write your student ID(s) and name(s)**\n",
    "\n",
    "ID: 1002189\n",
    "\n",
    "Name: Li Xingxuan\n",
    "\n",
    "Students with whom you have discussed (if any):"
   ]
  },
  {
   "cell_type": "markdown",
   "metadata": {},
   "source": [
    "### Introduction\n",
    "Word embeddings are dense vectors that represent words, and capable of capturing semantic and syntactic similarity, relation with other words, etc.\n",
    "Word2Vec is one of the most popular techniques to learn word embeddings using shallow neural networks. It was developed by Tomas Mikolov in 2013 at Google.\n",
    "Generally, there are two methods to evaluate the quality of word embeddings. One is intrinsic evaluation, and the other is extrinsic evaluation. In intrinsic evaluation, the similarities between words are explored whereas in extrinsic evaluation, downstream tasks are executed based on word embeddings.\n",
    "\n",
    "In order to finish the following tasks, you need to [download](http://mattmahoney.net/dc/text8.zip) the text8 dataset and put it under the \"data\" folder. The text8 dataset consists of one single line of long text. Please do not change the data unless you are requested to do so.\n",
    "\n",
    "Environment:\n",
    "- Python 3.5 or above\n",
    "- gensim package\n",
    "- pytorch package\n",
    "- numpy package"
   ]
  },
  {
   "cell_type": "markdown",
   "metadata": {},
   "source": [
    "## Questions\n",
    "\n",
    "**(2 points) Consider a given sentence \"I am interested in NLP.\" If the window size is 1 (i.e., consider only the word to the left and to the right of the current word), what will be the context and target pairs in a CBOW model? What will be the pairs in a Skip-gram model?** (Images were taken from Mikolov's [paper](https://papers.nips.cc/paper/5021-distributed-representations-of-words-and-phrases-and-their-compositionality.pdf))"
   ]
  },
  {
   "cell_type": "markdown",
   "metadata": {},
   "source": [
    "<table><tr>\n",
    "<td> <img src=\"https://cdn-images-1.medium.com/max/800/1*UVe8b6CWYykcxbBOR6uCfg.png\"/> </td>\n",
    "<td> <img src=\"https://cdn-images-1.medium.com/max/800/1*SR6l59udY05_bUICAjb6-w.png\"  style=\"width: 250px;\"/> </td>\n",
    "</tr></table>"
   ]
  },
  {
   "cell_type": "markdown",
   "metadata": {},
   "source": [
    "**Write your answer here**\n",
    "\n",
    "CBOW: context: I am in NLP, target: interested\n",
    "\n",
    "Skip-gram: context: interested, target: I am in NLP"
   ]
  },
  {
   "cell_type": "markdown",
   "metadata": {},
   "source": [
    "## Tasks\n",
    "\n",
    "### 1. Preprocess the dataset\n",
    "We will train our own word embedding on text8 dataset, the dataset contains **a single line of text**. Do not remove any characters from the data as it is very clean. We need to load and split the text into a sequence of words, then divide the words into batches to speed up training, each batch contains 100 words, please keep the orders of the words."
   ]
  },
  {
   "cell_type": "code",
   "execution_count": 2,
   "metadata": {},
   "outputs": [],
   "source": [
    "#Set the paths of the text dataset\n",
    "from nltk import word_tokenize\n",
    "text_path = 'data/text8'"
   ]
  },
  {
   "cell_type": "markdown",
   "metadata": {},
   "source": [
    "**(2 points) Complete the code of *read_tokenize_text*, which read a text file and tokenize it to words.** For example, a text \"I like NLP\" can be tokenized as \"I\", \"like\", \"NLP\". You can use either Python build-in function or tools like NLTK package."
   ]
  },
  {
   "cell_type": "code",
   "execution_count": 3,
   "metadata": {},
   "outputs": [],
   "source": [
    "#Read the text into memory, tokenize the text into words\n",
    "def read_tokenize_text(file_path):  \n",
    "    '''\n",
    "    Args:\n",
    "        file_path: the path of a text file, string\n",
    "    Return:\n",
    "        A sequence of words, Python list\n",
    "    '''\n",
    "    #to be completed\n",
    "    tokens = word_tokenize(open(file_path, 'r').read())\n",
    "    return tokens"
   ]
  },
  {
   "cell_type": "markdown",
   "metadata": {},
   "source": [
    "**(2 points) Complete the code of *create_word_batch*, to divide a long sequence of words into batches of words.** For example, the word sequence [\"I\", \"like\", \"NLP\", \"So\", \"does\", \"he\"] can be divided into two batches, [\"I\", \"like\", \"NLP\"], [\"So\", \"does\", \"he\"]. It is more efficient to train word embedding on batches of word sequences rather than on a long sequence. "
   ]
  },
  {
   "cell_type": "code",
   "execution_count": 4,
   "metadata": {},
   "outputs": [],
   "source": [
    "#Split the words into batches, each batch contains 100 words\n",
    "def create_word_batch(words, batch_size=100):\n",
    "    '''\n",
    "    Args:\n",
    "        words: a sequence of words, list\n",
    "        batch_size: the number of words in a batch, integer\n",
    "    Return:\n",
    "        batches of words, list\n",
    "    '''\n",
    "    #to be completed\n",
    "    opt = []\n",
    "    for i in range(int(len(words) / 100)):\n",
    "        opt.append(words[100*i : 100*(i+1)])\n",
    "        \n",
    "    opt.append(words[100*int(len(words) / 100) : len(words)])\n",
    "    return opt"
   ]
  },
  {
   "cell_type": "markdown",
   "metadata": {},
   "source": [
    "Now we can use the functions above to read the text8 data, and create word batches."
   ]
  },
  {
   "cell_type": "code",
   "execution_count": 5,
   "metadata": {},
   "outputs": [
    {
     "name": "stdout",
     "output_type": "stream",
     "text": [
      "Total number of words: 17007698\n"
     ]
    }
   ],
   "source": [
    "words = read_tokenize_text(text_path)\n",
    "print('Total number of words:', len(words))"
   ]
  },
  {
   "cell_type": "code",
   "execution_count": 6,
   "metadata": {},
   "outputs": [],
   "source": [
    "batch_words = create_word_batch(words)"
   ]
  },
  {
   "cell_type": "code",
   "execution_count": 7,
   "metadata": {
    "scrolled": true
   },
   "outputs": [
    {
     "name": "stdout",
     "output_type": "stream",
     "text": [
      "['anarchism', 'originated', 'as', 'a', 'term', 'of', 'abuse', 'first', 'used', 'against', 'early', 'working', 'class', 'radicals', 'including', 'the', 'diggers', 'of', 'the', 'english', 'revolution', 'and', 'the', 'sans', 'culottes', 'of', 'the', 'french', 'revolution', 'whilst', 'the', 'term', 'is', 'still', 'used', 'in', 'a', 'pejorative', 'way', 'to', 'describe', 'any', 'act', 'that', 'used', 'violent', 'means', 'to', 'destroy', 'the', 'organization', 'of', 'society', 'it', 'has', 'also', 'been', 'taken', 'up', 'as', 'a', 'positive', 'label', 'by', 'self', 'defined', 'anarchists', 'the', 'word', 'anarchism', 'is', 'derived', 'from', 'the', 'greek', 'without', 'archons', 'ruler', 'chief', 'king', 'anarchism', 'as', 'a', 'political', 'philosophy', 'is', 'the', 'belief', 'that', 'rulers', 'are', 'unnecessary', 'and', 'should', 'be', 'abolished', 'although', 'there', 'are', 'differing']\n"
     ]
    }
   ],
   "source": [
    "print(batch_words[0])"
   ]
  },
  {
   "cell_type": "markdown",
   "metadata": {},
   "source": [
    "### 2. Train our own word embeddings\n",
    "Instead of implementing a Word2vec model from scratch, we can use Python packages to achieve so by simply specifying inputs, hyperparameters in a package.\n",
    "\n",
    "In this exercise, we'll call [gensim](https://radimrehurek.com/gensim/models/word2vec.html) package to train word embeddings on *batch_words* sequences created above. If you are not familiar with gensim Word2Vec api, you can run \"help(Word2Vec)\" command in the cell or refer to the tutorial in the official website.\n",
    "\n",
    "Set the embedding size as 100, minimum count as 2, and select skip-gram approach. It may take minutes to complete the training. Set the other hyperparameters as default values or you can tune them."
   ]
  },
  {
   "cell_type": "code",
   "execution_count": 8,
   "metadata": {},
   "outputs": [],
   "source": [
    "from gensim.models import Word2Vec\n",
    "from time import time\n",
    "#help(Word2Vec)"
   ]
  },
  {
   "cell_type": "markdown",
   "metadata": {},
   "source": [
    "**(2 points) Complete the code using gensim to train word embeddings.**"
   ]
  },
  {
   "cell_type": "code",
   "execution_count": 9,
   "metadata": {},
   "outputs": [
    {
     "ename": "KeyboardInterrupt",
     "evalue": "",
     "output_type": "error",
     "traceback": [
      "\u001b[0;31m---------------------------------------------------------------------------\u001b[0m",
      "\u001b[0;31mKeyboardInterrupt\u001b[0m                         Traceback (most recent call last)",
      "\u001b[0;32m<ipython-input-9-c0de46948fe3>\u001b[0m in \u001b[0;36m<module>\u001b[0;34m()\u001b[0m\n\u001b[1;32m      2\u001b[0m \u001b[0mstart\u001b[0m \u001b[0;34m=\u001b[0m \u001b[0mtime\u001b[0m\u001b[0;34m(\u001b[0m\u001b[0;34m)\u001b[0m\u001b[0;34m\u001b[0m\u001b[0;34m\u001b[0m\u001b[0m\n\u001b[1;32m      3\u001b[0m \u001b[0;31m#################to be completed##################\u001b[0m\u001b[0;34m\u001b[0m\u001b[0;34m\u001b[0m\u001b[0;34m\u001b[0m\u001b[0m\n\u001b[0;32m----> 4\u001b[0;31m \u001b[0mmodel\u001b[0m \u001b[0;34m=\u001b[0m \u001b[0mWord2Vec\u001b[0m\u001b[0;34m(\u001b[0m\u001b[0mbatch_words\u001b[0m\u001b[0;34m,\u001b[0m \u001b[0msize\u001b[0m\u001b[0;34m=\u001b[0m\u001b[0;36m100\u001b[0m\u001b[0;34m,\u001b[0m \u001b[0mmin_count\u001b[0m\u001b[0;34m=\u001b[0m\u001b[0;36m2\u001b[0m\u001b[0;34m,\u001b[0m \u001b[0msg\u001b[0m\u001b[0;34m=\u001b[0m\u001b[0;36m1\u001b[0m\u001b[0;34m)\u001b[0m\u001b[0;34m\u001b[0m\u001b[0;34m\u001b[0m\u001b[0m\n\u001b[0m\u001b[1;32m      5\u001b[0m \u001b[0;31m# model.build_vocab(batch_words, progress_per=10000)\u001b[0m\u001b[0;34m\u001b[0m\u001b[0;34m\u001b[0m\u001b[0;34m\u001b[0m\u001b[0m\n\u001b[1;32m      6\u001b[0m \u001b[0;31m# model.train(batch_words, total_examples=w2v_model.corpus_count, epochs=30, report_delay=1)\u001b[0m\u001b[0;34m\u001b[0m\u001b[0;34m\u001b[0m\u001b[0;34m\u001b[0m\u001b[0m\n",
      "\u001b[0;32m~/anaconda3/envs/tesnorflow/lib/python3.6/site-packages/gensim/models/word2vec.py\u001b[0m in \u001b[0;36m__init__\u001b[0;34m(self, sentences, corpus_file, size, alpha, window, min_count, max_vocab_size, sample, seed, workers, min_alpha, sg, hs, negative, ns_exponent, cbow_mean, hashfxn, iter, null_word, trim_rule, sorted_vocab, batch_words, compute_loss, callbacks, max_final_vocab)\u001b[0m\n\u001b[1;32m    765\u001b[0m             \u001b[0mcallbacks\u001b[0m\u001b[0;34m=\u001b[0m\u001b[0mcallbacks\u001b[0m\u001b[0;34m,\u001b[0m \u001b[0mbatch_words\u001b[0m\u001b[0;34m=\u001b[0m\u001b[0mbatch_words\u001b[0m\u001b[0;34m,\u001b[0m \u001b[0mtrim_rule\u001b[0m\u001b[0;34m=\u001b[0m\u001b[0mtrim_rule\u001b[0m\u001b[0;34m,\u001b[0m \u001b[0msg\u001b[0m\u001b[0;34m=\u001b[0m\u001b[0msg\u001b[0m\u001b[0;34m,\u001b[0m \u001b[0malpha\u001b[0m\u001b[0;34m=\u001b[0m\u001b[0malpha\u001b[0m\u001b[0;34m,\u001b[0m \u001b[0mwindow\u001b[0m\u001b[0;34m=\u001b[0m\u001b[0mwindow\u001b[0m\u001b[0;34m,\u001b[0m\u001b[0;34m\u001b[0m\u001b[0;34m\u001b[0m\u001b[0m\n\u001b[1;32m    766\u001b[0m             \u001b[0mseed\u001b[0m\u001b[0;34m=\u001b[0m\u001b[0mseed\u001b[0m\u001b[0;34m,\u001b[0m \u001b[0mhs\u001b[0m\u001b[0;34m=\u001b[0m\u001b[0mhs\u001b[0m\u001b[0;34m,\u001b[0m \u001b[0mnegative\u001b[0m\u001b[0;34m=\u001b[0m\u001b[0mnegative\u001b[0m\u001b[0;34m,\u001b[0m \u001b[0mcbow_mean\u001b[0m\u001b[0;34m=\u001b[0m\u001b[0mcbow_mean\u001b[0m\u001b[0;34m,\u001b[0m \u001b[0mmin_alpha\u001b[0m\u001b[0;34m=\u001b[0m\u001b[0mmin_alpha\u001b[0m\u001b[0;34m,\u001b[0m \u001b[0mcompute_loss\u001b[0m\u001b[0;34m=\u001b[0m\u001b[0mcompute_loss\u001b[0m\u001b[0;34m,\u001b[0m\u001b[0;34m\u001b[0m\u001b[0;34m\u001b[0m\u001b[0m\n\u001b[0;32m--> 767\u001b[0;31m             fast_version=FAST_VERSION)\n\u001b[0m\u001b[1;32m    768\u001b[0m \u001b[0;34m\u001b[0m\u001b[0m\n\u001b[1;32m    769\u001b[0m     def _do_train_epoch(self, corpus_file, thread_id, offset, cython_vocab, thread_private_mem, cur_epoch,\n",
      "\u001b[0;32m~/anaconda3/envs/tesnorflow/lib/python3.6/site-packages/gensim/models/base_any2vec.py\u001b[0m in \u001b[0;36m__init__\u001b[0;34m(self, sentences, corpus_file, workers, vector_size, epochs, callbacks, batch_words, trim_rule, sg, alpha, window, seed, hs, negative, ns_exponent, cbow_mean, min_alpha, compute_loss, fast_version, **kwargs)\u001b[0m\n\u001b[1;32m    761\u001b[0m                 \u001b[0msentences\u001b[0m\u001b[0;34m=\u001b[0m\u001b[0msentences\u001b[0m\u001b[0;34m,\u001b[0m \u001b[0mcorpus_file\u001b[0m\u001b[0;34m=\u001b[0m\u001b[0mcorpus_file\u001b[0m\u001b[0;34m,\u001b[0m \u001b[0mtotal_examples\u001b[0m\u001b[0;34m=\u001b[0m\u001b[0mself\u001b[0m\u001b[0;34m.\u001b[0m\u001b[0mcorpus_count\u001b[0m\u001b[0;34m,\u001b[0m\u001b[0;34m\u001b[0m\u001b[0;34m\u001b[0m\u001b[0m\n\u001b[1;32m    762\u001b[0m                 \u001b[0mtotal_words\u001b[0m\u001b[0;34m=\u001b[0m\u001b[0mself\u001b[0m\u001b[0;34m.\u001b[0m\u001b[0mcorpus_total_words\u001b[0m\u001b[0;34m,\u001b[0m \u001b[0mepochs\u001b[0m\u001b[0;34m=\u001b[0m\u001b[0mself\u001b[0m\u001b[0;34m.\u001b[0m\u001b[0mepochs\u001b[0m\u001b[0;34m,\u001b[0m \u001b[0mstart_alpha\u001b[0m\u001b[0;34m=\u001b[0m\u001b[0mself\u001b[0m\u001b[0;34m.\u001b[0m\u001b[0malpha\u001b[0m\u001b[0;34m,\u001b[0m\u001b[0;34m\u001b[0m\u001b[0;34m\u001b[0m\u001b[0m\n\u001b[0;32m--> 763\u001b[0;31m                 end_alpha=self.min_alpha, compute_loss=compute_loss)\n\u001b[0m\u001b[1;32m    764\u001b[0m         \u001b[0;32melse\u001b[0m\u001b[0;34m:\u001b[0m\u001b[0;34m\u001b[0m\u001b[0;34m\u001b[0m\u001b[0m\n\u001b[1;32m    765\u001b[0m             \u001b[0;32mif\u001b[0m \u001b[0mtrim_rule\u001b[0m \u001b[0;32mis\u001b[0m \u001b[0;32mnot\u001b[0m \u001b[0;32mNone\u001b[0m\u001b[0;34m:\u001b[0m\u001b[0;34m\u001b[0m\u001b[0;34m\u001b[0m\u001b[0m\n",
      "\u001b[0;32m~/anaconda3/envs/tesnorflow/lib/python3.6/site-packages/gensim/models/word2vec.py\u001b[0m in \u001b[0;36mtrain\u001b[0;34m(self, sentences, corpus_file, total_examples, total_words, epochs, start_alpha, end_alpha, word_count, queue_factor, report_delay, compute_loss, callbacks)\u001b[0m\n\u001b[1;32m    890\u001b[0m             \u001b[0msentences\u001b[0m\u001b[0;34m=\u001b[0m\u001b[0msentences\u001b[0m\u001b[0;34m,\u001b[0m \u001b[0mcorpus_file\u001b[0m\u001b[0;34m=\u001b[0m\u001b[0mcorpus_file\u001b[0m\u001b[0;34m,\u001b[0m \u001b[0mtotal_examples\u001b[0m\u001b[0;34m=\u001b[0m\u001b[0mtotal_examples\u001b[0m\u001b[0;34m,\u001b[0m \u001b[0mtotal_words\u001b[0m\u001b[0;34m=\u001b[0m\u001b[0mtotal_words\u001b[0m\u001b[0;34m,\u001b[0m\u001b[0;34m\u001b[0m\u001b[0;34m\u001b[0m\u001b[0m\n\u001b[1;32m    891\u001b[0m             \u001b[0mepochs\u001b[0m\u001b[0;34m=\u001b[0m\u001b[0mepochs\u001b[0m\u001b[0;34m,\u001b[0m \u001b[0mstart_alpha\u001b[0m\u001b[0;34m=\u001b[0m\u001b[0mstart_alpha\u001b[0m\u001b[0;34m,\u001b[0m \u001b[0mend_alpha\u001b[0m\u001b[0;34m=\u001b[0m\u001b[0mend_alpha\u001b[0m\u001b[0;34m,\u001b[0m \u001b[0mword_count\u001b[0m\u001b[0;34m=\u001b[0m\u001b[0mword_count\u001b[0m\u001b[0;34m,\u001b[0m\u001b[0;34m\u001b[0m\u001b[0;34m\u001b[0m\u001b[0m\n\u001b[0;32m--> 892\u001b[0;31m             queue_factor=queue_factor, report_delay=report_delay, compute_loss=compute_loss, callbacks=callbacks)\n\u001b[0m\u001b[1;32m    893\u001b[0m \u001b[0;34m\u001b[0m\u001b[0m\n\u001b[1;32m    894\u001b[0m     \u001b[0;32mdef\u001b[0m \u001b[0mscore\u001b[0m\u001b[0;34m(\u001b[0m\u001b[0mself\u001b[0m\u001b[0;34m,\u001b[0m \u001b[0msentences\u001b[0m\u001b[0;34m,\u001b[0m \u001b[0mtotal_sentences\u001b[0m\u001b[0;34m=\u001b[0m\u001b[0mint\u001b[0m\u001b[0;34m(\u001b[0m\u001b[0;36m1e6\u001b[0m\u001b[0;34m)\u001b[0m\u001b[0;34m,\u001b[0m \u001b[0mchunksize\u001b[0m\u001b[0;34m=\u001b[0m\u001b[0;36m100\u001b[0m\u001b[0;34m,\u001b[0m \u001b[0mqueue_factor\u001b[0m\u001b[0;34m=\u001b[0m\u001b[0;36m2\u001b[0m\u001b[0;34m,\u001b[0m \u001b[0mreport_delay\u001b[0m\u001b[0;34m=\u001b[0m\u001b[0;36m1\u001b[0m\u001b[0;34m)\u001b[0m\u001b[0;34m:\u001b[0m\u001b[0;34m\u001b[0m\u001b[0;34m\u001b[0m\u001b[0m\n",
      "\u001b[0;32m~/anaconda3/envs/tesnorflow/lib/python3.6/site-packages/gensim/models/base_any2vec.py\u001b[0m in \u001b[0;36mtrain\u001b[0;34m(self, sentences, corpus_file, total_examples, total_words, epochs, start_alpha, end_alpha, word_count, queue_factor, report_delay, compute_loss, callbacks, **kwargs)\u001b[0m\n\u001b[1;32m   1079\u001b[0m             \u001b[0mtotal_words\u001b[0m\u001b[0;34m=\u001b[0m\u001b[0mtotal_words\u001b[0m\u001b[0;34m,\u001b[0m \u001b[0mepochs\u001b[0m\u001b[0;34m=\u001b[0m\u001b[0mepochs\u001b[0m\u001b[0;34m,\u001b[0m \u001b[0mstart_alpha\u001b[0m\u001b[0;34m=\u001b[0m\u001b[0mstart_alpha\u001b[0m\u001b[0;34m,\u001b[0m \u001b[0mend_alpha\u001b[0m\u001b[0;34m=\u001b[0m\u001b[0mend_alpha\u001b[0m\u001b[0;34m,\u001b[0m \u001b[0mword_count\u001b[0m\u001b[0;34m=\u001b[0m\u001b[0mword_count\u001b[0m\u001b[0;34m,\u001b[0m\u001b[0;34m\u001b[0m\u001b[0;34m\u001b[0m\u001b[0m\n\u001b[1;32m   1080\u001b[0m             \u001b[0mqueue_factor\u001b[0m\u001b[0;34m=\u001b[0m\u001b[0mqueue_factor\u001b[0m\u001b[0;34m,\u001b[0m \u001b[0mreport_delay\u001b[0m\u001b[0;34m=\u001b[0m\u001b[0mreport_delay\u001b[0m\u001b[0;34m,\u001b[0m \u001b[0mcompute_loss\u001b[0m\u001b[0;34m=\u001b[0m\u001b[0mcompute_loss\u001b[0m\u001b[0;34m,\u001b[0m \u001b[0mcallbacks\u001b[0m\u001b[0;34m=\u001b[0m\u001b[0mcallbacks\u001b[0m\u001b[0;34m,\u001b[0m\u001b[0;34m\u001b[0m\u001b[0;34m\u001b[0m\u001b[0m\n\u001b[0;32m-> 1081\u001b[0;31m             **kwargs)\n\u001b[0m\u001b[1;32m   1082\u001b[0m \u001b[0;34m\u001b[0m\u001b[0m\n\u001b[1;32m   1083\u001b[0m     \u001b[0;32mdef\u001b[0m \u001b[0m_get_job_params\u001b[0m\u001b[0;34m(\u001b[0m\u001b[0mself\u001b[0m\u001b[0;34m,\u001b[0m \u001b[0mcur_epoch\u001b[0m\u001b[0;34m)\u001b[0m\u001b[0;34m:\u001b[0m\u001b[0;34m\u001b[0m\u001b[0;34m\u001b[0m\u001b[0m\n",
      "\u001b[0;32m~/anaconda3/envs/tesnorflow/lib/python3.6/site-packages/gensim/models/base_any2vec.py\u001b[0m in \u001b[0;36mtrain\u001b[0;34m(self, data_iterable, corpus_file, epochs, total_examples, total_words, queue_factor, report_delay, callbacks, **kwargs)\u001b[0m\n\u001b[1;32m    551\u001b[0m                 trained_word_count_epoch, raw_word_count_epoch, job_tally_epoch = self._train_epoch(\n\u001b[1;32m    552\u001b[0m                     \u001b[0mdata_iterable\u001b[0m\u001b[0;34m,\u001b[0m \u001b[0mcur_epoch\u001b[0m\u001b[0;34m=\u001b[0m\u001b[0mcur_epoch\u001b[0m\u001b[0;34m,\u001b[0m \u001b[0mtotal_examples\u001b[0m\u001b[0;34m=\u001b[0m\u001b[0mtotal_examples\u001b[0m\u001b[0;34m,\u001b[0m\u001b[0;34m\u001b[0m\u001b[0;34m\u001b[0m\u001b[0m\n\u001b[0;32m--> 553\u001b[0;31m                     total_words=total_words, queue_factor=queue_factor, report_delay=report_delay)\n\u001b[0m\u001b[1;32m    554\u001b[0m             \u001b[0;32melse\u001b[0m\u001b[0;34m:\u001b[0m\u001b[0;34m\u001b[0m\u001b[0;34m\u001b[0m\u001b[0m\n\u001b[1;32m    555\u001b[0m                 trained_word_count_epoch, raw_word_count_epoch, job_tally_epoch = self._train_epoch_corpusfile(\n",
      "\u001b[0;32m~/anaconda3/envs/tesnorflow/lib/python3.6/site-packages/gensim/models/base_any2vec.py\u001b[0m in \u001b[0;36m_train_epoch\u001b[0;34m(self, data_iterable, cur_epoch, total_examples, total_words, queue_factor, report_delay)\u001b[0m\n\u001b[1;32m    487\u001b[0m         trained_word_count, raw_word_count, job_tally = self._log_epoch_progress(\n\u001b[1;32m    488\u001b[0m             \u001b[0mprogress_queue\u001b[0m\u001b[0;34m,\u001b[0m \u001b[0mjob_queue\u001b[0m\u001b[0;34m,\u001b[0m \u001b[0mcur_epoch\u001b[0m\u001b[0;34m=\u001b[0m\u001b[0mcur_epoch\u001b[0m\u001b[0;34m,\u001b[0m \u001b[0mtotal_examples\u001b[0m\u001b[0;34m=\u001b[0m\u001b[0mtotal_examples\u001b[0m\u001b[0;34m,\u001b[0m \u001b[0mtotal_words\u001b[0m\u001b[0;34m=\u001b[0m\u001b[0mtotal_words\u001b[0m\u001b[0;34m,\u001b[0m\u001b[0;34m\u001b[0m\u001b[0;34m\u001b[0m\u001b[0m\n\u001b[0;32m--> 489\u001b[0;31m             report_delay=report_delay, is_corpus_file_mode=False)\n\u001b[0m\u001b[1;32m    490\u001b[0m \u001b[0;34m\u001b[0m\u001b[0m\n\u001b[1;32m    491\u001b[0m         \u001b[0;32mreturn\u001b[0m \u001b[0mtrained_word_count\u001b[0m\u001b[0;34m,\u001b[0m \u001b[0mraw_word_count\u001b[0m\u001b[0;34m,\u001b[0m \u001b[0mjob_tally\u001b[0m\u001b[0;34m\u001b[0m\u001b[0;34m\u001b[0m\u001b[0m\n",
      "\u001b[0;32m~/anaconda3/envs/tesnorflow/lib/python3.6/site-packages/gensim/models/base_any2vec.py\u001b[0m in \u001b[0;36m_log_epoch_progress\u001b[0;34m(self, progress_queue, job_queue, cur_epoch, total_examples, total_words, report_delay, is_corpus_file_mode)\u001b[0m\n\u001b[1;32m    344\u001b[0m \u001b[0;34m\u001b[0m\u001b[0m\n\u001b[1;32m    345\u001b[0m         \u001b[0;32mwhile\u001b[0m \u001b[0munfinished_worker_count\u001b[0m \u001b[0;34m>\u001b[0m \u001b[0;36m0\u001b[0m\u001b[0;34m:\u001b[0m\u001b[0;34m\u001b[0m\u001b[0;34m\u001b[0m\u001b[0m\n\u001b[0;32m--> 346\u001b[0;31m             \u001b[0mreport\u001b[0m \u001b[0;34m=\u001b[0m \u001b[0mprogress_queue\u001b[0m\u001b[0;34m.\u001b[0m\u001b[0mget\u001b[0m\u001b[0;34m(\u001b[0m\u001b[0;34m)\u001b[0m  \u001b[0;31m# blocks if workers too slow\u001b[0m\u001b[0;34m\u001b[0m\u001b[0;34m\u001b[0m\u001b[0m\n\u001b[0m\u001b[1;32m    347\u001b[0m             \u001b[0;32mif\u001b[0m \u001b[0mreport\u001b[0m \u001b[0;32mis\u001b[0m \u001b[0;32mNone\u001b[0m\u001b[0;34m:\u001b[0m  \u001b[0;31m# a thread reporting that it finished\u001b[0m\u001b[0;34m\u001b[0m\u001b[0;34m\u001b[0m\u001b[0m\n\u001b[1;32m    348\u001b[0m                 \u001b[0munfinished_worker_count\u001b[0m \u001b[0;34m-=\u001b[0m \u001b[0;36m1\u001b[0m\u001b[0;34m\u001b[0m\u001b[0;34m\u001b[0m\u001b[0m\n",
      "\u001b[0;32m~/anaconda3/envs/tesnorflow/lib/python3.6/queue.py\u001b[0m in \u001b[0;36mget\u001b[0;34m(self, block, timeout)\u001b[0m\n\u001b[1;32m    162\u001b[0m             \u001b[0;32melif\u001b[0m \u001b[0mtimeout\u001b[0m \u001b[0;32mis\u001b[0m \u001b[0;32mNone\u001b[0m\u001b[0;34m:\u001b[0m\u001b[0;34m\u001b[0m\u001b[0;34m\u001b[0m\u001b[0m\n\u001b[1;32m    163\u001b[0m                 \u001b[0;32mwhile\u001b[0m \u001b[0;32mnot\u001b[0m \u001b[0mself\u001b[0m\u001b[0;34m.\u001b[0m\u001b[0m_qsize\u001b[0m\u001b[0;34m(\u001b[0m\u001b[0;34m)\u001b[0m\u001b[0;34m:\u001b[0m\u001b[0;34m\u001b[0m\u001b[0;34m\u001b[0m\u001b[0m\n\u001b[0;32m--> 164\u001b[0;31m                     \u001b[0mself\u001b[0m\u001b[0;34m.\u001b[0m\u001b[0mnot_empty\u001b[0m\u001b[0;34m.\u001b[0m\u001b[0mwait\u001b[0m\u001b[0;34m(\u001b[0m\u001b[0;34m)\u001b[0m\u001b[0;34m\u001b[0m\u001b[0;34m\u001b[0m\u001b[0m\n\u001b[0m\u001b[1;32m    165\u001b[0m             \u001b[0;32melif\u001b[0m \u001b[0mtimeout\u001b[0m \u001b[0;34m<\u001b[0m \u001b[0;36m0\u001b[0m\u001b[0;34m:\u001b[0m\u001b[0;34m\u001b[0m\u001b[0;34m\u001b[0m\u001b[0m\n\u001b[1;32m    166\u001b[0m                 \u001b[0;32mraise\u001b[0m \u001b[0mValueError\u001b[0m\u001b[0;34m(\u001b[0m\u001b[0;34m\"'timeout' must be a non-negative number\"\u001b[0m\u001b[0;34m)\u001b[0m\u001b[0;34m\u001b[0m\u001b[0;34m\u001b[0m\u001b[0m\n",
      "\u001b[0;32m~/anaconda3/envs/tesnorflow/lib/python3.6/threading.py\u001b[0m in \u001b[0;36mwait\u001b[0;34m(self, timeout)\u001b[0m\n\u001b[1;32m    293\u001b[0m         \u001b[0;32mtry\u001b[0m\u001b[0;34m:\u001b[0m    \u001b[0;31m# restore state no matter what (e.g., KeyboardInterrupt)\u001b[0m\u001b[0;34m\u001b[0m\u001b[0;34m\u001b[0m\u001b[0m\n\u001b[1;32m    294\u001b[0m             \u001b[0;32mif\u001b[0m \u001b[0mtimeout\u001b[0m \u001b[0;32mis\u001b[0m \u001b[0;32mNone\u001b[0m\u001b[0;34m:\u001b[0m\u001b[0;34m\u001b[0m\u001b[0;34m\u001b[0m\u001b[0m\n\u001b[0;32m--> 295\u001b[0;31m                 \u001b[0mwaiter\u001b[0m\u001b[0;34m.\u001b[0m\u001b[0macquire\u001b[0m\u001b[0;34m(\u001b[0m\u001b[0;34m)\u001b[0m\u001b[0;34m\u001b[0m\u001b[0;34m\u001b[0m\u001b[0m\n\u001b[0m\u001b[1;32m    296\u001b[0m                 \u001b[0mgotit\u001b[0m \u001b[0;34m=\u001b[0m \u001b[0;32mTrue\u001b[0m\u001b[0;34m\u001b[0m\u001b[0;34m\u001b[0m\u001b[0m\n\u001b[1;32m    297\u001b[0m             \u001b[0;32melse\u001b[0m\u001b[0;34m:\u001b[0m\u001b[0;34m\u001b[0m\u001b[0;34m\u001b[0m\u001b[0m\n",
      "\u001b[0;31mKeyboardInterrupt\u001b[0m: "
     ]
    }
   ],
   "source": [
    "#Use Word2Vec api to train word embedding\n",
    "start = time()\n",
    "#################to be completed################## \n",
    "model = Word2Vec(batch_words, size=100, min_count=2, sg=1)\n",
    "# model.build_vocab(batch_words, progress_per=10000)\n",
    "# model.train(batch_words, total_examples=w2v_model.corpus_count, epochs=30, report_delay=1)\n",
    "##################################################\n",
    "end = time()\n",
    "print('Word embedding trained successfully')\n",
    "print('Timing:.{:0.2f}s'.format(end-start))"
   ]
  },
  {
   "cell_type": "markdown",
   "metadata": {},
   "source": [
    "Let's take a look at the embedding for the word \"car\"."
   ]
  },
  {
   "cell_type": "code",
   "execution_count": 9,
   "metadata": {},
   "outputs": [
    {
     "data": {
      "text/plain": [
       "array([-0.05601079, -0.44741973, -0.462111  , -0.41674516, -0.55255854,\n",
       "       -0.03547177, -0.42198595, -0.47963396,  0.12717721, -0.82355005,\n",
       "       -0.14659745, -0.29709238, -0.50314707, -0.21391958,  0.19361222,\n",
       "        0.542462  ,  0.18731472, -0.03329678, -0.29201066,  0.00425704,\n",
       "        0.15262544, -0.23022379,  0.5530417 , -0.12655832,  0.17326158,\n",
       "       -0.09842301, -0.560491  , -0.30294105, -0.05160507, -0.30965218,\n",
       "       -0.50371116,  0.4514702 , -0.35897362, -0.22877271, -0.55884254,\n",
       "        0.04448054,  0.47715142,  0.35133907, -0.3932763 ,  0.20018153,\n",
       "        0.27680174, -0.33346727,  0.39698458,  0.4499827 , -0.3965162 ,\n",
       "       -0.36330298, -0.05643882, -0.24680413, -0.18322952, -0.38846084,\n",
       "       -0.0054359 , -0.13782115,  0.6561506 , -0.46533924, -0.18070224,\n",
       "        0.39858806, -0.2379525 ,  0.18896797,  0.05030859,  0.30513993,\n",
       "       -0.5292903 , -0.20829806, -0.5506695 ,  0.7764663 , -0.16809633,\n",
       "        0.7909653 , -0.08636755,  0.4369433 , -0.5232394 , -0.32351342,\n",
       "       -0.03649146, -0.06865471, -0.07119898, -0.18471992, -0.10275649,\n",
       "       -0.03712768,  0.45813498,  0.13857174, -0.1081912 , -0.27263904,\n",
       "       -0.46177065, -0.16203946,  0.5131245 , -0.10782935,  0.50669336,\n",
       "       -0.2765707 ,  0.38955414,  0.1678236 ,  0.04343691,  0.11169623,\n",
       "        0.3349187 ,  0.38722023, -0.15722068,  0.6986771 ,  0.08150244,\n",
       "        0.17079853,  0.04416383,  0.09003358, -0.39275473,  0.257847  ],\n",
       "      dtype=float32)"
      ]
     },
     "execution_count": 9,
     "metadata": {},
     "output_type": "execute_result"
    }
   ],
   "source": [
    "model.wv['car']"
   ]
  },
  {
   "cell_type": "markdown",
   "metadata": {},
   "source": [
    "### 3. Visualize the embeddings\n",
    "\n",
    "Visualization is often employed in analyzing word embedding. However, word embedding dimension is usually far larger than two, and it is not easy to visualize data that has more than 3 dimensions. We need to transform our word embeddings to 2-dimensional data before doing visualization.\n",
    "\n",
    "[Principal component analysis](https://en.wikipedia.org/wiki/Principal_component_analysis) (PCA) is a statistical procedure that uses an orthogonal transformation to convert a set of observations of possibly correlated variables (entities each of which takes on various numerical values) into a set of values of linearly uncorrelated variables called principal components. PCA can be used to reduce dimension by selecting several principal components.\n",
    "\n",
    "In this exercise, we will use PCA to map the 100-dimensional word embeddings to 2-dimensional points. "
   ]
  },
  {
   "cell_type": "markdown",
   "metadata": {},
   "source": [
    "Let's display the size of vocabulary:"
   ]
  },
  {
   "cell_type": "code",
   "execution_count": 10,
   "metadata": {},
   "outputs": [
    {
     "data": {
      "text/plain": [
       "135330"
      ]
     },
     "execution_count": 10,
     "metadata": {},
     "output_type": "execute_result"
    }
   ],
   "source": [
    "len(model.wv.vocab)"
   ]
  },
  {
   "cell_type": "markdown",
   "metadata": {},
   "source": [
    "then select first 300 words from the vocabulary in the model trained above."
   ]
  },
  {
   "cell_type": "code",
   "execution_count": 11,
   "metadata": {},
   "outputs": [],
   "source": [
    "vocab_words = list(model.wv.vocab.keys())\n",
    "select_300_words = vocab_words[:300]"
   ]
  },
  {
   "cell_type": "markdown",
   "metadata": {},
   "source": [
    "**(2 points) Complete the code to find the embedding of each word in select_300_words, and stack them into a numpy ndarray**:"
   ]
  },
  {
   "cell_type": "code",
   "execution_count": 12,
   "metadata": {},
   "outputs": [],
   "source": [
    "#to be completed\n",
    "#shape of vectors should be 300*100\n",
    "import numpy as np\n",
    "vectors = np.zeros((1, 100))\n",
    "for i in range(300):\n",
    "    vectors = np.append(vectors, model.wv[select_300_words[i]].reshape((1, 100)), axis=0)\n",
    "vectors = np.delete(vectors, (0), axis=0)\n",
    "# vectors.shape"
   ]
  },
  {
   "cell_type": "markdown",
   "metadata": {},
   "source": [
    "**(4 points) Complete PCA algorithm using Python numpy package from scratch.** PCA can be regarded as eigenvalue decomposition. Let's denote word embedding vectors as $X \\in R^{n \\times d}$, $n$ is word number, $d$ is embedding dimension. We will follow procedures described below and implement our PCA algorithm:\n",
    "- Compute the mean vector $\\overline X$ of the embedding vectors X.\n",
    "- Normalize embedding vectors by subtracting mean vector for each word embedding $X_i$.\n",
    "$$X_{i}=X_i-\\overline X$$\n",
    "- Compute the covariance matrix of normalized $X$\n",
    "$$C = \\frac {X^TX}{n-1}$$\n",
    "- Do eigen decomposition of the covariance matrix $C$ using numpy and get eigenvectors $W$(principal components).\n",
    "- Transform the normalized matrix $X$, and select first kth columns as projection.\n",
    "$$\\hat X = XW$$\n",
    "$$X_{proj} = \\hat X_{1:k}$$\n"
   ]
  },
  {
   "cell_type": "code",
   "execution_count": 13,
   "metadata": {},
   "outputs": [],
   "source": [
    "#please use Python built-in function and numpy\n",
    "def pca(X, k=2):\n",
    "    '''\n",
    "    PCA algorithms\n",
    "    Args:\n",
    "        X: input matrix\n",
    "        k: number of principal components\n",
    "    Return:\n",
    "        the projections on the first k principal components\n",
    "    '''\n",
    "    ###################to be completed################\n",
    "    ## Normalize\n",
    "    X_ = np.mean(vectors, axis=0).reshape((1, 100))\n",
    "    X_ = np.repeat(X_, 300, axis=0)\n",
    "    X = X - X_\n",
    "    \n",
    "    ## Covariance matrix\n",
    "    C = np.dot(X.T, X)/299\n",
    "    \n",
    "    ## Eigen decomposition\n",
    "    eigen_val, eigen_vec = np.linalg.eig(C)\n",
    "    \n",
    "    X_pca = np.dot(X, eigen_vec)\n",
    "    ##################################################\n",
    "    return X_pca[:, :k]"
   ]
  },
  {
   "cell_type": "markdown",
   "metadata": {},
   "source": [
    "Now we can project the 100-dimension word vectors to 2-dimension points."
   ]
  },
  {
   "cell_type": "code",
   "execution_count": 14,
   "metadata": {},
   "outputs": [],
   "source": [
    "two_d_embeddings = pca(vectors)"
   ]
  },
  {
   "cell_type": "markdown",
   "metadata": {},
   "source": [
    "Let's check the projection of word embeddings on a 2-D plot."
   ]
  },
  {
   "cell_type": "code",
   "execution_count": 15,
   "metadata": {},
   "outputs": [],
   "source": [
    "#Visualize the transformed word embeddings and annotate them with words.\n",
    "import matplotlib.pyplot as plt\n",
    "def plot(embeddings, labels):\n",
    "  assert embeddings.shape[0] >= len(labels), 'More labels than embeddings'\n",
    "  plt.figure(figsize=(15,15))  # in inches\n",
    "  for i, label in enumerate(labels):\n",
    "    x, y = embeddings[i,:]\n",
    "    plt.scatter(x, y)\n",
    "    plt.annotate(label, xy=(x, y), xytext=(5, 2), textcoords='offset points',\n",
    "                   ha='right', va='bottom')"
   ]
  },
  {
   "cell_type": "code",
   "execution_count": 23,
   "metadata": {
    "collapsed": true
   },
   "outputs": [
    {
     "data": {
      "text/plain": [
       "['anarchism',\n",
       " 'originated',\n",
       " 'as',\n",
       " 'a',\n",
       " 'term',\n",
       " 'of',\n",
       " 'abuse',\n",
       " 'first',\n",
       " 'used',\n",
       " 'against',\n",
       " 'early',\n",
       " 'working',\n",
       " 'class',\n",
       " 'radicals',\n",
       " 'including',\n",
       " 'the',\n",
       " 'diggers',\n",
       " 'english',\n",
       " 'revolution',\n",
       " 'and',\n",
       " 'sans',\n",
       " 'culottes',\n",
       " 'french',\n",
       " 'whilst',\n",
       " 'is',\n",
       " 'still',\n",
       " 'in',\n",
       " 'pejorative',\n",
       " 'way',\n",
       " 'to',\n",
       " 'describe',\n",
       " 'any',\n",
       " 'act',\n",
       " 'that',\n",
       " 'violent',\n",
       " 'means',\n",
       " 'destroy',\n",
       " 'organization',\n",
       " 'society',\n",
       " 'it',\n",
       " 'has',\n",
       " 'also',\n",
       " 'been',\n",
       " 'taken',\n",
       " 'up',\n",
       " 'positive',\n",
       " 'label',\n",
       " 'by',\n",
       " 'self',\n",
       " 'defined',\n",
       " 'anarchists',\n",
       " 'word',\n",
       " 'derived',\n",
       " 'from',\n",
       " 'greek',\n",
       " 'without',\n",
       " 'archons',\n",
       " 'ruler',\n",
       " 'chief',\n",
       " 'king',\n",
       " 'political',\n",
       " 'philosophy',\n",
       " 'belief',\n",
       " 'rulers',\n",
       " 'are',\n",
       " 'unnecessary',\n",
       " 'should',\n",
       " 'be',\n",
       " 'abolished',\n",
       " 'although',\n",
       " 'there',\n",
       " 'differing',\n",
       " 'interpretations',\n",
       " 'what',\n",
       " 'this',\n",
       " 'refers',\n",
       " 'related',\n",
       " 'social',\n",
       " 'movements',\n",
       " 'advocate',\n",
       " 'elimination',\n",
       " 'authoritarian',\n",
       " 'institutions',\n",
       " 'particularly',\n",
       " 'state',\n",
       " 'anarchy',\n",
       " 'most',\n",
       " 'use',\n",
       " 'does',\n",
       " 'not',\n",
       " 'imply',\n",
       " 'chaos',\n",
       " 'nihilism',\n",
       " 'or',\n",
       " 'anomie',\n",
       " 'but',\n",
       " 'rather',\n",
       " 'harmonious',\n",
       " 'anti',\n",
       " 'place',\n",
       " 'regarded',\n",
       " 'structures',\n",
       " 'coercive',\n",
       " 'economic',\n",
       " 'relations',\n",
       " 'based',\n",
       " 'upon',\n",
       " 'voluntary',\n",
       " 'association',\n",
       " 'autonomous',\n",
       " 'individuals',\n",
       " 'mutual',\n",
       " 'aid',\n",
       " 'governance',\n",
       " 'while',\n",
       " 'easily',\n",
       " 'offer',\n",
       " 'visions',\n",
       " 'they',\n",
       " 'believe',\n",
       " 'truly',\n",
       " 'free',\n",
       " 'however',\n",
       " 'ideas',\n",
       " 'about',\n",
       " 'how',\n",
       " 'an',\n",
       " 'anarchist',\n",
       " 'might',\n",
       " 'work',\n",
       " 'vary',\n",
       " 'considerably',\n",
       " 'especially',\n",
       " 'with',\n",
       " 'respect',\n",
       " 'economics',\n",
       " 'disagreement',\n",
       " 'brought',\n",
       " 'origins',\n",
       " 'predecessors',\n",
       " 'kropotkin',\n",
       " 'others',\n",
       " 'argue',\n",
       " 'before',\n",
       " 'recorded',\n",
       " 'history',\n",
       " 'human',\n",
       " 'was',\n",
       " 'organized',\n",
       " 'on',\n",
       " 'principles',\n",
       " 'anthropologists',\n",
       " 'follow',\n",
       " 'engels',\n",
       " 'believing',\n",
       " 'hunter',\n",
       " 'gatherer',\n",
       " 'bands',\n",
       " 'were',\n",
       " 'egalitarian',\n",
       " 'lacked',\n",
       " 'division',\n",
       " 'labour',\n",
       " 'accumulated',\n",
       " 'wealth',\n",
       " 'decreed',\n",
       " 'law',\n",
       " 'had',\n",
       " 'equal',\n",
       " 'access',\n",
       " 'resources',\n",
       " 'william',\n",
       " 'godwin',\n",
       " 'organisation',\n",
       " 'rothbard',\n",
       " 'find',\n",
       " 'attitudes',\n",
       " 'taoism',\n",
       " 'ancient',\n",
       " 'china',\n",
       " 'found',\n",
       " 'similar',\n",
       " 'stoic',\n",
       " 'zeno',\n",
       " 'citium',\n",
       " 'according',\n",
       " 'repudiated',\n",
       " 'omnipotence',\n",
       " 'its',\n",
       " 'intervention',\n",
       " 'regimentation',\n",
       " 'proclaimed',\n",
       " 'sovereignty',\n",
       " 'moral',\n",
       " 'individual',\n",
       " 'anabaptists',\n",
       " 'one',\n",
       " 'six',\n",
       " 'th',\n",
       " 'century',\n",
       " 'europe',\n",
       " 'sometimes',\n",
       " 'considered',\n",
       " 'religious',\n",
       " 'forerunners',\n",
       " 'modern',\n",
       " 'bertrand',\n",
       " 'russell',\n",
       " 'his',\n",
       " 'western',\n",
       " 'writes',\n",
       " 'all',\n",
       " 'since',\n",
       " 'held',\n",
       " 'good',\n",
       " 'man',\n",
       " 'will',\n",
       " 'guided',\n",
       " 'at',\n",
       " 'every',\n",
       " 'moment',\n",
       " 'holy',\n",
       " 'spirit',\n",
       " 'premise',\n",
       " 'arrive',\n",
       " 'communism',\n",
       " 'true',\n",
       " 'levellers',\n",
       " 'communistic',\n",
       " 'movement',\n",
       " 'during',\n",
       " 'time',\n",
       " 'civil',\n",
       " 'war',\n",
       " 'some',\n",
       " 'era',\n",
       " 'mean',\n",
       " 'something',\n",
       " 'other',\n",
       " 'than',\n",
       " 'louis',\n",
       " 'armand',\n",
       " 'baron',\n",
       " 'de',\n",
       " 'lahontan',\n",
       " 'nouveaux',\n",
       " 'voyages',\n",
       " 'dans',\n",
       " 'l',\n",
       " 'am',\n",
       " 'rique',\n",
       " 'septentrionale',\n",
       " 'seven',\n",
       " 'zero',\n",
       " 'three',\n",
       " 'where',\n",
       " 'he',\n",
       " 'described',\n",
       " 'indigenous',\n",
       " 'american',\n",
       " 'which',\n",
       " 'no',\n",
       " 'laws',\n",
       " 'prisons',\n",
       " 'priests',\n",
       " 'private',\n",
       " 'property',\n",
       " 'being',\n",
       " 'libertarian',\n",
       " 'leader',\n",
       " 'indian',\n",
       " 'repeatedly',\n",
       " 'stated',\n",
       " 'so',\n",
       " 'ancestors',\n",
       " 'nine',\n",
       " 'thick',\n",
       " 'published',\n",
       " 'enquiry',\n",
       " 'concerning',\n",
       " 'justice',\n",
       " 'did',\n",
       " 'many',\n",
       " 'later',\n",
       " 'have',\n",
       " 'book',\n",
       " 'major',\n",
       " 'text',\n",
       " 'founder',\n",
       " 'philosophical',\n",
       " 'point',\n",
       " 'yet',\n",
       " 'existed',\n",
       " 'anarchiste',\n",
       " 'known',\n",
       " 'mainly',\n",
       " 'insult',\n",
       " 'hurled',\n",
       " 'bourgeois',\n",
       " 'girondins']"
      ]
     },
     "execution_count": 23,
     "metadata": {},
     "output_type": "execute_result"
    }
   ],
   "source": [
    "select_300_words"
   ]
  },
  {
   "cell_type": "code",
   "execution_count": 16,
   "metadata": {},
   "outputs": [
    {
     "data": {
      "image/png": "[encoded data removed]",
      "text/plain": [
       "<Figure size 1080x1080 with 1 Axes>"
      ]
     },
     "metadata": {
      "needs_background": "light"
     },
     "output_type": "display_data"
    }
   ],
   "source": [
    "plot(two_d_embeddings, select_300_words)"
   ]
  },
  {
   "cell_type": "markdown",
   "metadata": {},
   "source": [
    "**(2 points) Describe patterns in the visualization, are there any clusters of similar words? If there aren't any patterns, analyse the problem and re-train the word embeddings.**"
   ]
  },
  {
   "cell_type": "markdown",
   "metadata": {},
   "source": [
    "Similar words are close to each other. For example, (communism, anarchists,anarchism), (believing, believe), (zero, one, three, six, seven)"
   ]
  },
  {
   "cell_type": "markdown",
   "metadata": {},
   "source": [
    "### 4. Intrinsic Evaluation\n",
    "**(2 points) Based on the embeddings we have trained, find most similar 5 words for each of the words [cat, dog, eat] and their similarities**, check whether the results match our tuition or not. You can use gensim functions."
   ]
  },
  {
   "cell_type": "code",
   "execution_count": 17,
   "metadata": {},
   "outputs": [
    {
     "name": "stdout",
     "output_type": "stream",
     "text": [
      "The top 1 word for cat is albino Similarity: 0.700672447681427\n",
      "The top 1 word for dog is keeshond Similarity: 0.7452787160873413\n",
      "The top 1 word for eat is ate Similarity: 0.8192439079284668\n",
      "The top 2 word for cat is bird Similarity: 0.6862938404083252\n",
      "The top 2 word for dog is dogs Similarity: 0.740047037601471\n",
      "The top 2 word for eat is heifer Similarity: 0.8061779737472534\n",
      "The top 3 word for cat is squirrel Similarity: 0.6783856153488159\n",
      "The top 3 word for dog is hound Similarity: 0.7388863563537598\n",
      "The top 3 word for eat is uttering Similarity: 0.8047555685043335\n",
      "The top 4 word for cat is pig Similarity: 0.6690456867218018\n",
      "The top 4 word for dog is pig Similarity: 0.7370461225509644\n",
      "The top 4 word for eat is puppy Similarity: 0.7997769117355347\n",
      "The top 5 word for cat is rodent Similarity: 0.668287992477417\n",
      "The top 5 word for dog is breed Similarity: 0.7234786748886108\n",
      "The top 5 word for eat is devour Similarity: 0.7944192886352539\n"
     ]
    },
    {
     "name": "stderr",
     "output_type": "stream",
     "text": [
      "/Users/lixingxuan/anaconda3/envs/tesnorflow/lib/python3.6/site-packages/gensim/matutils.py:737: FutureWarning: Conversion of the second argument of issubdtype from `int` to `np.signedinteger` is deprecated. In future, it will be treated as `np.int64 == np.dtype(int).type`.\n",
      "  if np.issubdtype(vec.dtype, np.int):\n"
     ]
    }
   ],
   "source": [
    "##to be completed\n",
    "cats = model.wv.most_similar('cat', topn=5)\n",
    "dogs = model.wv.most_similar('dog', topn=5)\n",
    "eats = model.wv.most_similar('eats', topn=5)\n",
    "cats\n",
    "for i in range(5):\n",
    "    print('The top', i+1, 'word for cat is', cats[i][0], 'Similarity:', cats[i][1])\n",
    "    print('The top', i+1, 'word for dog is', dogs[i][0], 'Similarity:', dogs[i][1])\n",
    "    print('The top', i+1, 'word for eat is', eats[i][0], 'Similarity:', eats[i][1])"
   ]
  },
  {
   "cell_type": "markdown",
   "metadata": {},
   "source": [
    "A popular choice for intrinsic evaluation of word vectors is to explore the performance in completing word vector analogies, assume there are two word pairs, a:b, c:d, ideally, their embeddings satisfy a rule $x_a-x_b = x_c-x_d$. For instance, queen – king = actress – actor.\n",
    "\n",
    "**(2 points) Now find out which word will it be in woman - king = man - ?** You can use gensim package."
   ]
  },
  {
   "cell_type": "code",
   "execution_count": 18,
   "metadata": {},
   "outputs": [
    {
     "name": "stdout",
     "output_type": "stream",
     "text": [
      "The word is prince\n"
     ]
    },
    {
     "name": "stderr",
     "output_type": "stream",
     "text": [
      "/Users/lixingxuan/anaconda3/envs/tesnorflow/lib/python3.6/site-packages/gensim/matutils.py:737: FutureWarning: Conversion of the second argument of issubdtype from `int` to `np.signedinteger` is deprecated. In future, it will be treated as `np.int64 == np.dtype(int).type`.\n",
      "  if np.issubdtype(vec.dtype, np.int):\n"
     ]
    }
   ],
   "source": [
    "##to be completed\n",
    "q4_2 = model.wv.most_similar(positive=['king', 'man'], negative=['man'])\n",
    "# q4_2\n",
    "print('The word is', q4_2[0][0])"
   ]
  },
  {
   "cell_type": "markdown",
   "metadata": {},
   "source": [
    "### 5. Extrinsic Evaluation\n",
    "Apart from intrinsic evaluation, the quality of word embeddings can also be evaluated by downstream tasks such as sentiment analysis, which aims to detect the sentiment polarity of a sentence. For instance, the sentence \"I like the movie very much\" is positive, whereas \"I was very disappointed with my new phone\" is negative.\n",
    "\n",
    "In sentiment analysis, each sentence can be tokenized as a sequence of words, then map each word to its embedding, next feed the sequence of word embedding to a GRU layer and obtain the final output of the GRU as the sentence vector. With the sentence vectors and labels, we can train a classifier.\n",
    "\n",
    "We will implement a sentiment analysis pipeline step by step on [movie reviews](https://www.kaggle.com/c/sentiment-analysis-on-movie-reviews/data) from the Rotten Tomatoes."
   ]
  },
  {
   "cell_type": "markdown",
   "metadata": {},
   "source": [
    "#### 5.1 Load the sentiment  dataset \n",
    "The dataset consists of training and testing parts, they have been preprocessed and saved in *.csv format. The data only has two sentiment labels, positive and negative."
   ]
  },
  {
   "cell_type": "code",
   "execution_count": 19,
   "metadata": {},
   "outputs": [],
   "source": [
    "import pandas as pd\n",
    "import numpy as np\n",
    "import torch\n",
    "from torch import nn\n",
    "from dynamic_rnn import dynamicRNN"
   ]
  },
  {
   "cell_type": "code",
   "execution_count": 20,
   "metadata": {},
   "outputs": [
    {
     "data": {
      "text/html": [
       "<div>\n",
       "<style scoped>\n",
       "    .dataframe tbody tr th:only-of-type {\n",
       "        vertical-align: middle;\n",
       "    }\n",
       "\n",
       "    .dataframe tbody tr th {\n",
       "        vertical-align: top;\n",
       "    }\n",
       "\n",
       "    .dataframe thead th {\n",
       "        text-align: right;\n",
       "    }\n",
       "</style>\n",
       "<table border=\"1\" class=\"dataframe\">\n",
       "  <thead>\n",
       "    <tr style=\"text-align: right;\">\n",
       "      <th></th>\n",
       "      <th>PhraseId</th>\n",
       "      <th>SentenceId</th>\n",
       "      <th>Phrase</th>\n",
       "      <th>Sentiment</th>\n",
       "      <th>length</th>\n",
       "    </tr>\n",
       "  </thead>\n",
       "  <tbody>\n",
       "    <tr>\n",
       "      <th>0</th>\n",
       "      <td>44878</td>\n",
       "      <td>2177</td>\n",
       "      <td>of a pregnant premise being wasted by a script...</td>\n",
       "      <td>0</td>\n",
       "      <td>24</td>\n",
       "    </tr>\n",
       "    <tr>\n",
       "      <th>1</th>\n",
       "      <td>65677</td>\n",
       "      <td>3329</td>\n",
       "      <td>All comedy is subversive , but this unrelentin...</td>\n",
       "      <td>0</td>\n",
       "      <td>26</td>\n",
       "    </tr>\n",
       "    <tr>\n",
       "      <th>2</th>\n",
       "      <td>102694</td>\n",
       "      <td>5410</td>\n",
       "      <td>dwells on crossing-over mumbo jumbo , manipula...</td>\n",
       "      <td>0</td>\n",
       "      <td>13</td>\n",
       "    </tr>\n",
       "    <tr>\n",
       "      <th>3</th>\n",
       "      <td>4154</td>\n",
       "      <td>156</td>\n",
       "      <td>the kind of lush , all-enveloping movie experi...</td>\n",
       "      <td>1</td>\n",
       "      <td>8</td>\n",
       "    </tr>\n",
       "    <tr>\n",
       "      <th>4</th>\n",
       "      <td>147293</td>\n",
       "      <td>8015</td>\n",
       "      <td>It 's a fine , focused piece of work that reop...</td>\n",
       "      <td>1</td>\n",
       "      <td>20</td>\n",
       "    </tr>\n",
       "  </tbody>\n",
       "</table>\n",
       "</div>"
      ],
      "text/plain": [
       "   PhraseId  SentenceId                                             Phrase  \\\n",
       "0     44878        2177  of a pregnant premise being wasted by a script...   \n",
       "1     65677        3329  All comedy is subversive , but this unrelentin...   \n",
       "2    102694        5410  dwells on crossing-over mumbo jumbo , manipula...   \n",
       "3      4154         156  the kind of lush , all-enveloping movie experi...   \n",
       "4    147293        8015  It 's a fine , focused piece of work that reop...   \n",
       "\n",
       "   Sentiment  length  \n",
       "0          0      24  \n",
       "1          0      26  \n",
       "2          0      13  \n",
       "3          1       8  \n",
       "4          1      20  "
      ]
     },
     "execution_count": 20,
     "metadata": {},
     "output_type": "execute_result"
    }
   ],
   "source": [
    "train_data_split = pd.read_csv('data/train_data_processed.csv')\n",
    "test_data_split = pd.read_csv('data/test_data_processed.csv')\n",
    "train_data_split.head()"
   ]
  },
  {
   "cell_type": "markdown",
   "metadata": {},
   "source": [
    "#### 5.2 Transform texts into sequences of embedding\n",
    "We need to tokenize each sentence into a sequence of words first, then map them to a sequence of word embeddings. As the lengths of sentences vary, it is necessary to pad all the sentences to the same length in order to stack them in a tensor."
   ]
  },
  {
   "cell_type": "code",
   "execution_count": 21,
   "metadata": {},
   "outputs": [],
   "source": [
    "#initialize unknown word embedding\n",
    "unk_emb = np.random.rand(100) * 0.01- 0.005\n",
    "max_text_len = 52\n",
    "\n",
    "def word2emb(w):\n",
    "    '''\n",
    "    Map each word to a vector\n",
    "    Unknown word will be assigned a random value\n",
    "    Args:\n",
    "        w: a word, string\n",
    "    return:\n",
    "        embedding of the given word\n",
    "    '''\n",
    "    try:\n",
    "        emb = model.wv[w]\n",
    "    except:\n",
    "        emb = unk_emb \n",
    "    return emb"
   ]
  },
  {
   "cell_type": "markdown",
   "metadata": {},
   "source": [
    "**(2 points) Complete the function *text2seq* below, we need a function to tokenize a sentence into a sequence of words.**"
   ]
  },
  {
   "cell_type": "code",
   "execution_count": 22,
   "metadata": {},
   "outputs": [],
   "source": [
    "def text2seq(text):\n",
    "    '''\n",
    "    Split a text into a sequence of words\n",
    "    Args:\n",
    "        text: a string of text\n",
    "    Return:\n",
    "        a list of words\n",
    "    '''\n",
    "    #to be completed\n",
    "    words = text.split()\n",
    "    return words"
   ]
  },
  {
   "cell_type": "markdown",
   "metadata": {},
   "source": [
    "**(2 points) Complete the function *seq2emb*, to map a sequence of words to a sequence of word embeddings**, remember to pad each sequence to the same length and return a numpy array.\n",
    "\n",
    "For example,  the lengths of the two sentences \"I like NLP\", \"It is a nice car\" are different, we can paddle the first one as \"I like NLP $\" by adding a special token \"$\" in the end. In the function seq2emb, you can just set the embeddings of the padded tokens as 0s."
   ]
  },
  {
   "cell_type": "code",
   "execution_count": 23,
   "metadata": {},
   "outputs": [],
   "source": [
    "def seq2emb(tokens, max_pad_length=52):\n",
    "    '''\n",
    "    Map a sequence of words to a sequence of embedding\n",
    "    Args:\n",
    "        tokens: a list of words, lengths may be varied\n",
    "        max_pad_length: the padding length, integer\n",
    "    Return:\n",
    "        a numpy.ndarray object, shape is max_pad_length*embedding_dim\n",
    "    '''\n",
    "    #to be completed \n",
    "    opt = np.zeros((1, 100))\n",
    "    for i in range(len(tokens)):\n",
    "        opt = np.append(opt, word2emb(tokens[i]).reshape((1, 100)), axis=0)\n",
    "    if len(tokens) < max_pad_length:\n",
    "        for i in range(max_pad_length - len(tokens)):\n",
    "            opt = np.append(opt, np.zeros((1, 100)), axis=0)\n",
    "    opt = np.delete(opt, (0), axis=0)\n",
    "#     print(opt.shape)\n",
    "    return opt                          "
   ]
  },
  {
   "cell_type": "markdown",
   "metadata": {},
   "source": [
    "Let's check whether our code works:"
   ]
  },
  {
   "cell_type": "code",
   "execution_count": 24,
   "metadata": {},
   "outputs": [],
   "source": [
    "tokens = ['An', \"awesome\", \"car\"]\n",
    "example_seq_emb = seq2emb(tokens)\n",
    "assert example_seq_emb.shape == (52, 100)"
   ]
  },
  {
   "cell_type": "markdown",
   "metadata": {},
   "source": [
    "We can also create a function *text2emb*, to transform a batch of sentences to padded sequences of embeddings."
   ]
  },
  {
   "cell_type": "code",
   "execution_count": 25,
   "metadata": {},
   "outputs": [],
   "source": [
    "def text2emb(texts):\n",
    "    '''\n",
    "    Transform texts into sequences of embedding\n",
    "    Args:\n",
    "        texts: a list of sentences\n",
    "    Return:\n",
    "        sentence representations, sentence lengths\n",
    "    '''\n",
    "    text_seqs = list(map(text2seq, texts))\n",
    "    text_lens = np.array([len(seq) for seq in text_seqs])\n",
    "    text_seq_embs = list(map(seq2emb, text_seqs))#a list of tokens\n",
    "    text_seq_embs = np.stack(text_seq_embs, axis=0)\n",
    "    return text_seq_embs, text_lens"
   ]
  },
  {
   "cell_type": "code",
   "execution_count": 26,
   "metadata": {},
   "outputs": [],
   "source": [
    "texts = ['This is an awesome car', 'I like NLP']\n",
    "example_text_seq_embs, example_text_lens = text2emb(texts)\n",
    "\n",
    "assert example_text_seq_embs.shape == (2, 52, 100)\n",
    "assert example_text_lens.shape == (2,)"
   ]
  },
  {
   "cell_type": "markdown",
   "metadata": {},
   "source": [
    "#### 5.3 GRU-based Classifier\n",
    "Recurrent neural networks(RNN) have been explored in many NLP tasks, and proved to be efficient in capturing context dependencies. [Gated Recurrent Unit](https://en.wikipedia.org/wiki/Gated_recurrent_unit)(GRU)is a variant of Recurrent Neural Network(RNN). The GRU is similar to a long short-term memory (LSTM) with forget gate but has fewer parameters  as it lacks an output gate. The formula and architecture are shown below(taken from Wikipedia):\n",
    "![gru_formula](https://wikimedia.org/api/rest_v1/media/math/render/svg/d191eafc26594b0d9754f3221ca8a94852588f7c)\n",
    "![gru](https://upload.wikimedia.org/wikipedia/commons/thumb/3/37/Gated_Recurrent_Unit%2C_base_type.svg/220px-Gated_Recurrent_Unit%2C_base_type.svg.png)\n"
   ]
  },
  {
   "cell_type": "markdown",
   "metadata": {},
   "source": [
    "$x_t$ is the current input, $h_{t-1}$ is the last hidden output of GRU, $h_t$ is current hidden output of GRU. $z_t$ is the forget gate and $r_t$ is the reset gate, $W_z$, $W_r$, $U_z$, $U_r$ are parameters, $b_z$, $b_r$ are biases. \n",
    "\n",
    "We have provided a dynamic GRU class to handle varying-length sentences. Note, for this part, we need to use Pytorch package, if you are not familiar with Pytorch, you can refer to [tutorials](https://pytorch.org/tutorials/)."
   ]
  },
  {
   "cell_type": "markdown",
   "metadata": {},
   "source": [
    "Each sentence can be transformed into a vector using an RNN layer, and we can handle a batch of sentences each time in our dynamic GRU class. Let's check our dynamic GRU class with examples created above. **Note, we need to feed both word embedding tensors of sentences and the actual lengths of sentences to dynamic GRU class.**"
   ]
  },
  {
   "cell_type": "code",
   "execution_count": 27,
   "metadata": {},
   "outputs": [
    {
     "name": "stdout",
     "output_type": "stream",
     "text": [
      "torch.Size([2, 16])\n"
     ]
    }
   ],
   "source": [
    "embed_dim, hidden_dim = 100, 16\n",
    "#Create a dynamic RNN object\n",
    "dynRNN = dynamicRNN(embed_dim, hidden_dim)\n",
    "#You need to transform numpy arrays to pytorch tensors, for integers, you need to use LongTensor type\n",
    "example_text_seq_embs = torch.FloatTensor(example_text_seq_embs)\n",
    "example_text_lens = torch.LongTensor(example_text_lens)\n",
    "#Obtain the sentence representations\n",
    "sent_reps = dynRNN(example_text_seq_embs, example_text_lens)\n",
    "print(sent_reps.size())"
   ]
  },
  {
   "cell_type": "code",
   "execution_count": 28,
   "metadata": {},
   "outputs": [
    {
     "name": "stdout",
     "output_type": "stream",
     "text": [
      "tensor([[-0.4006, -0.3346, -0.2978,  0.2569, -0.3909, -0.3360,  0.4584, -0.0467,\n",
      "         -0.0038,  0.0123, -0.2405, -0.0988, -0.2080, -0.0843, -0.0837, -0.0855],\n",
      "        [-0.0714,  0.2155,  0.1031, -0.0660, -0.1107,  0.0352,  0.0332,  0.0234,\n",
      "         -0.1600, -0.0190, -0.2414,  0.1709, -0.0427,  0.0275, -0.1149, -0.1557]],\n",
      "       grad_fn=<TakeBackward>)\n"
     ]
    }
   ],
   "source": [
    "print(sent_reps)"
   ]
  },
  {
   "cell_type": "markdown",
   "metadata": {},
   "source": [
    "**(4 points) Complete the forward function of RNNClassifier**, which input a tensor representing a batch of sentences as well as a tensor recording the actual lengths of sentences."
   ]
  },
  {
   "cell_type": "code",
   "execution_count": 29,
   "metadata": {},
   "outputs": [],
   "source": [
    "class RNNClassifier(nn.Module):\n",
    "    '''\n",
    "    Transform sentence representations to sentiment label expression\n",
    "    '''\n",
    "    def __init__(self, embed_dim, hidden_dim, output_dim=2):\n",
    "        '''\n",
    "        Args:\n",
    "            embed_dim: embedding dimension, integer\n",
    "            hidden_dim: GRU hidden layer dimension, integer\n",
    "            output_dim: output dimension(label size), integer\n",
    "        '''\n",
    "        super(RNNClassifier, self).__init__()\n",
    "        self.dynRNN = dynamicRNN(embed_dim, hidden_dim)\n",
    "        self.linear = torch.nn.Linear(hidden_dim, output_dim)\n",
    "        self.dropout = torch.nn.Dropout(0.2)\n",
    "        self.log_softmax = torch.nn.LogSoftmax(dim=1)\n",
    "     \n",
    "    def forward(self, text_seq_embs, text_seq_lens):\n",
    "        '''\n",
    "        Args:\n",
    "            text_seq_embs: batch sequences of word embedding, batch_size*sequence_length*embedding_dim\n",
    "            text_seq_lens: actual lengths of each batch sequence, batch_size\n",
    "        '''\n",
    "        ################to be completed##############\n",
    "        #1. Obtain the final hidden states for each sentences using dynamicRNN\n",
    "        lstm_opt = self.dynRNN(text_seq_embs, text_seq_lens)\n",
    "        #2. Use dropout on the sentence representations\n",
    "        drop_opt = self.dropout(lstm_opt)\n",
    "        #3. Feed the sentence vectors to a fully-connected layer\n",
    "        fc_opt = self.linear(drop_opt)\n",
    "        #4. Get and return the log softmax values of the output\n",
    "        opt = self.log_softmax(fc_opt)\n",
    "        return opt\n"
   ]
  },
  {
   "cell_type": "markdown",
   "metadata": {},
   "source": [
    "Simply check our classifier:"
   ]
  },
  {
   "cell_type": "code",
   "execution_count": 30,
   "metadata": {},
   "outputs": [],
   "source": [
    "torch.manual_seed(1)\n",
    "classifier = RNNClassifier(100, 64)\n",
    "pred_scores = classifier(example_text_seq_embs, example_text_lens)\n",
    "assert pred_scores.size() == (2, 2)"
   ]
  },
  {
   "cell_type": "markdown",
   "metadata": {},
   "source": [
    "With the functions define above, you can transform the sentences in the dataset into sequences of embedding."
   ]
  },
  {
   "cell_type": "code",
   "execution_count": 31,
   "metadata": {},
   "outputs": [],
   "source": [
    "#Process the training and testing sentences, obtain the padded sequences of embeddings and actual sentence lengths\n",
    "train_seq_embs, train_lens = text2emb(train_data_split.Phrase)\n",
    "test_seq_embs, test_lens = text2emb(test_data_split.Phrase)"
   ]
  },
  {
   "cell_type": "code",
   "execution_count": 32,
   "metadata": {},
   "outputs": [],
   "source": [
    "train_labels = train_data_split.Sentiment.values\n",
    "test_labels = test_data_split.Sentiment.values"
   ]
  },
  {
   "cell_type": "markdown",
   "metadata": {},
   "source": [
    "In order to train the parameters, optimization method and loss should be specified. Let's use Adam optimizer."
   ]
  },
  {
   "cell_type": "code",
   "execution_count": 33,
   "metadata": {},
   "outputs": [],
   "source": [
    "optimizer = torch.optim.Adam(classifier.parameters(), lr=0.001)\n",
    "loss_func = torch.nn.NLLLoss()"
   ]
  },
  {
   "cell_type": "markdown",
   "metadata": {},
   "source": [
    "**(2 point) Complete the code of training**. Note, we need to keep records of the average cost for each 40 loops for visualization. You can refer to a pytorch neural network [pipeline](https://pytorch.org/tutorials/beginner/blitz/neural_networks_tutorial.html#sphx-glr-beginner-blitz-neural-networks-tutorial-py). It is sufficient to run this code using CPU only."
   ]
  },
  {
   "cell_type": "code",
   "execution_count": 34,
   "metadata": {},
   "outputs": [
    {
     "name": "stdout",
     "output_type": "stream",
     "text": [
      "Training Loss 0.73\n",
      "Training Loss 0.70\n",
      "Training Loss 0.53\n",
      "Training Loss 0.70\n",
      "Training Loss 0.56\n",
      "Training Loss 0.47\n",
      "Training Loss 0.43\n",
      "Training Loss 0.45\n",
      "Training Loss 0.51\n",
      "Training Loss 0.49\n",
      "Training Loss 0.50\n",
      "Training Loss 0.50\n",
      "Training Loss 0.32\n",
      "Training Loss 0.44\n",
      "Training Loss 0.49\n"
     ]
    }
   ],
   "source": [
    "epochs = 3\n",
    "loops = 200\n",
    "batch_size = 64\n",
    "costs = []\n",
    "classifier.train()\n",
    "for i in range(epochs):\n",
    "    cost = 0\n",
    "    for j in range(loops):\n",
    "        classifier.zero_grad()\n",
    "        #Select a batch of training data\n",
    "        batch_index = np.random.choice(len(train_seq_embs), batch_size)\n",
    "        batch_text_reps, batch_lens = train_seq_embs[batch_index], train_lens[batch_index]\n",
    "        batch_labels = train_labels[batch_index]\n",
    "        \n",
    "        #transform the numpy array to pytorch tensor\n",
    "        batch_text_reps = torch.FloatTensor(batch_text_reps)\n",
    "        batch_lens = torch.LongTensor(batch_lens)\n",
    "        batch_labels = torch.LongTensor(batch_labels)\n",
    "        \n",
    "        ########to be completed##########\n",
    "        #compute the probability of output labels using your classifier\n",
    "        pred_probs = classifier(batch_text_reps, batch_lens)\n",
    "        #compute loss\n",
    "        loss = loss_func(pred_probs, batch_labels)\n",
    "        \n",
    "        #backpropagate the gradient and update the weights using loss_func and optimizer\n",
    "        loss.backward()\n",
    "        optimizer.step()\n",
    "        cost += loss.item()\n",
    "        if j % 40 == 0:\n",
    "            if j>0:\n",
    "                costs.append(cost/40)\n",
    "            cost = 0\n",
    "            print('Training Loss {:.2f}'.format(loss))"
   ]
  },
  {
   "cell_type": "code",
   "execution_count": 35,
   "metadata": {},
   "outputs": [
    {
     "data": {
      "text/plain": [
       "Text(0,0.5,'Loss')"
      ]
     },
     "execution_count": 35,
     "metadata": {},
     "output_type": "execute_result"
    },
    {
     "data": {
      "image/png": "[encoded data removed]",
      "text/plain": [
       "<Figure size 432x288 with 1 Axes>"
      ]
     },
     "metadata": {
      "needs_background": "light"
     },
     "output_type": "display_data"
    }
   ],
   "source": [
    "plt.plot(range(len(costs)), costs)\n",
    "plt.title('Average Loss of RNN Classifier')\n",
    "plt.ylabel('Loss')"
   ]
  },
  {
   "cell_type": "markdown",
   "metadata": {},
   "source": [
    "Finally, we can evaluate our classifier on the testing dataset with respect to accuracy. **We can fine tune the hyperparameters like epochs, learning rate, hidden size etc. to improve the performance.** The final accuracy should be above 0.8."
   ]
  },
  {
   "cell_type": "code",
   "execution_count": 36,
   "metadata": {},
   "outputs": [],
   "source": [
    "classifier.eval()\n",
    "test_seq_embs = torch.FloatTensor(test_seq_embs)\n",
    "test_lens = torch.LongTensor(test_lens)\n",
    "pred_probs = classifier(test_seq_embs, test_lens)"
   ]
  },
  {
   "cell_type": "code",
   "execution_count": 37,
   "metadata": {},
   "outputs": [],
   "source": [
    "from sklearn.metrics import confusion_matrix, accuracy_score"
   ]
  },
  {
   "cell_type": "code",
   "execution_count": 38,
   "metadata": {},
   "outputs": [
    {
     "name": "stdout",
     "output_type": "stream",
     "text": [
      "Testing Accuracy: 0.83\n"
     ]
    }
   ],
   "source": [
    "pred_labels = pred_probs.argmax(1)\n",
    "accuracy = accuracy_score(test_labels, pred_labels)\n",
    "print('Testing Accuracy: {:.2f}'.format(accuracy))"
   ]
  },
  {
   "cell_type": "code",
   "execution_count": 39,
   "metadata": {},
   "outputs": [
    {
     "data": {
      "text/plain": [
       "array([[373,  62],\n",
       "       [109, 456]])"
      ]
     },
     "execution_count": 39,
     "metadata": {},
     "output_type": "execute_result"
    }
   ],
   "source": [
    "confusion_matrix(test_labels, pred_labels)"
   ]
  },
  {
   "cell_type": "markdown",
   "metadata": {},
   "source": [
    "Congratulations! We have implemented a sentiment analysis pipeline successfully!"
   ]
  }
 ],
 "metadata": {
  "kernelspec": {
   "display_name": "Python 3",
   "language": "python",
   "name": "python3"
  },
  "language_info": {
   "codemirror_mode": {
    "name": "ipython",
    "version": 3
   },
   "file_extension": ".py",
   "mimetype": "text/x-python",
   "name": "python",
   "nbconvert_exporter": "python",
   "pygments_lexer": "ipython3",
   "version": "3.6.7"
  }
 },
 "nbformat": 4,
 "nbformat_minor": 2
}
