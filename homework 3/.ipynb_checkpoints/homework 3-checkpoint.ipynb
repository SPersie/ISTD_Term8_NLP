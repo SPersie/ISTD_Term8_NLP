{
 "cells": [
  {
   "cell_type": "markdown",
   "metadata": {
    "colab_type": "text",
    "id": "ok9xpaI-uyUT"
   },
   "source": [
    "![sutd](imgs/sutd.png)\n",
    "## <center>50.040 Natural Language Processing, Summer 2019<center>\n",
    "<center>**Homework 3**\n",
    "\n",
    "<center>**Due 7 August 2019, 5pm** <center>"
   ]
  },
  {
   "cell_type": "markdown",
   "metadata": {
    "colab_type": "text",
    "id": "WHLjIQokuyUV"
   },
   "source": [
    "**Write your student ID and name**\n",
    "\n",
    "ID: 1002189\n",
    "\n",
    "Name: Li Xingxuan\n",
    "\n",
    "Students whom you have discussed with (if any):"
   ]
  },
  {
   "cell_type": "markdown",
   "metadata": {
    "colab_type": "text",
    "id": "F7rJYYMnuyUW"
   },
   "source": [
    "### Requirements:\n",
    "- Use Python to complete this homework.\n",
    "- Please list students with whom you have discussed (if any).\n",
    "- Follow the honor code strictly.\n",
    "- Submit this ipynb file on eDimension before the deadline."
   ]
  },
  {
   "cell_type": "markdown",
   "metadata": {
    "colab_type": "text",
    "id": "joGu6trB8RRN"
   },
   "source": [
    "In this homework, we'll implement IBM Model 1 using the expectation–maximization (EM) algorithm. We need to estimate the  translation probabilities $t(f|e)$ on a parallel corpus, where $e$ is a word from the English sentences and $f$ is a word from the corresponding foreign sentences. \n",
    "\n",
    "Note that there's a constraint for such probabilities:\n",
    "$$\\sum_f t(f|e)=1  \\ \\ \\ (1)$$\n",
    "\n",
    "**We'll use this constraint when initializing the translation probabilities in subsequent tasks.**"
   ]
  },
  {
   "cell_type": "markdown",
   "metadata": {
    "colab_type": "text",
    "id": "stJOvS_A8RRO"
   },
   "source": [
    "## Data\n",
    "We'll use the English-French parallel corpus under the folder \"data/en-fr\", which contains a set of translation instances. As can be seen below each instance consists of an English-French sentence pair (note that we are translating from French into English, but as we discussed in class, when working on the translation model using IBM model 1, we are interested in generating French from English).\n",
    "\n",
    "\n",
    "\n",
    "    Hop in.\tMontez.\n",
    "    Hug me.\tSerre-moi dans tes bras !\n",
    "    I left.\tJe suis parti.\n",
    "\n",
    "The dataset is obtained from [MXNET](http://data.mxnet.io/data/fra-eng.zip). Please run the provided code below to obtain the preprocessed English sentences and French sentences. Do not perform any further preprocessing. \n"
   ]
  },
  {
   "cell_type": "code",
   "execution_count": 1,
   "metadata": {
    "colab": {},
    "colab_type": "code",
    "id": "spMyMryh8RRP"
   },
   "outputs": [],
   "source": [
    "import seaborn as sns\n",
    "import numpy as np\n",
    "from collections import Counter\n",
    "from matplotlib import pyplot as plt\n",
    "%matplotlib inline"
   ]
  },
  {
   "cell_type": "code",
   "execution_count": 2,
   "metadata": {
    "colab": {},
    "colab_type": "code",
    "id": "soTtZXt68RRT"
   },
   "outputs": [],
   "source": [
    "path = 'data/en-fr/en-fr.txt'\n",
    "with open(path) as f:\n",
    "    raw_text = f.read()\n",
    "\n",
    "#Original code from \n",
    "#https://www.d2l.ai/chapter_recurrent-neural-networks\n",
    "def preprocess_nmt(text):\n",
    "    '''\n",
    "    Arg:\n",
    "        text: parallel text, string\n",
    "    Return:\n",
    "        out: preprocessed text, string\n",
    "    '''\n",
    "    text = text.replace('\\u202f', ' ').replace('\\xa0', ' ')\n",
    "    no_space = lambda char, prev_char: (\n",
    "        True if char in (',', '!', '.') and prev_char != ' ' else False)\n",
    "    out = [' '+char if i > 0 and no_space(char, text[i-1]) else char\n",
    "           for i, char in enumerate(text.lower())]\n",
    "    out = ''.join(out)\n",
    "    return out\n",
    "\n",
    "text = preprocess_nmt(raw_text)\n",
    "\n",
    "def tokenize_nmt(text, num_examples = None):\n",
    "    '''\n",
    "    Args:\n",
    "        text: parallel text, string\n",
    "        num_examples: number of examples to be selected, int\n",
    "    Returns:\n",
    "        left: English sentences, list\n",
    "        right: French sentences, list\n",
    "    '''\n",
    "    left, right = [], []\n",
    "    for i, line in enumerate(text.split('\\n')):\n",
    "        if num_examples and i > num_examples: break\n",
    "        parts = line.split('\\t')\n",
    "        if len(parts) == 2:\n",
    "            left.append(parts[0].split(' '))\n",
    "            right.append(parts[1].split(' '))\n",
    "    return left, right\n"
   ]
  },
  {
   "cell_type": "code",
   "execution_count": 3,
   "metadata": {
    "colab": {},
    "colab_type": "code",
    "id": "oOUt-g3B8RRV"
   },
   "outputs": [],
   "source": [
    "#English sentences and corresponding French sentences\n",
    "#Each sentence has been preprocessed and tokenized\n",
    "english_sents, french_sents = tokenize_nmt(text)"
   ]
  },
  {
   "cell_type": "markdown",
   "metadata": {
    "colab_type": "text",
    "id": "YCTLIntg8RRX"
   },
   "source": [
    "\n",
    "### Task 1 (3 points)\n",
    "Find out all the possible word pairs $(e, f)$ that appear in all the instances of the English-French dataset, and list down the 10 most frequent pairs. Also count the number of unique pairs. Note that we need to pad each English sentence with the special token \"NULL\" at the beginning.\n"
   ]
  },
  {
   "cell_type": "code",
   "execution_count": 4,
   "metadata": {
    "colab": {},
    "colab_type": "code",
    "id": "SY66YMBR8RRX"
   },
   "outputs": [],
   "source": [
    "#Write your code here\n",
    "unique_dict = {}\n",
    "for i in range(len(english_sents)):\n",
    "    english_sents[i] = ['NULL'] + english_sents[i]\n",
    "    for j in range(len(english_sents[i])):\n",
    "        for k in range(len(french_sents[i])):\n",
    "            if english_sents[i][j] + '->' + french_sents[i][k] not in unique_dict:\n",
    "                unique_dict[english_sents[i][j] + '->' + french_sents[i][k]] = 1\n",
    "            else:\n",
    "                unique_dict[english_sents[i][j] + '->' + french_sents[i][k]] += 1"
   ]
  },
  {
   "cell_type": "code",
   "execution_count": 5,
   "metadata": {},
   "outputs": [],
   "source": [
    "sorted_unique_dict = sorted(unique_dict.items(), key=lambda kv: kv[1])"
   ]
  },
  {
   "cell_type": "code",
   "execution_count": 6,
   "metadata": {},
   "outputs": [
    {
     "name": "stdout",
     "output_type": "stream",
     "text": [
      "Number of unique pairs: 1402126\n",
      "Top 10 most frequent pairs:\n",
      "('.->.', 136734)\n",
      "('NULL->.', 135221)\n",
      "('i->.', 43189)\n",
      "('NULL->je', 39821)\n",
      "('.->je', 39096)\n",
      "('NULL->de', 35073)\n",
      "('i->je', 34415)\n",
      "('to->.', 31647)\n",
      "('.->de', 30490)\n",
      "('the->.', 29170)\n"
     ]
    }
   ],
   "source": [
    "print('Number of unique pairs:', len(sorted_unique_dict))\n",
    "print('Top 10 most frequent pairs:')\n",
    "for i in range(1, 11):\n",
    "    print(sorted_unique_dict[-i])"
   ]
  },
  {
   "cell_type": "markdown",
   "metadata": {
    "colab_type": "text",
    "id": "424sQt3b8RRZ"
   },
   "source": [
    "## Hard EM algorithm"
   ]
  },
  {
   "cell_type": "markdown",
   "metadata": {
    "colab_type": "text",
    "id": "WB_5EV3q8RRa"
   },
   "source": [
    "### Task 2 (6 points)\n",
    "Based on the word pairs obtained in Task 1, implement a hard EM algorithm to calculate the  translation probabilities  $t(f|e)$ on the English-French corpus. Initialize the probabilities randomly under the constraint in Equation 1. Set the maximum iteration number as 10. \n",
    "\n",
    "It is possible that in the hard EM algorithm a word $\\tilde{e}$ from an English sentence may not be aligned with any word from the corresponding French sentence. In this case, let us set the corresponding probabilities $t(f|\\tilde{e})=\\frac{1}{|V_f|}$ where $|V_f|$ is the size of the French vocabulary (in this case, the number of unique French words that ever appear in the training parallel corpus)."
   ]
  },
  {
   "cell_type": "code",
   "execution_count": 7,
   "metadata": {},
   "outputs": [],
   "source": [
    "import numpy as np\n",
    "from numpy import random    "
   ]
  },
  {
   "cell_type": "code",
   "execution_count": 12,
   "metadata": {},
   "outputs": [],
   "source": [
    "unique_e = []\n",
    "unique_f = []\n",
    "for i in range(len(english_sents)):\n",
    "    unique_e += english_sents[i]\n",
    "    unique_f += french_sents[i]\n",
    "unique_e = list(set(unique_e))\n",
    "unique_f = list(set(unique_f))"
   ]
  },
  {
   "cell_type": "code",
   "execution_count": 41,
   "metadata": {
    "colab": {},
    "colab_type": "code",
    "id": "CEDfXScl8RRa"
   },
   "outputs": [],
   "source": [
    "#Write your code here\n",
    "def hard_em():\n",
    "    ### Initialize hard_t\n",
    "    t = {}\n",
    "    for i in range(len(english_sents)):\n",
    "        for j in range(len(english_sents[i])):\n",
    "            for k in range(len(french_sents[i])):\n",
    "                if english_sents[i][j] not in t:\n",
    "                    t[english_sents[i][j]] = {}\n",
    "                    t[english_sents[i][j]][french_sents[i][k]] = [0, 0]\n",
    "                else:\n",
    "                    t[english_sents[i][j]][french_sents[i][k]] = [0, 0]\n",
    "                    \n",
    "    for key in t:\n",
    "        tmp_list = list(t[key].keys())\n",
    "        tmp_np = random.dirichlet(np.ones(len(t[key])),size=1).reshape(-1, 1)\n",
    "        for i in range(len(tmp_list)):\n",
    "            t[key][tmp_list[i]][0] = float(tmp_np[i])\n",
    "    print('t and count created.')\n",
    "    \n",
    "    for i in range(10):\n",
    "        print('Start iteration.', i+1)\n",
    "        ### Expectation Step, calculate count\n",
    "        for j in range(len(english_sents)):\n",
    "            for k in range(len(french_sents[j])):\n",
    "                tmp_t = 0\n",
    "                for l in range(len(english_sents[j])):\n",
    "                    if t[english_sents[j][l]][french_sents[j][k]][0] >= tmp_t:\n",
    "                        tmp_t = t[english_sents[j][l]][french_sents[j][k]][0]\n",
    "                        tmp_word = (english_sents[j][l], french_sents[j][k])\n",
    "                t[tmp_word[0]][tmp_word[1]][1] += 1\n",
    "                        \n",
    "        ### Maximization Step, calculate t\n",
    "        print('Start maximization step.')\n",
    "        for j in t:\n",
    "            count_e = 0\n",
    "            for k in t[j]:\n",
    "                count_e += t[j][k][1]\n",
    "                \n",
    "            for k in t[j]:\n",
    "                count_fe = t[j][k][1]\n",
    "                \n",
    "                if count_fe == 0:\n",
    "                    t[j][k][0] = float(1/len(unique_f))\n",
    "                else:\n",
    "                    t[j][k][0] = float(count_fe / count_e)\n",
    "        print('Finish iteration.')\n",
    "        \n",
    "    return t"
   ]
  },
  {
   "cell_type": "code",
   "execution_count": 54,
   "metadata": {},
   "outputs": [
    {
     "name": "stdout",
     "output_type": "stream",
     "text": [
      "t and count created.\n",
      "Start iteration. 1\n",
      "Start maximization step.\n",
      "Finish iteration.\n",
      "Start iteration. 2\n",
      "Start maximization step.\n",
      "Finish iteration.\n",
      "Start iteration. 3\n",
      "Start maximization step.\n",
      "Finish iteration.\n",
      "Start iteration. 4\n",
      "Start maximization step.\n",
      "Finish iteration.\n",
      "Start iteration. 5\n",
      "Start maximization step.\n",
      "Finish iteration.\n",
      "Start iteration. 6\n",
      "Start maximization step.\n",
      "Finish iteration.\n",
      "Start iteration. 7\n",
      "Start maximization step.\n",
      "Finish iteration.\n",
      "Start iteration. 8\n",
      "Start maximization step.\n",
      "Finish iteration.\n",
      "Start iteration. 9\n",
      "Start maximization step.\n",
      "Finish iteration.\n",
      "Start iteration. 10\n",
      "Start maximization step.\n",
      "Finish iteration.\n"
     ]
    }
   ],
   "source": [
    "hard_t = hard_em()"
   ]
  },
  {
   "cell_type": "markdown",
   "metadata": {
    "colab_type": "text",
    "id": "18sBQ---8RRc"
   },
   "source": [
    "### Task 3 (3 points)\n",
    "Using 2D-heatmap, visualize the word alignment (namely $t(f|e)$) for each of the instances below:\n",
    "\n",
    "    NULL tom loves chocolate .   tom adore le chocolat .    \n",
    "    NULL it was a very exciting game .   c'était un jeu vraiment très excitant .  \n",
    "    NULL i'm sorry to have kept you waiting for such a long time .   je suis désolé de vous avoir fait attendre aussi longtemps .  \n",
    "    \n",
    "Note that you need to label the x-axis (horizontal axis) with the English words and the y-axis (vertical axis) with the French words (please do not change the word orders for both sentences; see the sample heatmap below)."
   ]
  },
  {
   "cell_type": "code",
   "execution_count": 55,
   "metadata": {
    "colab": {},
    "colab_type": "code",
    "id": "6Z8flISn8RRc"
   },
   "outputs": [
    {
     "data": {
      "image/png": "[encoded data removed]",
      "text/plain": [
       "<Figure size 432x288 with 2 Axes>"
      ]
     },
     "metadata": {
      "needs_background": "light"
     },
     "output_type": "display_data"
    },
    {
     "data": {
      "image/png": "[encoded data removed]",
      "text/plain": [
       "<Figure size 432x288 with 2 Axes>"
      ]
     },
     "metadata": {
      "needs_background": "light"
     },
     "output_type": "display_data"
    },
    {
     "data": {
      "image/png": "[encoded data removed]",
      "text/plain": [
       "<Figure size 432x288 with 2 Axes>"
      ]
     },
     "metadata": {
      "needs_background": "light"
     },
     "output_type": "display_data"
    }
   ],
   "source": [
    "#Write your code here f e\n",
    "import seaborn as sns\n",
    "import matplotlib.pyplot as plt\n",
    "\n",
    "a_f = 'tom adore le chocolat .'.split(' ')\n",
    "a_e = 'NULL tom loves chocolate .'.split(' ')\n",
    "a_fe = np.zeros((len(a_f), len(a_e)))\n",
    "for i in range(len(a_f)):\n",
    "    for j in range(len(a_e)):\n",
    "        a_fe[i, j] = hard_t[a_e[j]][a_f[i]][0]\n",
    "ax = sns.heatmap(a_fe, linewidth=0.5)\n",
    "ax.set_xticklabels(a_e)\n",
    "ax.set_yticklabels(a_f)\n",
    "plt.show()\n",
    "        \n",
    "b_f = \"c'était un jeu vraiment très excitant .\".split(' ')\n",
    "b_e = 'NULL it was a very exciting game .'.split(' ')\n",
    "b_fe = np.zeros((len(b_f), len(b_e)))\n",
    "for i in range(len(b_f)):\n",
    "    for j in range(len(b_e)):\n",
    "        b_fe[i, j] = hard_t[b_e[j]][b_f[i]][0]\n",
    "ax = sns.heatmap(b_fe, linewidth=0.5)\n",
    "ax.set_xticklabels(b_e)\n",
    "ax.set_yticklabels(b_f)\n",
    "plt.show() \n",
    "\n",
    "c_f = \"je suis désolé de vous avoir fait attendre aussi longtemps .\".split(' ')\n",
    "c_e = \"NULL i'm sorry to have kept you waiting for such a long time .\".split(' ')\n",
    "c_fe = np.zeros((len(c_f), len(c_e)))\n",
    "for i in range(len(c_f)):\n",
    "    for j in range(len(c_e)):\n",
    "        try:\n",
    "            c_fe[i, j] = hard_t[c_e[j]][c_f[i]][0]\n",
    "        except:\n",
    "            c_fe[i, j] = float(1/len(unique_f))\n",
    "ax = sns.heatmap(c_fe, linewidth=0.5)\n",
    "ax.set_xticklabels(c_e)\n",
    "ax.set_yticklabels(c_f)\n",
    "plt.show()"
   ]
  },
  {
   "cell_type": "markdown",
   "metadata": {
    "colab_type": "text",
    "id": "azApJ9p78RRd"
   },
   "source": [
    "## Soft EM algorithm"
   ]
  },
  {
   "cell_type": "markdown",
   "metadata": {
    "colab_type": "text",
    "id": "DUYEBjlO8RRe"
   },
   "source": [
    "### Task 4 (8 points)\n",
    "Implement a soft EM algorithm with the translation probabilities $t(f|e)$ randomly initialized under the constraint in Equation 1. Let us use the objective function defined in the slides to check whether our algorithm can converge as expected. The objective of the entire training set is denoted as: \n",
    "\n",
    "$$\\sum_{k} \\sum_{i=1}^{m_k}log(\\sum_{j=0}^{n_k}t(f^k_i\\mid e^k_j)) \\ \\ \\ (2)$$\n",
    "where  $m_k$ is the length of the French sentence, $n_k$ is the length of the English sentence in the $k$-th instance.\n",
    "- Run the soft EM algorithm on the first 10000 instances of the English-French corpus. Display the objective and check whether it is non-descending in the first, say 100 or 1000 iterations (or even more).  If not, it indicates your algorithm has bug and please look into your implementation. (Note that since we are only considering the first 10000 instances, we therefore only need to consider the word pairs $(e, f)$ that appear in these 10000 instances)\n",
    "- Based on the word translation pairs obtained in Task 1, calculate the probabilities $t(f|e)$ on the entire English-French corpus. Display the objective at each iteration, and set the maximum iteration number as 15."
   ]
  },
  {
   "cell_type": "code",
   "execution_count": 58,
   "metadata": {
    "colab": {},
    "colab_type": "code",
    "id": "K0VtproO8RRe"
   },
   "outputs": [],
   "source": [
    "#Write your code here\n",
    "def soft_em():\n",
    "    ### Initialize hard_t\n",
    "    t = {}\n",
    "    for i in range(len(english_sents)):\n",
    "        for j in range(len(english_sents[i])):\n",
    "            for k in range(len(french_sents[i])):\n",
    "                if english_sents[i][j] not in t:\n",
    "                    t[english_sents[i][j]] = {}\n",
    "                    t[english_sents[i][j]][french_sents[i][k]] = [0, 0]\n",
    "                else:\n",
    "                    t[english_sents[i][j]][french_sents[i][k]] = [0, 0]\n",
    "                    \n",
    "    for key in t:\n",
    "        tmp_list = list(t[key].keys())\n",
    "        tmp_np = random.dirichlet(np.ones(len(t[key])),size=1).reshape(-1, 1)\n",
    "        for i in range(len(tmp_list)):\n",
    "            t[key][tmp_list[i]][0] = float(tmp_np[i])\n",
    "    print('t and count created.')\n",
    "    \n",
    "    for i in range(10):\n",
    "        print('Start iteration.', i+1)\n",
    "        ### Expectation Step, calculate count\n",
    "        for j in range(len(english_sents)):\n",
    "            for k in range(len(french_sents[j])):\n",
    "                t_fe = 0\n",
    "                for l in range(len(english_sents[j])):\n",
    "                    t_fe += t[english_sents[j][l]][french_sents[j][k]][0]\n",
    "                for l in range(len(english_sents[j])):\n",
    "                    t[english_sents[j][l]][french_sents[j][k]][1]=t[english_sents[j][l]][french_sents[j][k]][0]/t_fe\n",
    "                        \n",
    "        ### Maximization Step, calculate t\n",
    "        print('Start maximization step.')\n",
    "        for j in t:\n",
    "            count_e = 0\n",
    "            for k in t[j]:\n",
    "                count_e += t[j][k][1]\n",
    "                \n",
    "            for k in t[j]:\n",
    "                count_fe = t[j][k][1]\n",
    "                \n",
    "                if count_fe == 0:\n",
    "                    t[j][k][0] = float(1/len(unique_f))\n",
    "                else:\n",
    "                    t[j][k][0] = float(count_fe / count_e)\n",
    "        print('Finish iteration.')\n",
    "        \n",
    "    return t"
   ]
  },
  {
   "cell_type": "code",
   "execution_count": 59,
   "metadata": {},
   "outputs": [
    {
     "name": "stdout",
     "output_type": "stream",
     "text": [
      "t and count created.\n",
      "Start iteration. 1\n",
      "Start maximization step.\n",
      "Finish iteration.\n",
      "Start iteration. 2\n",
      "Start maximization step.\n",
      "Finish iteration.\n",
      "Start iteration. 3\n",
      "Start maximization step.\n",
      "Finish iteration.\n",
      "Start iteration. 4\n",
      "Start maximization step.\n",
      "Finish iteration.\n",
      "Start iteration. 5\n",
      "Start maximization step.\n",
      "Finish iteration.\n",
      "Start iteration. 6\n",
      "Start maximization step.\n",
      "Finish iteration.\n",
      "Start iteration. 7\n",
      "Start maximization step.\n",
      "Finish iteration.\n",
      "Start iteration. 8\n",
      "Start maximization step.\n",
      "Finish iteration.\n",
      "Start iteration. 9\n",
      "Start maximization step.\n",
      "Finish iteration.\n",
      "Start iteration. 10\n",
      "Start maximization step.\n",
      "Finish iteration.\n"
     ]
    }
   ],
   "source": [
    "soft_t = soft_em()"
   ]
  },
  {
   "cell_type": "markdown",
   "metadata": {
    "colab_type": "text",
    "id": "XCk59zI68RRf"
   },
   "source": [
    "### Task 5 (4 points)\n",
    "\n",
    "Using the word translation probabilities obtained in Task 4, \n",
    "- Perform the visualization again for each of the instances in Task 3. \n",
    "- Find out the optimal alignment for each of the instances listed in Task 3. List down the optimal alignment word pairs for each instance, namely, align each word in the French sentence to the most relevant word in the corresponding English sentence based on the learned probabilities."
   ]
  },
  {
   "cell_type": "code",
   "execution_count": 60,
   "metadata": {
    "colab": {},
    "colab_type": "code",
    "id": "fDCo3kYl8RRf"
   },
   "outputs": [
    {
     "data": {
      "image/png": "[encoded data removed]",
      "text/plain": [
       "<Figure size 432x288 with 2 Axes>"
      ]
     },
     "metadata": {
      "needs_background": "light"
     },
     "output_type": "display_data"
    },
    {
     "data": {
      "image/png": "[encoded data removed]",
      "text/plain": [
       "<Figure size 432x288 with 2 Axes>"
      ]
     },
     "metadata": {
      "needs_background": "light"
     },
     "output_type": "display_data"
    },
    {
     "data": {
      "image/png": "[encoded data removed]",
      "text/plain": [
       "<Figure size 432x288 with 2 Axes>"
      ]
     },
     "metadata": {
      "needs_background": "light"
     },
     "output_type": "display_data"
    }
   ],
   "source": [
    "#Write your code here\n",
    "import seaborn as sns\n",
    "import matplotlib.pyplot as plt\n",
    "\n",
    "a_f = 'tom adore le chocolat .'.split(' ')\n",
    "a_e = 'NULL tom loves chocolate .'.split(' ')\n",
    "a_fe = np.zeros((len(a_f), len(a_e)))\n",
    "for i in range(len(a_f)):\n",
    "    for j in range(len(a_e)):\n",
    "        a_fe[i, j] = soft_t[a_e[j]][a_f[i]][0]\n",
    "ax = sns.heatmap(a_fe, linewidth=0.5)\n",
    "ax.set_xticklabels(a_e)\n",
    "ax.set_yticklabels(a_f)\n",
    "plt.show()\n",
    "        \n",
    "b_f = \"c'était un jeu vraiment très excitant .\".split(' ')\n",
    "b_e = 'NULL it was a very exciting game .'.split(' ')\n",
    "b_fe = np.zeros((len(b_f), len(b_e)))\n",
    "for i in range(len(b_f)):\n",
    "    for j in range(len(b_e)):\n",
    "        b_fe[i, j] = soft_t[b_e[j]][b_f[i]][0]\n",
    "ax = sns.heatmap(b_fe, linewidth=0.5)\n",
    "ax.set_xticklabels(b_e)\n",
    "ax.set_yticklabels(b_f)\n",
    "plt.show() \n",
    "\n",
    "c_f = \"je suis désolé de vous avoir fait attendre aussi longtemps .\".split(' ')\n",
    "c_e = \"NULL i'm sorry to have kept you waiting for such a long time .\".split(' ')\n",
    "c_fe = np.zeros((len(c_f), len(c_e)))\n",
    "for i in range(len(c_f)):\n",
    "    for j in range(len(c_e)):\n",
    "        try:\n",
    "            c_fe[i, j] = soft_t[c_e[j]][c_f[i]][0]\n",
    "        except:\n",
    "            c_fe[i, j] = float(1/len(unique_f))\n",
    "ax = sns.heatmap(c_fe, linewidth=0.5)\n",
    "ax.set_xticklabels(c_e)\n",
    "ax.set_yticklabels(c_f)\n",
    "plt.show()"
   ]
  },
  {
   "cell_type": "markdown",
   "metadata": {
    "colab_type": "text",
    "id": "W2-B-7yP8RRg"
   },
   "source": [
    "### Task 6 (6 points)\n",
    "\n",
    "Now let us run the soft EM algorithm on the English-Chinese dataset under the folder \"data/en-zh\". The dataset is obtained from [OPUS](http://opus.nlpl.eu/). We'll use the provided code below to preprocess and tokenize the sentences. Do not perform any further preprocessing. \n",
    "- Pad the English sentences with the token \"NULL\" at the beginning. \n",
    "- Calculate the word translation probabilities $t(f |e)$, where $e$ is an English word and $f$ is a Chinese word. Initialize the probabilities randomly under the constraint in Equation 1.\n",
    "- Run the algorithm for 10 iterations. Display the objective at each iteration. \n",
    "- Visualize the alignment for each of the instances below:\n",
    "    \n",
    "        NULL new questions over california water project   加利福尼亚州 水务 工程 的 新 问题\n",
    "        NULL on wednesday , state lawmakers ordered a state audit of the tunnels-spending as well .    一些 州 议员 也 于 周三 责令 对 隧道 费用 支出 情况 进行 一次 州 内 审计 。\n",
    "    \n",
    "\n",
    "\n",
    "    \n",
    "Hint: We can refer to this [blog](https://xiaobing.home.blog/?p=16) for displaying Chinese characters with Matplotlib.\n",
    "    "
   ]
  },
  {
   "cell_type": "code",
   "execution_count": 65,
   "metadata": {
    "colab": {},
    "colab_type": "code",
    "id": "jJNPSLze8RRh"
   },
   "outputs": [],
   "source": [
    "import jieba\n",
    "from nltk import word_tokenize\n",
    "def load_en_zh_data(en_path, zh_path):\n",
    "    '''\n",
    "    Args:\n",
    "        en_path: path of the English sentences, string\n",
    "        zh_path: path of the Chinese sentences, string\n",
    "    Returns:\n",
    "        english_sents: English sentences, list\n",
    "        chinese_sents: Chinese sentences, list\n",
    "    '''\n",
    "    english_sents = []\n",
    "    with open(en_path) as f:\n",
    "        for line in f:\n",
    "            words = word_tokenize(line.strip('\\n').lower())\n",
    "            english_sents.append(words)\n",
    "\n",
    "    chinese_sents = []\n",
    "    with open(zh_path) as f:\n",
    "        for line in f:\n",
    "            words = list(jieba.cut(line.strip('\\n')))\n",
    "            chinese_sents.append(words)\n",
    "    return english_sents, chinese_sents"
   ]
  },
  {
   "cell_type": "code",
   "execution_count": 68,
   "metadata": {
    "colab": {},
    "colab_type": "code",
    "id": "epHnnTkI8RRh"
   },
   "outputs": [
    {
     "name": "stderr",
     "output_type": "stream",
     "text": [
      "Building prefix dict from the default dictionary ...\n",
      "Dumping model to file cache /var/folders/8s/qkz_0_016dd17tlg2tcwm0780000gn/T/jieba.cache\n",
      "Loading model cost 0.694 seconds.\n",
      "Prefix dict has been built succesfully.\n"
     ]
    }
   ],
   "source": [
    "#Write your code here\n",
    "english_sents, chinese_sents = load_en_zh_data('data/en-zh/WMT-News.en-zh.en', 'data/en-zh/WMT-News.en-zh.zh')\n",
    "unique_e = []\n",
    "unique_c = []\n",
    "for i in range(len(english_sents)):\n",
    "    unique_e += english_sents[i]\n",
    "    unique_c += chinese_sents[i]\n",
    "unique_e = list(set(unique_e))\n",
    "unique_c = list(set(unique_c))"
   ]
  },
  {
   "cell_type": "code",
   "execution_count": 71,
   "metadata": {},
   "outputs": [],
   "source": [
    "#Write your code here\n",
    "def soft_cn_em():\n",
    "    ### Initialize hard_t\n",
    "    t = {}\n",
    "    for i in range(len(english_sents)):\n",
    "        for j in range(len(english_sents[i])):\n",
    "            for k in range(len(chinese_sents[i])):\n",
    "                if english_sents[i][j] not in t:\n",
    "                    t[english_sents[i][j]] = {}\n",
    "                    t[english_sents[i][j]][chinese_sents[i][k]] = [0, 0]\n",
    "                else:\n",
    "                    t[english_sents[i][j]][chinese_sents[i][k]] = [0, 0]\n",
    "                    \n",
    "    for key in t:\n",
    "        tmp_list = list(t[key].keys())\n",
    "        tmp_np = random.dirichlet(np.ones(len(t[key])),size=1).reshape(-1, 1)\n",
    "        for i in range(len(tmp_list)):\n",
    "            t[key][tmp_list[i]][0] = float(tmp_np[i])\n",
    "    print('t and count created.')\n",
    "    \n",
    "    for i in range(10):\n",
    "        print('Start iteration.', i+1)\n",
    "        ### Expectation Step, calculate count\n",
    "        for j in range(len(english_sents)):\n",
    "            for k in range(len(chinese_sents[j])):\n",
    "                t_fe = 0\n",
    "                for l in range(len(english_sents[j])):\n",
    "                    t_fe += t[english_sents[j][l]][chinese_sents[j][k]][0]\n",
    "                for l in range(len(english_sents[j])):\n",
    "                    t[english_sents[j][l]][chinese_sents[j][k]][1]=t[english_sents[j][l]][chinese_sents[j][k]][0]/t_fe\n",
    "                        \n",
    "        ### Maximization Step, calculate t\n",
    "        print('Start maximization step.')\n",
    "        for j in t:\n",
    "            count_e = 0\n",
    "            for k in t[j]:\n",
    "                count_e += t[j][k][1]\n",
    "                \n",
    "            for k in t[j]:\n",
    "                count_fe = t[j][k][1]\n",
    "                \n",
    "                if count_fe == 0:\n",
    "                    t[j][k][0] = float(1/len(unique_c))\n",
    "                else:\n",
    "                    t[j][k][0] = float(count_fe / count_e)\n",
    "        print('Finish iteration.')\n",
    "        \n",
    "    return t"
   ]
  },
  {
   "cell_type": "code",
   "execution_count": 72,
   "metadata": {},
   "outputs": [
    {
     "name": "stdout",
     "output_type": "stream",
     "text": [
      "t and count created.\n",
      "Start iteration. 1\n",
      "Start maximization step.\n",
      "Finish iteration.\n",
      "Start iteration. 2\n",
      "Start maximization step.\n",
      "Finish iteration.\n",
      "Start iteration. 3\n",
      "Start maximization step.\n",
      "Finish iteration.\n",
      "Start iteration. 4\n",
      "Start maximization step.\n",
      "Finish iteration.\n",
      "Start iteration. 5\n",
      "Start maximization step.\n",
      "Finish iteration.\n",
      "Start iteration. 6\n",
      "Start maximization step.\n",
      "Finish iteration.\n",
      "Start iteration. 7\n",
      "Start maximization step.\n",
      "Finish iteration.\n",
      "Start iteration. 8\n",
      "Start maximization step.\n",
      "Finish iteration.\n",
      "Start iteration. 9\n",
      "Start maximization step.\n",
      "Finish iteration.\n",
      "Start iteration. 10\n",
      "Start maximization step.\n",
      "Finish iteration.\n"
     ]
    }
   ],
   "source": [
    "soft_cn_t = soft_cn_em()"
   ]
  },
  {
   "cell_type": "code",
   "execution_count": 77,
   "metadata": {
    "scrolled": false
   },
   "outputs": [
    {
     "name": "stderr",
     "output_type": "stream",
     "text": [
      "/Users/lixingxuan/anaconda3/envs/tesnorflow/lib/python3.6/site-packages/matplotlib/backends/backend_agg.py:211: RuntimeWarning: Glyph 21152 missing from current font.\n",
      "  font.set_text(s, 0.0, flags=flags)\n",
      "/Users/lixingxuan/anaconda3/envs/tesnorflow/lib/python3.6/site-packages/matplotlib/backends/backend_agg.py:211: RuntimeWarning: Glyph 21033 missing from current font.\n",
      "  font.set_text(s, 0.0, flags=flags)\n",
      "/Users/lixingxuan/anaconda3/envs/tesnorflow/lib/python3.6/site-packages/matplotlib/backends/backend_agg.py:211: RuntimeWarning: Glyph 31119 missing from current font.\n",
      "  font.set_text(s, 0.0, flags=flags)\n",
      "/Users/lixingxuan/anaconda3/envs/tesnorflow/lib/python3.6/site-packages/matplotlib/backends/backend_agg.py:211: RuntimeWarning: Glyph 23612 missing from current font.\n",
      "  font.set_text(s, 0.0, flags=flags)\n",
      "/Users/lixingxuan/anaconda3/envs/tesnorflow/lib/python3.6/site-packages/matplotlib/backends/backend_agg.py:211: RuntimeWarning: Glyph 20122 missing from current font.\n",
      "  font.set_text(s, 0.0, flags=flags)\n",
      "/Users/lixingxuan/anaconda3/envs/tesnorflow/lib/python3.6/site-packages/matplotlib/backends/backend_agg.py:211: RuntimeWarning: Glyph 24030 missing from current font.\n",
      "  font.set_text(s, 0.0, flags=flags)\n",
      "/Users/lixingxuan/anaconda3/envs/tesnorflow/lib/python3.6/site-packages/matplotlib/backends/backend_agg.py:211: RuntimeWarning: Glyph 27700 missing from current font.\n",
      "  font.set_text(s, 0.0, flags=flags)\n",
      "/Users/lixingxuan/anaconda3/envs/tesnorflow/lib/python3.6/site-packages/matplotlib/backends/backend_agg.py:211: RuntimeWarning: Glyph 21153 missing from current font.\n",
      "  font.set_text(s, 0.0, flags=flags)\n",
      "/Users/lixingxuan/anaconda3/envs/tesnorflow/lib/python3.6/site-packages/matplotlib/backends/backend_agg.py:211: RuntimeWarning: Glyph 24037 missing from current font.\n",
      "  font.set_text(s, 0.0, flags=flags)\n",
      "/Users/lixingxuan/anaconda3/envs/tesnorflow/lib/python3.6/site-packages/matplotlib/backends/backend_agg.py:211: RuntimeWarning: Glyph 31243 missing from current font.\n",
      "  font.set_text(s, 0.0, flags=flags)\n",
      "/Users/lixingxuan/anaconda3/envs/tesnorflow/lib/python3.6/site-packages/matplotlib/backends/backend_agg.py:211: RuntimeWarning: Glyph 30340 missing from current font.\n",
      "  font.set_text(s, 0.0, flags=flags)\n",
      "/Users/lixingxuan/anaconda3/envs/tesnorflow/lib/python3.6/site-packages/matplotlib/backends/backend_agg.py:211: RuntimeWarning: Glyph 26032 missing from current font.\n",
      "  font.set_text(s, 0.0, flags=flags)\n",
      "/Users/lixingxuan/anaconda3/envs/tesnorflow/lib/python3.6/site-packages/matplotlib/backends/backend_agg.py:211: RuntimeWarning: Glyph 38382 missing from current font.\n",
      "  font.set_text(s, 0.0, flags=flags)\n",
      "/Users/lixingxuan/anaconda3/envs/tesnorflow/lib/python3.6/site-packages/matplotlib/backends/backend_agg.py:211: RuntimeWarning: Glyph 39064 missing from current font.\n",
      "  font.set_text(s, 0.0, flags=flags)\n",
      "/Users/lixingxuan/anaconda3/envs/tesnorflow/lib/python3.6/site-packages/matplotlib/backends/backend_agg.py:180: RuntimeWarning: Glyph 21152 missing from current font.\n",
      "  font.set_text(s, 0, flags=flags)\n",
      "/Users/lixingxuan/anaconda3/envs/tesnorflow/lib/python3.6/site-packages/matplotlib/backends/backend_agg.py:180: RuntimeWarning: Glyph 21033 missing from current font.\n",
      "  font.set_text(s, 0, flags=flags)\n",
      "/Users/lixingxuan/anaconda3/envs/tesnorflow/lib/python3.6/site-packages/matplotlib/backends/backend_agg.py:180: RuntimeWarning: Glyph 31119 missing from current font.\n",
      "  font.set_text(s, 0, flags=flags)\n",
      "/Users/lixingxuan/anaconda3/envs/tesnorflow/lib/python3.6/site-packages/matplotlib/backends/backend_agg.py:180: RuntimeWarning: Glyph 23612 missing from current font.\n",
      "  font.set_text(s, 0, flags=flags)\n",
      "/Users/lixingxuan/anaconda3/envs/tesnorflow/lib/python3.6/site-packages/matplotlib/backends/backend_agg.py:180: RuntimeWarning: Glyph 20122 missing from current font.\n",
      "  font.set_text(s, 0, flags=flags)\n",
      "/Users/lixingxuan/anaconda3/envs/tesnorflow/lib/python3.6/site-packages/matplotlib/backends/backend_agg.py:180: RuntimeWarning: Glyph 24030 missing from current font.\n",
      "  font.set_text(s, 0, flags=flags)\n",
      "/Users/lixingxuan/anaconda3/envs/tesnorflow/lib/python3.6/site-packages/matplotlib/backends/backend_agg.py:180: RuntimeWarning: Glyph 27700 missing from current font.\n",
      "  font.set_text(s, 0, flags=flags)\n",
      "/Users/lixingxuan/anaconda3/envs/tesnorflow/lib/python3.6/site-packages/matplotlib/backends/backend_agg.py:180: RuntimeWarning: Glyph 21153 missing from current font.\n",
      "  font.set_text(s, 0, flags=flags)\n",
      "/Users/lixingxuan/anaconda3/envs/tesnorflow/lib/python3.6/site-packages/matplotlib/backends/backend_agg.py:180: RuntimeWarning: Glyph 24037 missing from current font.\n",
      "  font.set_text(s, 0, flags=flags)\n",
      "/Users/lixingxuan/anaconda3/envs/tesnorflow/lib/python3.6/site-packages/matplotlib/backends/backend_agg.py:180: RuntimeWarning: Glyph 31243 missing from current font.\n",
      "  font.set_text(s, 0, flags=flags)\n",
      "/Users/lixingxuan/anaconda3/envs/tesnorflow/lib/python3.6/site-packages/matplotlib/backends/backend_agg.py:176: RuntimeWarning: Glyph 30340 missing from current font.\n",
      "  font.load_char(ord(s), flags=flags)\n",
      "/Users/lixingxuan/anaconda3/envs/tesnorflow/lib/python3.6/site-packages/matplotlib/backends/backend_agg.py:176: RuntimeWarning: Glyph 26032 missing from current font.\n",
      "  font.load_char(ord(s), flags=flags)\n",
      "/Users/lixingxuan/anaconda3/envs/tesnorflow/lib/python3.6/site-packages/matplotlib/backends/backend_agg.py:180: RuntimeWarning: Glyph 38382 missing from current font.\n",
      "  font.set_text(s, 0, flags=flags)\n",
      "/Users/lixingxuan/anaconda3/envs/tesnorflow/lib/python3.6/site-packages/matplotlib/backends/backend_agg.py:180: RuntimeWarning: Glyph 39064 missing from current font.\n",
      "  font.set_text(s, 0, flags=flags)\n"
     ]
    },
    {
     "data": {
      "image/png": "[encoded data removed]",
      "text/plain": [
       "<Figure size 432x288 with 2 Axes>"
      ]
     },
     "metadata": {
      "needs_background": "light"
     },
     "output_type": "display_data"
    },
    {
     "data": {
      "image/png": "[encoded data removed]",
      "text/plain": [
       "<Figure size 432x288 with 2 Axes>"
      ]
     },
     "metadata": {
      "needs_background": "light"
     },
     "output_type": "display_data"
    }
   ],
   "source": [
    "import seaborn as sns\n",
    "import matplotlib.pyplot as plt\n",
    "import matplotlib.font_manager as mfm\n",
    "\n",
    "#Font path\n",
    "font_path = \"/System/Library/Fonts/PingFang.ttc\"\n",
    "prop = mfm.FontProperties(fname=font_path)\n",
    "\n",
    "a_f = '加利福尼亚州 水务 工程 的 新 问题'.split(' ')\n",
    "a_e = 'NULL new questions over california water project'.split(' ')\n",
    "a_fe = np.zeros((len(a_f), len(a_e)))\n",
    "for i in range(len(a_f)):\n",
    "    for j in range(len(a_e)):\n",
    "        try:\n",
    "            a_fe[i, j] = soft_cn_t[a_e[j]][a_f[i]][0]\n",
    "        except:\n",
    "            a_fe[i, j] = float(1 / len(unique_c))\n",
    "ax = sns.heatmap(a_fe, linewidth=0.5)\n",
    "ax.set_xticklabels(a_e)\n",
    "ax.set_yticklabels(a_f)\n",
    "plt.show()\n",
    "        \n",
    "b_f = \"一些 州 议员 也 于 周三 责令 对 隧道 费用 支出 情况 进行 一次 州 内 审计 。\".split(' ')\n",
    "b_e = 'NULL on wednesday , state lawmakers ordered a state audit of the tunnels-spending as well .'.split(' ')\n",
    "b_fe = np.zeros((len(b_f), len(b_e)))\n",
    "for i in range(len(b_f)):\n",
    "    for j in range(len(b_e)):\n",
    "        try:\n",
    "            b_fe[i, j] = soft_cn_t[b_e[j]][b_f[i]][0]\n",
    "        except:\n",
    "            b_fe[i, j] = float(1 / len(unique_c))\n",
    "ax = sns.heatmap(b_fe, linewidth=0.5)\n",
    "ax.set_xticklabels(b_e, fontproperties=prop)\n",
    "ax.set_yticklabels(b_f, fontproperties=prop)\n",
    "plt.show() "
   ]
  },
  {
   "cell_type": "code",
   "execution_count": null,
   "metadata": {},
   "outputs": [],
   "source": []
  }
 ],
 "metadata": {
  "colab": {
   "collapsed_sections": [],
   "name": "homework 3.ipynb",
   "provenance": [],
   "version": "0.3.2"
  },
  "kernelspec": {
   "display_name": "Python 3",
   "language": "python",
   "name": "python3"
  },
  "language_info": {
   "codemirror_mode": {
    "name": "ipython",
    "version": 3
   },
   "file_extension": ".py",
   "mimetype": "text/x-python",
   "name": "python",
   "nbconvert_exporter": "python",
   "pygments_lexer": "ipython3",
   "version": "3.6.7"
  }
 },
 "nbformat": 4,
 "nbformat_minor": 1
}
